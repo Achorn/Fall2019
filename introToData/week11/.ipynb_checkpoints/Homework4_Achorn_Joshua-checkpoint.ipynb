{
 "cells": [
  {
   "cell_type": "markdown",
   "metadata": {},
   "source": [
    "##### <a id='top'></a>\n",
    "\n",
    "# Homework 4: Confidence intervals and other things\n",
    "***\n",
    "\n",
    "**Name**: Joshua Achorn\n",
    "\n",
    "worked with dennis\n",
    "***\n",
    "\n",
    "This assignment is due on Moodle by **11:59 PM on Friday November 8**. Your solutions to theoretical questions should be done in Markdown/MathJax directly below the associated question.  Your solutions to computational questions should include any specified Python code and results as well as written commentary on your conclusions.  Remember that you are encouraged to discuss the problems with your instructors and classmates, but **you must write all code and solutions on your own**.  \n",
    "\n",
    "**NOTES**: \n",
    "\n",
    "- Do **NOT** load or use any Python packages that are not available in Anaconda 3.6. \n",
    "- Some problems with code may be autograded.  If we provide a function API **do not** change it.  If we do not provide a function API then you're free to structure your code however you like. \n",
    "- Because you can technically evaluate notebook cells is a non-linear order, it's a good idea to do Cell $\\rightarrow$ Run All as a check before submitting your solutions.  That way if we need to run your code you will know that it will work as expected. \n",
    "- Submit only this Jupyter notebook to Moodle.  Do not compress it using tar, rar, zip, etc. \n",
    "- This should go without saying, but... For any question that asks you to calculate something, you **must show all work to receive credit**. Sparse or nonexistent work will receive sparse or nonexistent credit.\n",
    "\n",
    "---\n",
    "**Shortcuts:**  [Problem 1](#p1) | [Problem 2](#p2) | [Problem 3](#p3) | [Problem 4](#p4)\n",
    "\n",
    "---"
   ]
  },
  {
   "cell_type": "code",
   "execution_count": 12,
   "metadata": {
    "scrolled": true
   },
   "outputs": [],
   "source": [
    "import numpy as np\n",
    "import matplotlib.pyplot as plt\n",
    "import pandas as pd\n",
    "import scipy.stats as stats\n",
    "%matplotlib inline"
   ]
  },
  {
   "cell_type": "markdown",
   "metadata": {},
   "source": [
    "---\n",
    "\n",
    "<a id='p1'></a>\n",
    "[Back to top](#top)\n",
    "\n",
    "### [30 points] Problem 1 - Are sea-levels changing?\n",
    "\n",
    "You have been contacted by the local government of New York City, to assess whether there is statistical evidence for sea-level rise in the area. You obtain from the University of Hawaii Sea Level Center's [gigantic repository of sea-level data](https://uhslc.soest.hawaii.edu/data/?rq) the daily mean sea levels file (posted on Canvas).\n",
    "\n",
    "In this problem, you will:\n",
    "1. practice calculating confidence intervals, \n",
    "1. practice wrangling a real-life data set into a form where you can actually compute these confidence intervals, because life will rarely be so kind as to simply hand you a nicely packaged and cleaned set of data, and\n",
    "1. save NYC and the Statue of Liberty from a watery fate?"
   ]
  },
  {
   "cell_type": "code",
   "execution_count": 13,
   "metadata": {},
   "outputs": [
    {
     "data": {
      "text/html": [
       "<div>\n",
       "<style scoped>\n",
       "    .dataframe tbody tr th:only-of-type {\n",
       "        vertical-align: middle;\n",
       "    }\n",
       "\n",
       "    .dataframe tbody tr th {\n",
       "        vertical-align: top;\n",
       "    }\n",
       "\n",
       "    .dataframe thead th {\n",
       "        text-align: right;\n",
       "    }\n",
       "</style>\n",
       "<table border=\"1\" class=\"dataframe\">\n",
       "  <thead>\n",
       "    <tr style=\"text-align: right;\">\n",
       "      <th></th>\n",
       "      <th>Year</th>\n",
       "      <th>Month</th>\n",
       "      <th>Day</th>\n",
       "      <th>SL</th>\n",
       "    </tr>\n",
       "  </thead>\n",
       "  <tbody>\n",
       "    <tr>\n",
       "      <td>0</td>\n",
       "      <td>1920</td>\n",
       "      <td>6</td>\n",
       "      <td>2</td>\n",
       "      <td>1593</td>\n",
       "    </tr>\n",
       "    <tr>\n",
       "      <td>1</td>\n",
       "      <td>1920</td>\n",
       "      <td>6</td>\n",
       "      <td>3</td>\n",
       "      <td>1605</td>\n",
       "    </tr>\n",
       "    <tr>\n",
       "      <td>2</td>\n",
       "      <td>1920</td>\n",
       "      <td>6</td>\n",
       "      <td>4</td>\n",
       "      <td>1617</td>\n",
       "    </tr>\n",
       "    <tr>\n",
       "      <td>3</td>\n",
       "      <td>1920</td>\n",
       "      <td>6</td>\n",
       "      <td>5</td>\n",
       "      <td>1779</td>\n",
       "    </tr>\n",
       "    <tr>\n",
       "      <td>4</td>\n",
       "      <td>1920</td>\n",
       "      <td>6</td>\n",
       "      <td>6</td>\n",
       "      <td>1722</td>\n",
       "    </tr>\n",
       "  </tbody>\n",
       "</table>\n",
       "</div>"
      ],
      "text/plain": [
       "   Year  Month  Day    SL\n",
       "0  1920      6    2  1593\n",
       "1  1920      6    3  1605\n",
       "2  1920      6    4  1617\n",
       "3  1920      6    5  1779\n",
       "4  1920      6    6  1722"
      ]
     },
     "execution_count": 13,
     "metadata": {},
     "output_type": "execute_result"
    }
   ],
   "source": [
    "# Local and web paths to the data; pick which works for you.\n",
    "filepath = \"sealevel_newyork.csv\"\n",
    "\n",
    "dfSL = pd.read_csv(filepath, header=None)\n",
    "dfSL.rename(columns={0 : 'Year', 1 : 'Month', 2 : 'Day', 3 : 'SL'}, inplace=True)\n",
    "dfSL.head()"
   ]
  },
  {
   "cell_type": "markdown",
   "metadata": {},
   "source": [
    "**Part A:**  Write a function `clean_data` to:\n",
    "1. take in a single argument of a raw sea level data frame (e.g., `dfSL` above),\n",
    "2. compute the fill-value used to replace missing sea level (SL) data (**not** hard-coded!),\n",
    "3. use the Pandas `DataFrame.dropna` method to remove all missing rows of data, \n",
    "4. select only the data point on the second day of each month, and\n",
    "4. return a cleaned Pandas data frame.\n",
    "\n",
    "Use your shiny new function to clean the `dfSL` data frame and save the results in a new data frame.\n",
    "\n",
    "There is a very specific reason to sample only one daily data point per month. We will talk about it later."
   ]
  },
  {
   "cell_type": "code",
   "execution_count": 14,
   "metadata": {},
   "outputs": [
    {
     "data": {
      "text/html": [
       "<div>\n",
       "<style scoped>\n",
       "    .dataframe tbody tr th:only-of-type {\n",
       "        vertical-align: middle;\n",
       "    }\n",
       "\n",
       "    .dataframe tbody tr th {\n",
       "        vertical-align: top;\n",
       "    }\n",
       "\n",
       "    .dataframe thead th {\n",
       "        text-align: right;\n",
       "    }\n",
       "</style>\n",
       "<table border=\"1\" class=\"dataframe\">\n",
       "  <thead>\n",
       "    <tr style=\"text-align: right;\">\n",
       "      <th></th>\n",
       "      <th>Year</th>\n",
       "      <th>Month</th>\n",
       "      <th>Day</th>\n",
       "      <th>SL</th>\n",
       "    </tr>\n",
       "  </thead>\n",
       "  <tbody>\n",
       "    <tr>\n",
       "      <td>0</td>\n",
       "      <td>1920</td>\n",
       "      <td>6</td>\n",
       "      <td>2</td>\n",
       "      <td>1593.0</td>\n",
       "    </tr>\n",
       "    <tr>\n",
       "      <td>30</td>\n",
       "      <td>1920</td>\n",
       "      <td>7</td>\n",
       "      <td>2</td>\n",
       "      <td>1710.0</td>\n",
       "    </tr>\n",
       "    <tr>\n",
       "      <td>61</td>\n",
       "      <td>1920</td>\n",
       "      <td>8</td>\n",
       "      <td>2</td>\n",
       "      <td>1662.0</td>\n",
       "    </tr>\n",
       "    <tr>\n",
       "      <td>92</td>\n",
       "      <td>1920</td>\n",
       "      <td>9</td>\n",
       "      <td>2</td>\n",
       "      <td>1585.0</td>\n",
       "    </tr>\n",
       "    <tr>\n",
       "      <td>122</td>\n",
       "      <td>1920</td>\n",
       "      <td>10</td>\n",
       "      <td>2</td>\n",
       "      <td>1521.0</td>\n",
       "    </tr>\n",
       "    <tr>\n",
       "      <td>153</td>\n",
       "      <td>1920</td>\n",
       "      <td>11</td>\n",
       "      <td>2</td>\n",
       "      <td>1704.0</td>\n",
       "    </tr>\n",
       "    <tr>\n",
       "      <td>183</td>\n",
       "      <td>1920</td>\n",
       "      <td>12</td>\n",
       "      <td>2</td>\n",
       "      <td>1398.0</td>\n",
       "    </tr>\n",
       "    <tr>\n",
       "      <td>214</td>\n",
       "      <td>1921</td>\n",
       "      <td>1</td>\n",
       "      <td>2</td>\n",
       "      <td>1686.0</td>\n",
       "    </tr>\n",
       "    <tr>\n",
       "      <td>245</td>\n",
       "      <td>1921</td>\n",
       "      <td>2</td>\n",
       "      <td>2</td>\n",
       "      <td>1530.0</td>\n",
       "    </tr>\n",
       "    <tr>\n",
       "      <td>273</td>\n",
       "      <td>1921</td>\n",
       "      <td>3</td>\n",
       "      <td>2</td>\n",
       "      <td>1541.0</td>\n",
       "    </tr>\n",
       "    <tr>\n",
       "      <td>304</td>\n",
       "      <td>1921</td>\n",
       "      <td>4</td>\n",
       "      <td>2</td>\n",
       "      <td>1589.0</td>\n",
       "    </tr>\n",
       "    <tr>\n",
       "      <td>334</td>\n",
       "      <td>1921</td>\n",
       "      <td>5</td>\n",
       "      <td>2</td>\n",
       "      <td>1944.0</td>\n",
       "    </tr>\n",
       "    <tr>\n",
       "      <td>365</td>\n",
       "      <td>1921</td>\n",
       "      <td>6</td>\n",
       "      <td>2</td>\n",
       "      <td>1568.0</td>\n",
       "    </tr>\n",
       "    <tr>\n",
       "      <td>395</td>\n",
       "      <td>1921</td>\n",
       "      <td>7</td>\n",
       "      <td>2</td>\n",
       "      <td>1716.0</td>\n",
       "    </tr>\n",
       "    <tr>\n",
       "      <td>426</td>\n",
       "      <td>1921</td>\n",
       "      <td>8</td>\n",
       "      <td>2</td>\n",
       "      <td>1559.0</td>\n",
       "    </tr>\n",
       "    <tr>\n",
       "      <td>457</td>\n",
       "      <td>1921</td>\n",
       "      <td>9</td>\n",
       "      <td>2</td>\n",
       "      <td>1644.0</td>\n",
       "    </tr>\n",
       "    <tr>\n",
       "      <td>487</td>\n",
       "      <td>1921</td>\n",
       "      <td>10</td>\n",
       "      <td>2</td>\n",
       "      <td>1597.0</td>\n",
       "    </tr>\n",
       "    <tr>\n",
       "      <td>518</td>\n",
       "      <td>1921</td>\n",
       "      <td>11</td>\n",
       "      <td>2</td>\n",
       "      <td>1922.0</td>\n",
       "    </tr>\n",
       "    <tr>\n",
       "      <td>2374</td>\n",
       "      <td>1926</td>\n",
       "      <td>12</td>\n",
       "      <td>2</td>\n",
       "      <td>1361.0</td>\n",
       "    </tr>\n",
       "    <tr>\n",
       "      <td>2405</td>\n",
       "      <td>1927</td>\n",
       "      <td>1</td>\n",
       "      <td>2</td>\n",
       "      <td>1542.0</td>\n",
       "    </tr>\n",
       "    <tr>\n",
       "      <td>2436</td>\n",
       "      <td>1927</td>\n",
       "      <td>2</td>\n",
       "      <td>2</td>\n",
       "      <td>1296.0</td>\n",
       "    </tr>\n",
       "    <tr>\n",
       "      <td>2464</td>\n",
       "      <td>1927</td>\n",
       "      <td>3</td>\n",
       "      <td>2</td>\n",
       "      <td>1569.0</td>\n",
       "    </tr>\n",
       "    <tr>\n",
       "      <td>2495</td>\n",
       "      <td>1927</td>\n",
       "      <td>4</td>\n",
       "      <td>2</td>\n",
       "      <td>1722.0</td>\n",
       "    </tr>\n",
       "    <tr>\n",
       "      <td>2525</td>\n",
       "      <td>1927</td>\n",
       "      <td>5</td>\n",
       "      <td>2</td>\n",
       "      <td>1605.0</td>\n",
       "    </tr>\n",
       "    <tr>\n",
       "      <td>2556</td>\n",
       "      <td>1927</td>\n",
       "      <td>6</td>\n",
       "      <td>2</td>\n",
       "      <td>1628.0</td>\n",
       "    </tr>\n",
       "    <tr>\n",
       "      <td>2648</td>\n",
       "      <td>1927</td>\n",
       "      <td>9</td>\n",
       "      <td>2</td>\n",
       "      <td>1662.0</td>\n",
       "    </tr>\n",
       "    <tr>\n",
       "      <td>2678</td>\n",
       "      <td>1927</td>\n",
       "      <td>10</td>\n",
       "      <td>2</td>\n",
       "      <td>1529.0</td>\n",
       "    </tr>\n",
       "    <tr>\n",
       "      <td>2709</td>\n",
       "      <td>1927</td>\n",
       "      <td>11</td>\n",
       "      <td>2</td>\n",
       "      <td>1618.0</td>\n",
       "    </tr>\n",
       "    <tr>\n",
       "      <td>2739</td>\n",
       "      <td>1927</td>\n",
       "      <td>12</td>\n",
       "      <td>2</td>\n",
       "      <td>1614.0</td>\n",
       "    </tr>\n",
       "    <tr>\n",
       "      <td>2770</td>\n",
       "      <td>1928</td>\n",
       "      <td>1</td>\n",
       "      <td>2</td>\n",
       "      <td>1181.0</td>\n",
       "    </tr>\n",
       "    <tr>\n",
       "      <td>2801</td>\n",
       "      <td>1928</td>\n",
       "      <td>2</td>\n",
       "      <td>2</td>\n",
       "      <td>1236.0</td>\n",
       "    </tr>\n",
       "    <tr>\n",
       "      <td>2830</td>\n",
       "      <td>1928</td>\n",
       "      <td>3</td>\n",
       "      <td>2</td>\n",
       "      <td>1333.0</td>\n",
       "    </tr>\n",
       "    <tr>\n",
       "      <td>2861</td>\n",
       "      <td>1928</td>\n",
       "      <td>4</td>\n",
       "      <td>2</td>\n",
       "      <td>1471.0</td>\n",
       "    </tr>\n",
       "    <tr>\n",
       "      <td>2891</td>\n",
       "      <td>1928</td>\n",
       "      <td>5</td>\n",
       "      <td>2</td>\n",
       "      <td>1481.0</td>\n",
       "    </tr>\n",
       "    <tr>\n",
       "      <td>2922</td>\n",
       "      <td>1928</td>\n",
       "      <td>6</td>\n",
       "      <td>2</td>\n",
       "      <td>1543.0</td>\n",
       "    </tr>\n",
       "    <tr>\n",
       "      <td>2952</td>\n",
       "      <td>1928</td>\n",
       "      <td>7</td>\n",
       "      <td>2</td>\n",
       "      <td>1627.0</td>\n",
       "    </tr>\n",
       "    <tr>\n",
       "      <td>2983</td>\n",
       "      <td>1928</td>\n",
       "      <td>8</td>\n",
       "      <td>2</td>\n",
       "      <td>1546.0</td>\n",
       "    </tr>\n",
       "    <tr>\n",
       "      <td>3014</td>\n",
       "      <td>1928</td>\n",
       "      <td>9</td>\n",
       "      <td>2</td>\n",
       "      <td>1656.0</td>\n",
       "    </tr>\n",
       "    <tr>\n",
       "      <td>3044</td>\n",
       "      <td>1928</td>\n",
       "      <td>10</td>\n",
       "      <td>2</td>\n",
       "      <td>1728.0</td>\n",
       "    </tr>\n",
       "    <tr>\n",
       "      <td>3075</td>\n",
       "      <td>1928</td>\n",
       "      <td>11</td>\n",
       "      <td>2</td>\n",
       "      <td>1522.0</td>\n",
       "    </tr>\n",
       "    <tr>\n",
       "      <td>3105</td>\n",
       "      <td>1928</td>\n",
       "      <td>12</td>\n",
       "      <td>2</td>\n",
       "      <td>1465.0</td>\n",
       "    </tr>\n",
       "    <tr>\n",
       "      <td>3136</td>\n",
       "      <td>1929</td>\n",
       "      <td>1</td>\n",
       "      <td>2</td>\n",
       "      <td>1365.0</td>\n",
       "    </tr>\n",
       "    <tr>\n",
       "      <td>3167</td>\n",
       "      <td>1929</td>\n",
       "      <td>2</td>\n",
       "      <td>2</td>\n",
       "      <td>1388.0</td>\n",
       "    </tr>\n",
       "    <tr>\n",
       "      <td>3195</td>\n",
       "      <td>1929</td>\n",
       "      <td>3</td>\n",
       "      <td>2</td>\n",
       "      <td>1623.0</td>\n",
       "    </tr>\n",
       "    <tr>\n",
       "      <td>3226</td>\n",
       "      <td>1929</td>\n",
       "      <td>4</td>\n",
       "      <td>2</td>\n",
       "      <td>1207.0</td>\n",
       "    </tr>\n",
       "    <tr>\n",
       "      <td>3256</td>\n",
       "      <td>1929</td>\n",
       "      <td>5</td>\n",
       "      <td>2</td>\n",
       "      <td>1757.0</td>\n",
       "    </tr>\n",
       "    <tr>\n",
       "      <td>3287</td>\n",
       "      <td>1929</td>\n",
       "      <td>6</td>\n",
       "      <td>2</td>\n",
       "      <td>1636.0</td>\n",
       "    </tr>\n",
       "    <tr>\n",
       "      <td>3317</td>\n",
       "      <td>1929</td>\n",
       "      <td>7</td>\n",
       "      <td>2</td>\n",
       "      <td>1625.0</td>\n",
       "    </tr>\n",
       "    <tr>\n",
       "      <td>3348</td>\n",
       "      <td>1929</td>\n",
       "      <td>8</td>\n",
       "      <td>2</td>\n",
       "      <td>1627.0</td>\n",
       "    </tr>\n",
       "    <tr>\n",
       "      <td>3379</td>\n",
       "      <td>1929</td>\n",
       "      <td>9</td>\n",
       "      <td>2</td>\n",
       "      <td>1535.0</td>\n",
       "    </tr>\n",
       "  </tbody>\n",
       "</table>\n",
       "</div>"
      ],
      "text/plain": [
       "      Year  Month  Day      SL\n",
       "0     1920      6    2  1593.0\n",
       "30    1920      7    2  1710.0\n",
       "61    1920      8    2  1662.0\n",
       "92    1920      9    2  1585.0\n",
       "122   1920     10    2  1521.0\n",
       "153   1920     11    2  1704.0\n",
       "183   1920     12    2  1398.0\n",
       "214   1921      1    2  1686.0\n",
       "245   1921      2    2  1530.0\n",
       "273   1921      3    2  1541.0\n",
       "304   1921      4    2  1589.0\n",
       "334   1921      5    2  1944.0\n",
       "365   1921      6    2  1568.0\n",
       "395   1921      7    2  1716.0\n",
       "426   1921      8    2  1559.0\n",
       "457   1921      9    2  1644.0\n",
       "487   1921     10    2  1597.0\n",
       "518   1921     11    2  1922.0\n",
       "2374  1926     12    2  1361.0\n",
       "2405  1927      1    2  1542.0\n",
       "2436  1927      2    2  1296.0\n",
       "2464  1927      3    2  1569.0\n",
       "2495  1927      4    2  1722.0\n",
       "2525  1927      5    2  1605.0\n",
       "2556  1927      6    2  1628.0\n",
       "2648  1927      9    2  1662.0\n",
       "2678  1927     10    2  1529.0\n",
       "2709  1927     11    2  1618.0\n",
       "2739  1927     12    2  1614.0\n",
       "2770  1928      1    2  1181.0\n",
       "2801  1928      2    2  1236.0\n",
       "2830  1928      3    2  1333.0\n",
       "2861  1928      4    2  1471.0\n",
       "2891  1928      5    2  1481.0\n",
       "2922  1928      6    2  1543.0\n",
       "2952  1928      7    2  1627.0\n",
       "2983  1928      8    2  1546.0\n",
       "3014  1928      9    2  1656.0\n",
       "3044  1928     10    2  1728.0\n",
       "3075  1928     11    2  1522.0\n",
       "3105  1928     12    2  1465.0\n",
       "3136  1929      1    2  1365.0\n",
       "3167  1929      2    2  1388.0\n",
       "3195  1929      3    2  1623.0\n",
       "3226  1929      4    2  1207.0\n",
       "3256  1929      5    2  1757.0\n",
       "3287  1929      6    2  1636.0\n",
       "3317  1929      7    2  1625.0\n",
       "3348  1929      8    2  1627.0\n",
       "3379  1929      9    2  1535.0"
      ]
     },
     "execution_count": 14,
     "metadata": {},
     "output_type": "execute_result"
    }
   ],
   "source": [
    "def clean_data(df):\n",
    "    # your code goes here!\n",
    "    dfClean = df.replace(-32767, np.nan)\n",
    "    dfClean = dfClean.dropna()\n",
    "    dfClean = dfClean.loc[(dfClean[\"Day\"] == 2)]\n",
    "    \n",
    "    return dfClean\n",
    "\n",
    "dfClean = clean_data(dfSL)\n",
    "dfClean.head(50)"
   ]
  },
  {
   "cell_type": "code",
   "execution_count": 15,
   "metadata": {},
   "outputs": [
    {
     "data": {
      "text/plain": [
       "1003"
      ]
     },
     "execution_count": 15,
     "metadata": {},
     "output_type": "execute_result"
    }
   ],
   "source": [
    "len(dfClean)"
   ]
  },
  {
   "cell_type": "markdown",
   "metadata": {},
   "source": [
    "**Part B:**  Plot the cleaned time series of sea levels. Be sure to label your axes, including units. The UHSLC data portal includes a link to the metadata accompanying our data set; if you are not sure about units, that would be a good place to start looking. For the $x$-axis, place the $x$ tick marks on January 1 of each year that is divisible by 10 (i.e., 1920, 1930, ...), and label with that year. You may need to do additional processing in order to grab these indices. \n"
   ]
  },
  {
   "cell_type": "code",
   "execution_count": 16,
   "metadata": {},
   "outputs": [
    {
     "data": {
      "text/plain": [
       "Text(0, 0.5, 'Daily Mean Sea Level')"
      ]
     },
     "execution_count": 16,
     "metadata": {},
     "output_type": "execute_result"
    },
    {
     "data": {
      "image/png": "[encoded data removed]",
      "text/plain": [
       "<Figure size 576x288 with 1 Axes>"
      ]
     },
     "metadata": {
      "needs_background": "light"
     },
     "output_type": "display_data"
    }
   ],
   "source": [
    "fig, ax = plt.subplots(nrows = 1, ncols = 1, figsize = (8,4))\n",
    "\n",
    "dfClean.plot(x='Year', y = 'SL',  ax = ax)\n",
    "ax.set_title(\"Daily Mean Sea Levels from 1920-2020\")\n",
    "ax.set_ylabel(\"Daily Mean Sea Level\")\n",
    "# plt.legend()"
   ]
  },
  {
   "cell_type": "markdown",
   "metadata": {},
   "source": [
    "**Part C:** Use your cleaned sea levels data frame to create two new Pandas data frames or series:\n",
    "1. one object to contain the sea levels between (and including) the years 1986 and 1995, and\n",
    "2. another object to contain the sea levels between (and including) the years 2006 and 2015.\n",
    "\n",
    "Then, create a single-panel figure that includes density histograms of each of the two decades of sea levels. Be sure to label everything appropriately.\n",
    "\n",
    "Finally, based on the data in front of you, formulate and state a hypothesis about how the mean sea level in the decade 2006-2015 compares to the mean sea level in the decade 1986-1995."
   ]
  },
  {
   "cell_type": "code",
   "execution_count": 17,
   "metadata": {},
   "outputs": [
    {
     "data": {
      "text/plain": [
       "<matplotlib.legend.Legend at 0x1a2323ed50>"
      ]
     },
     "execution_count": 17,
     "metadata": {},
     "output_type": "execute_result"
    },
    {
     "data": {
      "image/png": "[encoded data removed]",
      "text/plain": [
       "<Figure size 576x288 with 1 Axes>"
      ]
     },
     "metadata": {
      "needs_background": "light"
     },
     "output_type": "display_data"
    }
   ],
   "source": [
    "dfBoomer = dfClean.loc[(dfClean[\"Year\"] <= 1995) & (dfClean[\"Year\"] >= 1986)]\n",
    "dfGenZ = dfClean.loc[(dfClean[\"Year\"] <= 2015) & (dfClean[\"Year\"] >= 2006)]\n",
    "\n",
    "fig, ax = plt.subplots(nrows = 1, ncols = 1, figsize = (8,4))\n",
    "\n",
    "dfBoomer[\"SL\"].hist(density= True,  ax = ax ,  alpha = 0.8, label = \"1986-1995\")\n",
    "dfGenZ[\"SL\"].hist(density = True,  ax = ax, facecolor = 'pink', alpha = 0.8, label = \"2006-2015\")\n",
    "ax.set_title(\"Daily Mean Sea Levels from 1920-2020\")\n",
    "ax.set_xlabel(\"Daily Mean Sea Level\")\n",
    "ax.set_ylabel(\"Density\")\n",
    "plt.legend()"
   ]
  },
  {
   "cell_type": "markdown",
   "metadata": {},
   "source": [
    "As we can see in the density graph, our 2000s  dataframe has a higher average daily sea level than 1900s."
   ]
  },
  {
   "cell_type": "markdown",
   "metadata": {},
   "source": [
    "**Part D:** Compute a 99.9% confidence interval for each of (1) the mean sea level in the 1986-1995 decade ($\\mu_{1986-1995}$) and (2) the mean sea level in the 2006-2015 decade ($\\mu_{2006-2015}$).  You may use Python for arithmetic operations and executing the calculations, but the relevant steps/set-up should be displayed in Markdown/MathJax.\n",
    "\n",
    "Based on these two confidence intervals, do you think there is sufficient evidence to conclude that there is or is not a significant difference in the mean sea level between 1986-1995 and 2006-2015? Justify your answer. "
   ]
  },
  {
   "cell_type": "code",
   "execution_count": 18,
   "metadata": {},
   "outputs": [
    {
     "name": "stdout",
     "output_type": "stream",
     "text": [
      "BOOMERS:\n",
      "\tSample Size: 76\n",
      "\tMean: 1747.6052631578948\n",
      "\tStandard Div: 138.8568643313316\n",
      "\tCI: [ 1695.186298365009 , 1800.0242279507806 ]\n",
      "\n",
      "GENZ:\n",
      "\tSample Size: 120\n",
      "\tMean: 1879.1666666666667\n",
      "\tStandard Div: 152.84552169233012\n",
      "\tCI: [ 1833.2479250522397 , 1925.0854082810938 ]\n"
     ]
    }
   ],
   "source": [
    "import math\n",
    "\n",
    "def ci(df):\n",
    "    n = len(df)\n",
    "    print(\"\\tSample Size:\", n)\n",
    "    mean = np.mean(df['SL'])\n",
    "    print(\"\\tMean:\" ,mean)\n",
    "    s = np.std(df[\"SL\"], ddof = 1)\n",
    "    print(\"\\tStandard Div:\" ,s)\n",
    "    z = 3.291\n",
    "    ci = z*(s/math.sqrt(n))\n",
    "    print(\"\\tCI: [\", mean - ci , \",\" , mean + ci, \"]\")\n",
    "              \n",
    "print(\"BOOMERS:\")\n",
    "ci(dfBoomer)\n",
    "\n",
    "print(\"\\nGENZ:\")\n",
    "ci(dfGenZ)"
   ]
  },
  {
   "cell_type": "markdown",
   "metadata": {},
   "source": [
    "confidence inteval formula $\\bar{X} \\pm Z \\frac{s}{\\sqrt{(n)}}$\n",
    "\n",
    "looking at our CI information, we can see that our confidence intervals don't even touch leaving me to believe that there is a significant difference in our two data sets"
   ]
  },
  {
   "cell_type": "markdown",
   "metadata": {},
   "source": [
    "**Part E:**  Compute a 99.9% confidence interval for the ***difference in mean sea level*** between the 2006-2015 and the 1986-1995 decades ($\\mu_{2006-2015} - \\mu_{1986-1995}$. Based on this, make a conclusion regarding your hypothesis from **Part C**, and compare to what your results in **Part D** implied. You may use Python for arithmetic operations and executing the calculations, but the relevant steps/set-up should be displayed in Markdown/MathJax."
   ]
  },
  {
   "cell_type": "markdown",
   "metadata": {},
   "source": [
    "standard deviation = $\\sigma_{\\bar{x_1}-\\bar{x_2}} = \\sqrt{\\frac{\\sigma_1^2}{n_1}+\\frac{\\sigma_2^2}{n_2}}$\n",
    "\n",
    "we want to test $H_0: \\mu_1 = \n",
    "\\mu_2$\n",
    "\n",
    "$Z = \\frac{\\bar{X}_1-\\bar{X}_2}{\\sqrt{\\frac{\\sigma_1^2}{n_1}+\\frac{\\sigma_2^2}{n_2}}}$\n",
    "\n",
    "$\\bar{X_1}- \\bar X_2 = 1879.167 -1747.61 = 131.56$\n",
    "\n",
    "z score for 99.95 = 3.29\n",
    "\n",
    "there is a 99.9 that 131.56 is within $3.29 * \\sigma_{\\bar X_1 - \\bar X_2}$ of the $\\mu_{\\bar X_1 - \\bar X_2}$\n",
    "\n",
    "$\\sigma_{\\bar X_1 - \\bar X_2} = \\sqrt{\\frac{\\sigma_1^2}{n_1}+\\frac{\\sigma_2^2}{n_2}} =\\sqrt{\\frac{138.8569^2}{76}+\\frac{152.8455^2}{120}} =\\sqrt{\\frac{19281.2387}{76}+\\frac{23361.7468}{120}}\n",
    "=\\sqrt{253.701+194.6812} = 21.175$\n",
    "\n",
    "our interval = 131.56 $\\pm$69.6658723553 = $[61.89,201.22]$\n"
   ]
  },
  {
   "cell_type": "markdown",
   "metadata": {},
   "source": [
    "$$CI = \\bar x_{2006 - 2015} - \\bar x_{1986-1995} \\pm z_{0.001/2} \\sqrt{\\frac{s^2_{2006 - 2015}}{n_{2006 - 2015} } + \\frac{s^2_{1986−1995}}{n_{1986−1995}}}$$\n"
   ]
  },
  {
   "cell_type": "markdown",
   "metadata": {},
   "source": [
    "**Part F:**  The confidence intervals from **Parts D** and **E** were derived using the Central Limit Theorem.  Which assumption of the Central Limit Theorem would likely be violated if we took more than one measurement per month to form our samples, and why?"
   ]
  },
  {
   "cell_type": "markdown",
   "metadata": {},
   "source": [
    "There is a tidal cycle each month, so measurements within one month of each other are likely not independent, which would violate one of the key assumptions of the CLT."
   ]
  },
  {
   "cell_type": "markdown",
   "metadata": {},
   "source": [
    "---\n",
    "\n",
    "<a id='p2'></a>\n",
    "[Back to top](#top)\n",
    "\n",
    "### [25 points] Problem 2 - Waiting for the Bus\n",
    "\n",
    "You are waiting for the bus, and are rather impatient.\n",
    "Your friend tells you that busses arrive according to an exponential distribution with parameter $\\lambda=1/10$ (busses/min) for a *mean* waiting time of 10 minutes.  You've been waiting for a while, and want to prove their hypothesis wrong: you're thinking the wait is longer than that (one-tailed).\n",
    "\t\t\n",
    "(Note: You may use the approximation $e^3\\approx20$ when applicable on this problem.  You may do calculations in Python if you wish, but all exposition should be in markdown.)\n",
    "\n",
    "**Part A:** State the null and alternative hypotheses being tested."
   ]
  },
  {
   "cell_type": "markdown",
   "metadata": {},
   "source": [
    "$H_0 = X = 10$\n",
    "\n",
    "$H_1 = X > 10$"
   ]
  },
  {
   "cell_type": "markdown",
   "metadata": {},
   "source": [
    "**Part B:** Devise a test of the form \"reject if $X>c$\" where $c$ is how long you have to wait until the bus arrives.  Use a significance of $\\alpha= .05$.  How long do you wait before you reject the null hypothesis with a probability of type I error of 5%?"
   ]
  },
  {
   "cell_type": "markdown",
   "metadata": {},
   "source": [
    "type 1 rejecting null even though you shouldnt have. \n",
    "alpha region = rejection region \n",
    "\n",
    "\n",
    "$\\int_c^\\infty \\lambda e^{-\\lambda x} dx = 1 - \\int_0^{c} \\lambda e^{-\\lambda x } dx = 0.5$\n",
    "\n",
    "$\\lambda = \\frac{1}{10}$\n",
    "\n",
    "from our integral, our variable c comes out to 30\n",
    "\n",
    "\n"
   ]
  },
  {
   "cell_type": "markdown",
   "metadata": {},
   "source": [
    "**Part C:** What is the power of your test if the true rate is $\\lambda=1/60$?  (NB: **Power** is defined as the complement of making a Type II Error: it's the rate at which you correctly reject a false null hypothesis)"
   ]
  },
  {
   "cell_type": "markdown",
   "metadata": {},
   "source": [
    "$ 1 - \\int_0^{30} \\lambda e^{-\\lambda x } dx = 0.5$\n",
    "\n",
    "$\\lambda = \\frac{1}{60}$\n",
    "\n",
    "from our integral, our variable c turns out to be 0.60653\n"
   ]
  },
  {
   "cell_type": "markdown",
   "metadata": {},
   "source": [
    "**Part D:** It turns out neither the null nor alternative are correct!  The *true* distribution of busses was a continuous uniform distribution with pdf\n",
    "$$f(x)=\\begin{cases}\n",
    "\t\t\\frac{1}{60} & 0<x<60 \\, min\\\\\n",
    "\t\t0 & else\n",
    "\t\t\\end{cases}$$\n",
    "\t\t\n",
    "What is the probability that you reject the null hypothesis?  What's different about this and how we've been discussing power/Type II error rates?"
   ]
  },
  {
   "cell_type": "markdown",
   "metadata": {},
   "source": [
    "$1-30(\\frac{1}{60}) = 0.5$"
   ]
  },
  {
   "cell_type": "markdown",
   "metadata": {},
   "source": [
    "finding the area under the curve \n",
    "\n",
    "the probability that we reject the null hypothesis is 0.5"
   ]
  },
  {
   "cell_type": "markdown",
   "metadata": {},
   "source": [
    "---\n",
    "\n",
    "<a id='p3'></a>\n",
    "[Back to top](#top)\n",
    "\n",
    "### [30 points] Problem 3 - Exploring Confidence Intervals \n",
    "\n",
    "The [Gumbel](https://en.wikipedia.org/wiki/Gumbel_distribution) distribution is one of several distributions frequently used to model environmental extremes (for example, extreme temperatures and sea levels).  It is also fairly asymmetric, and thus interesting for investigating confidence intervals.  It is implemented in scipy.stats as [gumbel_r](https://docs.scipy.org/doc/scipy/reference/generated/scipy.stats.gumbel_r.html), where the appendix \"\\_r\" denotes the right-skewed version of the Gumbel distribution (as opposed to the left-skewed)."
   ]
  },
  {
   "cell_type": "markdown",
   "metadata": {},
   "source": [
    "**Part A**: Complete the following code cell to plot a histogram of 100 realizations from the Gumbel distribution with parameters $\\mu=12$ and $\\beta=2$.  Be sure to leave this cell executed before turning in your assignment! Make your histogram grey with gold edges."
   ]
  },
  {
   "cell_type": "code",
   "execution_count": 19,
   "metadata": {},
   "outputs": [
    {
     "data": {
      "image/png": "[encoded data removed]",
      "text/plain": [
       "<Figure size 864x576 with 1 Axes>"
      ]
     },
     "metadata": {
      "needs_background": "light"
     },
     "output_type": "display_data"
    }
   ],
   "source": [
    "mu = 12\n",
    "beta = 2\n",
    "n_sample = 100\n",
    "x = stats.gumbel_r.rvs(loc=mu, scale=beta, size=n_sample)\n",
    "\n",
    "fig, ax = plt.subplots(nrows=1, ncols=1, figsize=(12,8))\n",
    "plt.hist(x, color=\"gray\",edgecolor=\"gold\", bins=20, density=True)\n",
    "ax.grid(alpha=0.25)\n",
    "ax.set_axisbelow(True)\n",
    "ax.set_xlabel('X')\n",
    "ax.set_ylabel('Density')\n",
    "ax.set_title(r'Gumbel($\\mu=${}, $\\beta=${})'.format(mu,beta))\n",
    "plt.xlim([0,35])\n",
    "plt.show()"
   ]
  },
  {
   "cell_type": "markdown",
   "metadata": {},
   "source": [
    "**Part B:** Look up the analytical mean and variance of the Gumbel distribution with parameters $\\mu=12$ and $\\beta=3$ and calculate them here by hand.  Note that the Euler–Mascheroni constant can be accessed via `np.euler_gamma`. \n",
    "\n",
    "Use the empirical mean from your sample in **Part A**, and the true variance of the Gumbel distribution to compute by hand a 99% confidence interval for the mean."
   ]
  },
  {
   "cell_type": "code",
   "execution_count": 20,
   "metadata": {},
   "outputs": [
    {
     "name": "stdout",
     "output_type": "stream",
     "text": [
      "[ 12.74055816396682  ,  14.722735825442378 ]\n"
     ]
    }
   ],
   "source": [
    "mu = 12\n",
    "beta = 3\n",
    "\n",
    "mean = mu + np.euler_gamma*beta\n",
    "std_dev = beta*np.pi/np.sqrt(6)\n",
    "\n",
    "alpha = 0.01 / 2\n",
    "z = stats.norm.ppf(1-alpha)\n",
    "\n",
    "interval = z*std_dev/np.sqrt(n_sample)\n",
    "print(\"[\", mean - interval ,\" , \" , mean + interval ,\"]\")"
   ]
  },
  {
   "cell_type": "markdown",
   "metadata": {},
   "source": []
  },
  {
   "cell_type": "markdown",
   "metadata": {},
   "source": [
    "**Part C:  A theoretical interlude.** When Stella O'Flaherty (the famous octopus) ran her solution code for **Part B**, she obtained a 99% confidence interval of $[12.73,  14.72]$ for the mean of the $Gum(\\mu=12, \\beta=3)$ distribution. For each of the following, explain why or why not the situation described is correct, given the technical definition of a 99% confidence interval we went over in class.\n",
    "\n",
    "**(i)** If you had no other evidence regarding true mean of the $Gum(\\mu=12, \\beta=3)$ distribution, you could say there is a 99% chance that its true mean falls between 12.73 and 14.72.\n",
    "\n",
    "**(ii)** If a class of 100 students all construct 99% confidence intervals for the mean of the $Gum(\\mu=12, \\beta=3)$ distribution, then we expect about 99 of their CIs to contain the true mean, and about 1 of them to miss the true mean.\n",
    "\n",
    "**(iii)** There is a 99% probability that any given random variable sampled from $Gum(\\mu=12, \\beta=3)$ will be between 12.73 and 14.72."
   ]
  },
  {
   "cell_type": "markdown",
   "metadata": {},
   "source": [
    "i) This isn't true because the CI does not give any evidence regarding the interval \n",
    "\n",
    "\n",
    "ii) This is true because that's the purpose of the CI \n",
    "\n",
    "\n",
    "iii) This is false because the Confidence interval only deals with the true mean"
   ]
  },
  {
   "cell_type": "markdown",
   "metadata": {},
   "source": [
    "**Part D:** In this part you'll write a function to investigate the _coverage properties_ of a confidence interval for the mean of the Gumbel distribution. Complete the following function to randomly sample $m=500$ sample means with sample size $n=100$ for the Gumbel distribution with parameters $\\mu=12$ and $\\beta=3$.  For each random sample, compute the 75% confidence interval for the mean. Note that you actually know that the variance for the true population distribution is, $\\sigma^2$.  Your function should do two things: \n",
    "\n",
    "1. Report the proportion of confidence intervals that successfully cover the true mean of the distribution \n",
    "2. Make a plot of 50 randomly selected confidence intervals. Overlay the intervals on the line $y=\\textrm{True mean}$ (from **Part B**). Color confidence intervals black if they cover the true mean, and red if they don't.  \n",
    "\n",
    "Be sure to leave this cell executed before turning in your assignment!"
   ]
  },
  {
   "cell_type": "code",
   "execution_count": 22,
   "metadata": {},
   "outputs": [
    {
     "name": "stdout",
     "output_type": "stream",
     "text": [
      "proportion of CI that sucessfuly cover the true mean of distrib.: 0.788\n"
     ]
    },
    {
     "data": {
      "image/png": "[encoded data removed]",
      "text/plain": [
       "<Figure size 864x576 with 1 Axes>"
      ]
     },
     "metadata": {
      "needs_background": "light"
     },
     "output_type": "display_data"
    }
   ],
   "source": [
    "import random\n",
    "\n",
    "def confidence_intervals(m=500, n=100):\n",
    "    mu = 12\n",
    "    beta = 3\n",
    "    alpha = (1 - .75)/2\n",
    "    mean = mu + np.euler_gamma*beta\n",
    "    std_dev = beta * np.pi/np.sqrt(6)\n",
    "    z = stats.norm.ppf(1 - alpha)\n",
    "    interval = z*std_dev/np.sqrt(n)\n",
    "    counter = 0\n",
    "    CI = []\n",
    "    \n",
    "    for i in range(500):\n",
    "        x = stats.gumbel_r.rvs(loc=mu, scale=beta, size=n_sample)\n",
    "        _mean = np.mean(x)\n",
    "        lower_limit = _mean - interval\n",
    "        upper_limit = _mean + interval\n",
    "        CI.append([lower_limit, upper_limit])\n",
    "        if((mean >= lower_limit) & (mean <= upper_limit)):\n",
    "            counter += 1\n",
    "\n",
    "    print(\"proportion of CI that sucessfuly cover the true mean of distrib.:\",counter/m)\n",
    "    \n",
    "    fig, axi = plt.subplots(nrows=1, ncols=1, figsize=(12,8))\n",
    "    plt.plot([0, 51], [mean, mean], color=\"blue\")\n",
    "    color = \"\"\n",
    "    for i in range(50):\n",
    "        lower_limit, upper_limit = random.choice(CI)\n",
    "        if(mean >= lower_limit and mean <= upper_limit):\n",
    "            color = \"black\"\n",
    "        else:\n",
    "            color = \"red\"\n",
    "        plt.plot([i+1, i+1], [upper_limit, lower_limit], color=color)\n",
    "    \n",
    "confidence_intervals()"
   ]
  },
  {
   "cell_type": "markdown",
   "metadata": {},
   "source": [
    "**Part E:** Does the proportion of confidence intervals that cover the true mean of the distribution agree with the theory described in class?  Justify your conclusion. "
   ]
  },
  {
   "cell_type": "markdown",
   "metadata": {},
   "source": [
    "As it covers 75.6% of the time, I i believe it does"
   ]
  },
  {
   "cell_type": "markdown",
   "metadata": {},
   "source": [
    "---\n",
    "\n",
    "<a id='p4'></a>\n",
    "[Back to top](#top)\n",
    "\n",
    "### [15 points] Problem 4 - Freethrow Throwbacks\n",
    "***\n",
    "\n",
    "Keep your skills sharp by answering these straightforward questions."
   ]
  },
  {
   "cell_type": "markdown",
   "metadata": {},
   "source": [
    "**Part A**: <font color='green'>Your Michael Jordan in his prime...It's the sixth game of the 1998 NBA Finals and Byron Russel fouls you, but when you step up to take the freethrow, your transported to a CSCI 3022 classroom. Solve the following to \"make\" the freethrow:</font>\n",
    "\n",
    "You have a shuffled deck of cards. It includes the usual 52 cards and 2 Jokers. You flip over the cards one by one, without replacing them in the deck. You count how many cards you'll have to flip until you flip four of the following five cards: the six of hearts, the eight of diamonds, the king of clubs, and both of the jokers.  You repeat this many times. \n",
    "\n",
    "Simulate this process at least 25000 times. Plot a histogram with binsize=1 of the outcomes, in lightgrey with white outline. Compute the mean, median, and mode for this dataset, indicate them on the plot using a line, with linstyles of green dashed, red dotted, and black solid, respectively. Use a legend to label your histogram (of the distribution of flips), mean, median. Does this data look positively or negatively skewed? Explain below in a markdown cell, talk about the mean, median, and the shape of the histogram in your answer."
   ]
  },
  {
   "cell_type": "code",
   "execution_count": 11,
   "metadata": {
    "scrolled": true
   },
   "outputs": [
    {
     "name": "stdout",
     "output_type": "stream",
     "text": [
      "done\n"
     ]
    },
    {
     "data": {
      "text/plain": [
       "<matplotlib.legend.Legend at 0x7f7a977b5198>"
      ]
     },
     "execution_count": 11,
     "metadata": {},
     "output_type": "execute_result"
    },
    {
     "data": {
      "image/png": "[encoded data removed]",
      "text/plain": [
       "<Figure size 576x288 with 1 Axes>"
      ]
     },
     "metadata": {
      "needs_background": "light"
     },
     "output_type": "display_data"
    }
   ],
   "source": [
    "import random\n",
    "number = [1, 2, 3, 4, 5, 6, 7, 8, 9, 10, 'j' , 'q' , 'k']\n",
    "suit = ['heart', 'diamond', 'spade', 'club']\n",
    "deck = [['joker'], ['joker']]\n",
    "for i in number:\n",
    "    for j in suit:\n",
    "        deck.append([i,j])\n",
    "\n",
    "        \n",
    "theCards = [[6, 'heart'], [8, 'diamond'],['k', 'club'],['joker']]\n",
    "res = np.array([])\n",
    "\n",
    "for i in range(25000):\n",
    "    testDeck = deck.copy()\n",
    "    cards = 0\n",
    "    counter = 0\n",
    "    while(cards < 4):\n",
    "        card = random.choice(testDeck)\n",
    "#         print(card)\n",
    "        if(card in theCards):                                #if card is a unique card\n",
    "            cards += 1\n",
    "#             print(card, \"Is Special\")\n",
    "        testDeck.remove(card)\n",
    "        counter += 1\n",
    "    res = np.append(res, counter)\n",
    "\n",
    "print('done')\n",
    "                \n",
    "my_bins = range(0,54,1)\n",
    "fig, ax = plt.subplots(nrows = 1, ncols = 1, figsize = (8,4))\n",
    "mean = np.mean(res)\n",
    "median = np.median(res)\n",
    "mode = stats.mode(res)[0]\n",
    "ds = pd.DataFrame(res)\n",
    "ds.hist(ax = ax, bins = my_bins, facecolor = 'pink')\n",
    "plt.axvline(mean, color = 'black', linestyle = 'dashed', linewidth = 1)\n",
    "plt.axvline(median, color = 'blue', linestyle = 'dashed', linewidth = 1)\n",
    "plt.axvline(mode, color = 'brown', linestyle = 'dashed', linewidth = 1)\n",
    "\n",
    "h,labels = ax.get_legend_handles_labels()\n",
    "labels[:1] = ['mean','median', 'mode']\n",
    "ax.legend(labels = labels)"
   ]
  },
  {
   "cell_type": "markdown",
   "metadata": {},
   "source": [
    "the data looks negatively skewed and unimodal. because of the skew, the mean > median"
   ]
  },
  {
   "cell_type": "markdown",
   "metadata": {},
   "source": [
    "***\n",
    "\n",
    "**Part B**: <font color='green'> Now you're back up for another freethrow, but this time you've been transported to the third overtime of the famous [1976 NBA Finals Game Five](https://www.youtube.com/watch?v=3ZjNDvuMxzc). You line up for a freethrow, but oddly enough you're again transported back to CSCI 3022... Why does this keep happening? If you solve this problem, you make the freethrow:</font>\n",
    "\n",
    "In general, which is wider: a 95% confidence interval or a 99% confidence interval? How would you explain this to your younger sibling, who is not a statistician?"
   ]
  },
  {
   "cell_type": "markdown",
   "metadata": {},
   "source": [
    "A 99% confidence interval is wider than a 95% confidence interval. As we have a higher rate of confidence you need to include more values in the confidence interval"
   ]
  },
  {
   "cell_type": "markdown",
   "metadata": {
    "collapsed": true
   },
   "source": [
    "***\n",
    "\n",
    "**Part C**: <font color='green'>The crowd is silent... Because there is no crowd... And it's not a basketball game...  You're Will Smith and it's 1998. You've got an important decision to make: You've been offered the lead role in both a sci-fi flick and a steampunk western action comedy. If you make this \"freethrow\", Will Smith takes the sci-fi role and stars in \"The Matrix\" as Neo. If you fail to solve this question, Will Smith makes the blunder of turning down the \"Matrix\" to appear in \"Wild Wild West\" and history remains unchanged.\n",
    "</font>\n",
    "\n",
    "Let $X$ be a normally-distributed random variable. You draw from it and get these values, stored in the numpy array **smith**, below. These represent the probabilities of him taking the role in the matrix, calculated by differant \"statistical measures\". Compute a 95% confidence interval for the _variance_.\n"
   ]
  },
  {
   "cell_type": "code",
   "execution_count": 13,
   "metadata": {},
   "outputs": [
    {
     "name": "stdout",
     "output_type": "stream",
     "text": [
      "[ 0.019882925509039362 , 0.12542928968589584 ]\n"
     ]
    }
   ],
   "source": [
    "smith = np.array([0.67832,0.113,0.423,0.279,0.580,0.401,0.189, 0.198, 0.147, 0.103, 0.098])\n",
    "n = len(smith)\n",
    "df = n-1\n",
    "alpha = .05\n",
    "    \n",
    "left_chi = stats.chi2.ppf(1-alpha/2, df)\n",
    "right_chi = stats.chi2.ppf(alpha/2, df)\n",
    "mean = np.mean(smith)\n",
    "var = np.var(smith, ddof = 1)\n",
    "    \n",
    "print('[', df*var/left_chi ,',', df*var/right_chi,']')    \n",
    "    \n",
    "    \n",
    "# confidence_intervals()"
   ]
  },
  {
   "cell_type": "markdown",
   "metadata": {},
   "source": []
  },
  {
   "cell_type": "markdown",
   "metadata": {},
   "source": [
    "\n",
    "***\n",
    "\n",
    "**Part D**: <font color='green'>Now we're back to basketball...You're Askia Booker, former CU point guard. It's the [2013 KU game](https://www.youtube.com/watch?v=-ycTB27RlEc) and your take the ball with 2.7 seconds left. To sink the three and win the game, solve the following: </font>\n",
    "\n",
    "If you're doing quality control for the average strength of carbon fiber that will be used in airplane construction, and your alternative hypothesis is that the strength of the carbon is below tolerance, and therefore unsafe, would you rather have a low Type I error rate or a low Type II error rate? Explain.\n"
   ]
  },
  {
   "cell_type": "markdown",
   "metadata": {},
   "source": [
    "As our null hypothesis would be that the strength of carbon is torrerable. we would rather want a type 1 rather than a type 2 error.\n",
    "\n",
    "With an airplane, we would want to reject that the plane safe to fly even if it is safe, rather than checking off a plane as safe when it is in fact not safe. \n",
    "\n",
    "type I error = the rejection of a true null hypothesis \n",
    "\n",
    "type II error  = is the non-rejection of a false null hypothesis"
   ]
  },
  {
   "cell_type": "markdown",
   "metadata": {},
   "source": [
    "\n",
    "***\n",
    "\n",
    "**Part E**: <font color='green'>Well, we haven't stopped time traveling yet.... But now we're in the soccor world. Your a striker in the [1994 Fifa World Cup Final](https://www.youtube.com/watch?v=pLPM_JSbGvI) between Brazil and Italy. Solve this problem to make a penalaty kick during the final shootout:</font>\n",
    "\n",
    "You measure 49 suckers from baby reef octopuses and find that they are, on average, 47.2 mm wide, with a standard devaition of 29.2mm. \n",
    "\n",
    "Then you measure 65 suckers from from baby dumbo octopuses and find that they are, on average, 63.9 mm wide, with a standard deviation of 19.6 mm. \n",
    "\n",
    "Is there statistical evidence at the 0.025 significance level that the true mean of baby dumbo octopus sucker width exceeds the true mean of baby reef octopus sucker width by more than 7 mm?  Use a test of your choice."
   ]
  },
  {
   "cell_type": "markdown",
   "metadata": {},
   "source": [
    "Two sample T-test\n",
    "\n",
    "Hypothesis\n",
    "\n",
    "$H_0 : \\mu_a - \\mu_b = 7$\n",
    "\n",
    "$H_a : \\mu_a - \\mu_b > 7$\n",
    "\n",
    "$\\alpha = 0.025$\n",
    "\n",
    "\n",
    "$Z  =  \\frac{63.9 - 47.2 - 7}{\\sqrt{{\\frac{19.6^2}{65}}+\\frac{29.2^2}{49}}} = 2.01$\n",
    "\n",
    "\n",
    "$1 - \\phi(2.01) = 0.022 < 0.025$\n",
    "\n",
    "we will reject the null hypothesis, as thetrue average dumbo sucker is greater than the reef octopus more than 7mm"
   ]
  }
 ],
 "metadata": {
  "kernelspec": {
   "display_name": "Python 3",
   "language": "python",
   "name": "python3"
  },
  "language_info": {
   "codemirror_mode": {
    "name": "ipython",
    "version": 3
   },
   "file_extension": ".py",
   "mimetype": "text/x-python",
   "name": "python",
   "nbconvert_exporter": "python",
   "pygments_lexer": "ipython3",
   "version": "3.7.4"
  }
 },
 "nbformat": 4,
 "nbformat_minor": 2
}
