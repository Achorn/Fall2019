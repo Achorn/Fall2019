{
 "cells": [
  {
   "cell_type": "markdown",
   "metadata": {},
   "source": [
    "<a id='top'></a>\n",
    "\n",
    "# Homework 5: Bootstrap, Hypothesis Testing and Regression\n",
    "***\n",
    "\n",
    "**Name**: Joshua Achorn \n",
    "\n",
    "**Worked with**: Dennis Lim\n",
    "\n",
    "***\n",
    "\n",
    "This assignment is due on Canvas by **11:59 PM on Friday November 22**. Your solutions to theoretical questions should be done in Markdown/MathJax directly below the associated question.  Your solutions to computational questions should include any specified Python code and results as well as written commentary on your conclusions.  Remember that you are encouraged to discuss the problems with your instructors and classmates, but **you must write all code and solutions on your own**. \n",
    "\n",
    "**NOTES**: \n",
    "\n",
    "- Any relevant data sets should be available under the **Data** module on Canvas, as well as in the zipped folder in which you obtained this assignment. \n",
    "- Do **NOT** load or use any Python packages that are not available in Anaconda 3.6. \n",
    "- Because you can technically evaluate notebook cells in a non-linear order, it's a good idea to do Kernel $\\rightarrow$ Restart & Run All as a check before submitting your solutions.  That way if we need to run your code you will know that it will work as expected. \n",
    "- It is **bad form** to make your reader interpret numerical output from your code.  If a question asks you to compute some value from the data you should show your code output **AND** write a summary of the results in Markdown directly below your code. \n",
    "- You **MUST** leave all of your notebook cells **evaluated** so the graders do not need to re-evaluate them. For 100+ students, this extra time adds up, and makes the graders' lives unnecessarily more difficult.\n",
    "- This probably goes without saying, but... For any question that asks you to calculate something, you **must show all work and justify your answers to receive credit**. Sparse or nonexistent work will receive sparse or nonexistent credit. \n",
    "- Submit only this Jupyter notebook to Canvas.  Do not compress it using tar, rar, zip, etc. \n",
    "\n",
    "---\n",
    "**Shortcuts:**  [Problem 1](#p1) | [Problem 2](#p2) | [Problem 3](#p3) | [Problem 4](#p4) \n",
    "\n",
    "---"
   ]
  },
  {
   "cell_type": "code",
   "execution_count": 16,
   "metadata": {
    "scrolled": true
   },
   "outputs": [],
   "source": [
    "import numpy as np\n",
    "import matplotlib.pyplot as plt\n",
    "import pandas as pd\n",
    "from scipy import stats \n",
    "%matplotlib inline"
   ]
  },
  {
   "cell_type": "markdown",
   "metadata": {},
   "source": [
    "---\n",
    "[Back to top](#top)\n",
    "<a id='p1'></a>\n",
    "\n",
    "### [20 points] Problem 1 - Hypothesis Testing: Knowledge Check\n",
    "\n",
    "You are working as a Data Scientist for an internet company. Your co-worker, Bob Dob, is a lovable scamp! Unfortunately, he also makes a lot of mistakes throughout the day as the two of you team up to tackle some inference work regarding your company's customers. In each case, clearly explain why Bob's hypothesis testing setup or conclusion is incorrect."
   ]
  },
  {
   "cell_type": "markdown",
   "metadata": {},
   "source": [
    "**Part A**: Bob has some data on the characteristics of customers that visited the company's website over the previous month.  He wants to perform an analysis on the proportion of last month's website visitors that bought something.  \n",
    "\n",
    "Let $X$ be the random variable describing the number of website visitors who bought something in the previous month, and suppose that the population proportion of visitors who bought something is $p$. Bob is particularly interested to see if the data suggests that more than 15% of website visitors actually buy something.  He decides to perform the test with a null hypothesis of $H_0: \\hat{p} = 0.15$. "
   ]
  },
  {
   "cell_type": "markdown",
   "metadata": {},
   "source": [
    "Incorrect\n",
    "\n",
    "we are looking at the probability and not looking at a p value to compare.\n",
    "\n",
    "what we are actually doing is $H_0 : p = 0.15$"
   ]
  },
  {
   "cell_type": "markdown",
   "metadata": {},
   "source": [
    "**Part B**: Bob decides instead to do his hypothesis test with a null hypothesis of $H_0: p > 0.15$."
   ]
  },
  {
   "cell_type": "markdown",
   "metadata": {},
   "source": [
    "a null hypothesis should have an equality and not an inequality. However, an alternative hypothesis has an inequality of which we are looking for statistical evidence, which we then use an inequality. "
   ]
  },
  {
   "cell_type": "markdown",
   "metadata": {},
   "source": [
    "**Part C**: Finally on track with reasonable hypotheses of $H_0: p = 0.15$ and $H_1: p > 0.15$, Bob computes a normalized test-statistic of $z = -1.4$ for the sample proportion and concludes that since $z = -1.4 < 0.05$ there is sufficient statistical evidence at the $\\alpha = 0.05$ (95%) significance level that the proportion of customers who buy something is less than 15%."
   ]
  },
  {
   "cell_type": "markdown",
   "metadata": {},
   "source": [
    "$Z_{critical} = $ stats.norm.ppf(.95 + .05/2 = 1.96)\n",
    "\n",
    "our z is -1.4\n",
    "\n",
    "we reject we reject anything above 1.96 or below -1.96\n",
    "\n",
    "because -1.4 > -1.96, it doesn't fall in the reject zone so we fail to reject the null hypothesis"
   ]
  },
  {
   "cell_type": "markdown",
   "metadata": {},
   "source": [
    "**Part D**: Bob is again conducting the hypothesis test of $H_0: p = 0.15$ and $H_1: p > 0.15$. He computes a p-value of $0.03$, and thus concludes that there is only a 3% probability that the null hypothesis is true. "
   ]
  },
  {
   "cell_type": "markdown",
   "metadata": {},
   "source": [
    "The p-value is the prob. under the null hypothesis that we get a t stat at least as extreme as what we calculated. However, this doesn't represent the prob. of the null hypothesis, but we can use this to compare the $\\alpha$ to see if we can reject the null hypothesis."
   ]
  },
  {
   "cell_type": "markdown",
   "metadata": {},
   "source": [
    "---\n",
    "[Back to top](#top)\n",
    "<a id='p3'></a>\n",
    "\n",
    "### [25 points] Problem 2 - Naps vs Coffee for Memory? \n",
    "\n",
    "It is estimated that [about 75% of adults](https://www.ncbi.nlm.nih.gov/pmc/articles/PMC4997286/) in the United States drink coffee. Often, coffee is used to replace the need for sleep. It works alright, or so we think. Let's find out, in this exciting homework problem!\n",
    "\n",
    "[One recent study](https://www.sciencedirect.com/science/article/pii/S1388245703002554) investigated the effects of drinking coffee, taking a nap, and having a [\"coffee-nap\"](https://lifehacker.com/naps-vs-coffee-which-is-better-when-youre-exhausted-1730643671) - the practice of drinking some coffee *and then* having a short nap. The study broke participants up into three groups of 15 participants each, where the groups would have a nap, or have a coffee, or have a coffee-nap, then perform a task where their reaction time was measured. In previous experiments the mean reaction time measurement was found to be normally distributed. The reaction time means (milliseconds, ms) and standard deviations for the three groups of participants are given in the table below.\n",
    "\n",
    "$$\n",
    "\\begin{array}{c|c|c|c}\n",
    "\\textrm{Group} & \\textrm{Sample Size} & \\textrm{Mean} & \\textrm{Standard Deviation} \\\\\n",
    "\\hline \n",
    "\\textrm{Coffee+Nap} & 15 & 451.3 & 31.9 \\\\ \n",
    "\\textrm{Coffee} & 15 & 494.2 & 39.6 \\\\ \n",
    "\\textrm{Nap} & 15 & 492.8 & 45.2 \\\\ \n",
    "\\end{array}\n",
    "$$\n",
    "\n",
    "**Part A**: Compute a 97.5% t-confidence interval for the mean reaction time measurement for participants in each of these three groups. (You should find three separate confidence intervals.) Report the results.\n",
    "\n",
    "1. Can you make any conclusions regarding whether coffee, naps or both (coffee-naps) are better for faster reaction times?\n",
    "2. Why did we use a t-distribution?"
   ]
  },
  {
   "cell_type": "code",
   "execution_count": 17,
   "metadata": {},
   "outputs": [
    {
     "name": "stdout",
     "output_type": "stream",
     "text": [
      "Coffee + Nap CI [430, 471]\n",
      "Coffee CI [468, 519]\n",
      "Nap CI [463, 522]\n"
     ]
    }
   ],
   "source": [
    "def CI_t(x_bar, std_dev, n = 15):\n",
    "    t = stats.t.ppf(1 - (.025)/2, df = n - 1)\n",
    "    return x_bar - t * (std_dev/np.sqrt(n)), x_bar + t * (std_dev/np.sqrt(n))\n",
    "group = ['Coffee + Nap', 'Coffee', 'Nap']\n",
    "x_bar = [451.3, 494.2, 492.8]\n",
    "std_dev = [31.9, 39.6, 45.2]\n",
    "\n",
    "for i in range(len(group)):\n",
    "    l, u = CI_t(x_bar[i], std_dev[i])\n",
    "    print(\"%s CI [%d, %d]\" % (group[i], l, u))\n"
   ]
  },
  {
   "cell_type": "markdown",
   "metadata": {},
   "source": [
    "\n",
    "\n",
    "intevals overlap so we can not make conclusions redarding whether coffe, naps, or both are better for a faster reaction time. \n",
    "\n",
    "we used a t-distrobution because n < 30\n",
    "\n",
    "$\\bar x \\pm t_{\\alpha/2} * \\frac{s}{\\sqrt n}$"
   ]
  },
  {
   "cell_type": "markdown",
   "metadata": {},
   "source": [
    "**Part B**: Use an appropriate hypothesis test to determine if there sufficient evidence, at the $\\alpha = 0.025$ significance level, to conclude that taking a nap promotes faster reaction time than drinking coffee.  Be sure to clearly explain the test that you're doing and state all hypotheses. Do all computations in Python, and report results."
   ]
  },
  {
   "cell_type": "code",
   "execution_count": 18,
   "metadata": {},
   "outputs": [
    {
     "name": "stdout",
     "output_type": "stream",
     "text": [
      "-2.048407141795244\n",
      "-0.09022936362055636\n"
     ]
    }
   ],
   "source": [
    "t = stats.t.ppf(0.025, df = 28)\n",
    "print(t)\n",
    "n = 15\n",
    "\n",
    "T = (x_bar[2] - x_bar[1]) / np.sqrt((std_dev[2]**2/n)+(std_dev[1]**2/n))\n",
    "\n",
    "print(T)\n",
    "\n"
   ]
  },
  {
   "cell_type": "markdown",
   "metadata": {},
   "source": [
    "$H_o: \\mu_{n} - \\mu_{c} = 0$\n",
    "\n",
    "$H_a: \\mu_{n} - \\mu_{c} < 0$\n",
    "\n",
    "\n",
    "We can't reject the null hypothesis because our T is less than our critical region. \n",
    "\n"
   ]
  },
  {
   "cell_type": "markdown",
   "metadata": {},
   "source": [
    "**Part C**: Use an appropriate hypothesis test to determine if there is sufficient evidence, at the $\\alpha = 0.025$ significance level, to conclude that taking a coffee-nap promotes faster reaction time than only drinking coffee, or only having a nap.  Be sure to clearly explain the test that you're doing and state all hypotheses. Do all computations in Python, and report results."
   ]
  },
  {
   "cell_type": "code",
   "execution_count": 19,
   "metadata": {},
   "outputs": [
    {
     "name": "stdout",
     "output_type": "stream",
     "text": [
      "-3.2674426640629344\n"
     ]
    }
   ],
   "source": [
    "# coffee-nap versus coffee\n",
    "\n",
    "T = (x_bar[0] - x_bar[1]) / np.sqrt((std_dev[0]**2/n)+(std_dev[1]**2/n))\n",
    "print(T)"
   ]
  },
  {
   "cell_type": "markdown",
   "metadata": {},
   "source": [
    "$H_o: \\mu_{cAndN} - \\mu_{c} = 0$\n",
    "\n",
    "$H_a: \\mu_{cAndN} - \\mu_{c} < 0$\n",
    "\n",
    "\n",
    "We can reject the null hypothesis because our T is less than our critical region. \n",
    "\n",
    "our conclusion is that coffee naps promote faster reaction times than drinking coffee."
   ]
  },
  {
   "cell_type": "code",
   "execution_count": 20,
   "metadata": {},
   "outputs": [
    {
     "name": "stdout",
     "output_type": "stream",
     "text": [
      "-2.9052726242057902\n"
     ]
    }
   ],
   "source": [
    "# coffee-nap versus nap\n",
    "\n",
    "T = (x_bar[0] - x_bar[2]) / np.sqrt((std_dev[0]**2/n)+(std_dev[2]**2/n))\n",
    "print(T)"
   ]
  },
  {
   "cell_type": "markdown",
   "metadata": {},
   "source": [
    "$H_o: \\mu_{cAndN} - \\mu_{n} = 0$\n",
    "\n",
    "$H_a: \\mu_{cAndN} - \\mu_{n} < 0$\n",
    "\n",
    "We reject our null hypothesis because our T is less than our critical region. Thus, we can conclude that coffee naps promote faster reaction time than only naps"
   ]
  },
  {
   "cell_type": "markdown",
   "metadata": {},
   "source": [
    "**Part D**: Compute a 97.5% confidence interval for the standard deviation of reaction time for coffee-nap takers. Do all computations in Python, and report the results."
   ]
  },
  {
   "cell_type": "code",
   "execution_count": 21,
   "metadata": {},
   "outputs": [
    {
     "name": "stdout",
     "output_type": "stream",
     "text": [
      "( 22.388646811088417 , 54.068809045641665 )\n"
     ]
    }
   ],
   "source": [
    "alpha = 1 - .975\n",
    "df = n -1\n",
    "chi = [stats.chi2.ppf(alpha/2, df), stats.chi2.ppf(1 - alpha/2, df)]\n",
    "var = std_dev[0]**2\n",
    "bounds = []\n",
    "for i in chi:\n",
    "    bounds.append(np.sqrt(df * var/i))\n",
    "\n",
    "print(\"(\",bounds[1],',', bounds[0],')')"
   ]
  },
  {
   "cell_type": "markdown",
   "metadata": {},
   "source": []
  },
  {
   "cell_type": "markdown",
   "metadata": {},
   "source": [
    "---\n",
    "[Back to top](#top)\n",
    "<a id='p4'></a>\n",
    "\n",
    "### [25 points] Problem 3 - Bad Science for Fun and Profit \n",
    "\n",
    "[Data Dredging](https://en.wikipedia.org/wiki/Data_dredging) and [p-hacking](https://www.explainxkcd.com/wiki/index.php/882:_Significant) are umbrella terms for the dangerous practice of automatically testing a large number of hypotheses on the entirety or subsets of a single dataset in order to find statistically significant results. In this exercise we will focus on the idea of testing hypotheses on subsets of a single data set.  \n",
    "\n",
    "Nefaria Octopain has landed her first data science internship at an aquarium.  Her primary summer project has been to design and test a new feeding regimen for the aquarium's octopus population. To test her regimen, her supervisors have allowed her to deploy her new feeding regimen to 4 targeted octopus subpopulations of 40 octopuses each, every day, for a month. \n",
    "\n",
    "The effectiveness of the new diet is measured simply by the rate at which the food is consumed, which is simply defined to be the _proportion_ of octopuses that eat the food (POOTEF). The aquarium's standard octopus diet has a POOTEF of $0.90$.  Nefaria is hoping to land a permanent position at the aquarium when she graduates, so she's **really** motivated to show her supervisors that the POOTEF of her new diet regimen is a (statistically) significant improvement over their previous diet. \n",
    "\n",
    "The data from Nefaria's summer experiment can be found in `pootef.csv`. Load this dataset as a Pandas DataFrame. "
   ]
  },
  {
   "cell_type": "code",
   "execution_count": 24,
   "metadata": {},
   "outputs": [
    {
     "data": {
      "text/html": [
       "<div>\n",
       "<style scoped>\n",
       "    .dataframe tbody tr th:only-of-type {\n",
       "        vertical-align: middle;\n",
       "    }\n",
       "\n",
       "    .dataframe tbody tr th {\n",
       "        vertical-align: top;\n",
       "    }\n",
       "\n",
       "    .dataframe thead th {\n",
       "        text-align: right;\n",
       "    }\n",
       "</style>\n",
       "<table border=\"1\" class=\"dataframe\">\n",
       "  <thead>\n",
       "    <tr style=\"text-align: right;\">\n",
       "      <th></th>\n",
       "      <th>Group</th>\n",
       "      <th>Date</th>\n",
       "      <th>Fed</th>\n",
       "      <th>Ate</th>\n",
       "    </tr>\n",
       "  </thead>\n",
       "  <tbody>\n",
       "    <tr>\n",
       "      <th>0</th>\n",
       "      <td>1</td>\n",
       "      <td>Oct  1 2018</td>\n",
       "      <td>40</td>\n",
       "      <td>37</td>\n",
       "    </tr>\n",
       "    <tr>\n",
       "      <th>1</th>\n",
       "      <td>1</td>\n",
       "      <td>NaN</td>\n",
       "      <td>40</td>\n",
       "      <td>37</td>\n",
       "    </tr>\n",
       "    <tr>\n",
       "      <th>2</th>\n",
       "      <td>1</td>\n",
       "      <td>NaN</td>\n",
       "      <td>40</td>\n",
       "      <td>35</td>\n",
       "    </tr>\n",
       "    <tr>\n",
       "      <th>3</th>\n",
       "      <td>1</td>\n",
       "      <td>NaN</td>\n",
       "      <td>40</td>\n",
       "      <td>35</td>\n",
       "    </tr>\n",
       "    <tr>\n",
       "      <th>4</th>\n",
       "      <td>1</td>\n",
       "      <td>Oct  5 2018</td>\n",
       "      <td>40</td>\n",
       "      <td>36</td>\n",
       "    </tr>\n",
       "  </tbody>\n",
       "</table>\n",
       "</div>"
      ],
      "text/plain": [
       "   Group         Date  Fed  Ate\n",
       "0      1  Oct  1 2018   40   37\n",
       "1      1          NaN   40   37\n",
       "2      1          NaN   40   35\n",
       "3      1          NaN   40   35\n",
       "4      1  Oct  5 2018   40   36"
      ]
     },
     "execution_count": 24,
     "metadata": {},
     "output_type": "execute_result"
    }
   ],
   "source": [
    "df = pd.read_csv(\"pootef.csv\")\n",
    "# df = df.dropna()\n",
    "df.head()"
   ]
  },
  {
   "cell_type": "markdown",
   "metadata": {},
   "source": [
    "**Part A**: State the null and alternate hypotheses that Nefaria should test to see if her new feeding regimen is an improvement over the aquarium's standard feeding regimen with a POOTEF of $0.90$."
   ]
  },
  {
   "cell_type": "markdown",
   "metadata": {},
   "source": [
    "H_o: p = . 90\n",
    "\n",
    "H_a: p > .90"
   ]
  },
  {
   "cell_type": "markdown",
   "metadata": {},
   "source": [
    "**Part B**: Complete the function below to test the hypothesis from **Part A** at the $\\alpha = 0.05$ significance level using a p-value test. Is there sufficient evidence for Nefaria to conclude that her feeding regimen is an improvement? "
   ]
  },
  {
   "cell_type": "code",
   "execution_count": 27,
   "metadata": {},
   "outputs": [
    {
     "data": {
      "text/plain": [
       "0.44717452014987913"
      ]
     },
     "execution_count": 27,
     "metadata": {},
     "output_type": "execute_result"
    }
   ],
   "source": [
    "def z_test(bites, feedings, alpha=0.05):\n",
    "    '''\n",
    "    Function to test H1: p > 0.90 \n",
    "    Returns p-value based on H0: p=0.90 \n",
    "    '''\n",
    "    p_hat = np.sum(bites)/np.sum(feedings)\n",
    "    p = .9\n",
    "    \n",
    "    z = (p_hat - p)/np.sqrt(p*(1-p)/np.sum(feedings))\n",
    "\n",
    "    pvalue = 1 - stats.norm.cdf(z)\n",
    "    return pvalue \n",
    "\n",
    "\n",
    "z_test(df['Ate'], df['Fed'])"
   ]
  },
  {
   "cell_type": "markdown",
   "metadata": {},
   "source": [
    "We cant reject the null hypothesis,because our p value is lower than alpha."
   ]
  },
  {
   "cell_type": "markdown",
   "metadata": {},
   "source": [
    "**Part C**: Bummer, Nefaria thinks. This is the part where she decides to resort to some questionable science.  Maybe there is a reasonable _subset_ of the data for which her alternative hypothesis is supported?  Can she find it?  Can she come up for a reasonable justification for why this subset of the data should be considered while the rest should be discarded? \n",
    "\n",
    "Here are the **rules**: Nefaria cannot modify the original data (e.g. by adding nonexistent feedings or bites to certain groups or days) because her boss will surely notice.  Instead she needs to find a subset of the data for which her hypothesis is supported by a p-value test at the $\\alpha = 0.05$ significance level _and_ be able to explain to her supervisors why her sub-selection of the data is reasonable.  \n",
    "\n",
    "In addition to your explanation of why your successful subset of the data is potentially reasonable, be sure to thoroughly explain the details of the tests that you perform and show all of your Python computation. "
   ]
  },
  {
   "cell_type": "code",
   "execution_count": 31,
   "metadata": {},
   "outputs": [
    {
     "name": "stdout",
     "output_type": "stream",
     "text": [
      "0.6039263041020528\n",
      "0.00187324045264603\n",
      "0.8333033746459644\n",
      "0.9359267193671605\n",
      "\n",
      "Dropping NA Data\n",
      "\n",
      "1 0.6039263041020528\n",
      "2 0.00187324045264603\n",
      "3 0.8333033746459644\n",
      "4 0.9359267193671605\n"
     ]
    }
   ],
   "source": [
    "for i in range(1, 5):\n",
    "    n_df = df.loc[df['Group'] == i]\n",
    "    print(z_test(n_df['Ate'], n_df['Fed']))\n",
    "    \n",
    "print(\"\\nDropping NA Data\\n\")\n",
    "\n",
    "\n",
    "df = df.dropna()\n",
    "\n",
    "for i in range(1,5):\n",
    "    temp_df = df.loc[df['Group'] == i]\n",
    "    print(i,z_test(temp_df['Ate'], temp_df['Fed'] ))"
   ]
  },
  {
   "cell_type": "markdown",
   "metadata": {},
   "source": [
    "We have two groups above. our first is ran with the data we were given, and our second group is with data dropped with dates not available. In our second group, we can reject the null hypothesis and now the regiment works for that group."
   ]
  },
  {
   "cell_type": "markdown",
   "metadata": {},
   "source": [
    "<br>\n",
    "\n",
    "---\n",
    "[Back to top](#top)\n",
    "<a id='p3'></a>\n",
    "\n",
    "### [30 points] Problem 4 - Simple Linear Regression for Science!\n",
    "\n",
    "From [Google Trends](https://trends.google.com/trends/?geo=US) data, it appears that interest in \"data science\" in the United States has steadily increasing since 2004. Interest is measured relative to the maximum rate of Google searches for that term over the time period (so the maximum is 100). \n",
    "\n",
    "**Part A:** Load up the data in `data_science_interest.csv` into a Pandas DataFrame. Create two new columns:\n",
    "* `Year` should be the year associated with that data point, and\n",
    "* `Month` should be the month (1-12) associated with that data point.\n",
    "\n",
    "Then, make a **scatter plot** (using `pyplot.scatter`) of all of the data points, showing how interest in \"data science\" has evolved over time. Label the x-axis by year, displaying ticks for Janurary of each year between 2004 and 2019. "
   ]
  },
  {
   "cell_type": "code",
   "execution_count": 32,
   "metadata": {},
   "outputs": [
    {
     "name": "stderr",
     "output_type": "stream",
     "text": [
      "/home/achorn/anaconda3/lib/python3.7/site-packages/ipykernel_launcher.py:8: SettingWithCopyWarning: \n",
      "A value is trying to be set on a copy of a slice from a DataFrame.\n",
      "Try using .loc[row_indexer,col_indexer] = value instead\n",
      "\n",
      "See the caveats in the documentation: http://pandas.pydata.org/pandas-docs/stable/indexing.html#indexing-view-versus-copy\n",
      "  \n"
     ]
    },
    {
     "data": {
      "image/png": "[encoded data removed]",
      "text/plain": [
       "<Figure size 576x288 with 1 Axes>"
      ]
     },
     "metadata": {
      "needs_background": "light"
     },
     "output_type": "display_data"
    }
   ],
   "source": [
    "filepath = \"data_science_interest.csv\"\n",
    "\n",
    "df = pd.read_csv(filepath)\n",
    "\n",
    "\n",
    "dfJan = df[df['Month'].str.contains(\"-01\")]\n",
    "\n",
    "dfJan['Month'] = dfJan['Month'].str.replace(r'-01$','')\n",
    "# dfJan\n",
    "year = list(dfJan['Month'])\n",
    "interest = list(dfJan['Interest'])\n",
    "\n",
    "fig, ax = plt.subplots(nrows = 1, ncols = 1, figsize = (8,4))\n",
    "\n",
    "plt.scatter(year,interest)\n",
    "plt.xlabel('Year')\n",
    "plt.ylabel('Interest')\n",
    "plt.title('Data Science Interest')\n",
    "plt.show()\n",
    "\n",
    "\n",
    "\n"
   ]
  },
  {
   "cell_type": "markdown",
   "metadata": {},
   "source": [
    "**Part B:** These data (and the sea-level data from Homework 4) are a **time series**, where the independent variable is *time* and the dependent quantity is interest in data science. One of the central assumptions of linear regression is that the data are observations generated by some process, independently of one another. With time series data, we need to be careful because there could be some other process affecting the output data. In particular, **annual cycles** are patterns that reoccur each year and are frequently present in time series data. For example, seasonal patterns of weather are annual cycles.\n",
    "\n",
    "To see what kind of effect time has, make a **line plot** (using `pyplot.plot`) of the interest in data science, as a function of time. Again, include all of the data points and, for the x-axis, label only the tick marks associated with January of each year, and be sure to label your axes."
   ]
  },
  {
   "cell_type": "code",
   "execution_count": 35,
   "metadata": {
    "scrolled": true
   },
   "outputs": [
    {
     "data": {
      "text/plain": [
       "Text(0.5, 1.0, 'Data Science Interest')"
      ]
     },
     "execution_count": 35,
     "metadata": {},
     "output_type": "execute_result"
    },
    {
     "data": {
      "image/png": "[encoded data removed]",
      "text/plain": [
       "<Figure size 432x288 with 1 Axes>"
      ]
     },
     "metadata": {
      "needs_background": "light"
     },
     "output_type": "display_data"
    }
   ],
   "source": [
    "df.plot(x = 'Month', y = 'Interest')\n",
    "plt.xlabel('months')\n",
    "plt.ylabel('Interest')\n",
    "plt.title('Data Science Interest')"
   ]
  },
  {
   "cell_type": "markdown",
   "metadata": {},
   "source": [
    "**Part C:** Does your plot from Part B suggest that there is some annual cycle to the interest in data science? During which months is interest in data science highest? What about lowest? Justify your answers using your plot, **and** by computing the mean interest in data science for each month. So, compute 12 values and report them in a markdown table. Do **not** just spit out a horizontal list of 12 numbers. That would be yucky to try to read, and we're scientists.\n",
    "\n",
    "What do you think accounts for the increased interest in data science during the fall months?"
   ]
  },
  {
   "cell_type": "code",
   "execution_count": 170,
   "metadata": {},
   "outputs": [
    {
     "name": "stdout",
     "output_type": "stream",
     "text": [
      "Month 01 mean: 26.625\n",
      "Month 02 mean: 25.5625\n",
      "Month 03 mean: 24.25\n",
      "Month 04 mean: 24.6875\n",
      "Month 05 mean: 23.0625\n",
      "Month 06 mean: 21.625\n",
      "Month 07 mean: 21.0\n",
      "Month 08 mean: 26.9375\n",
      "Month 09 mean: 32.6875\n",
      "Month 10 mean: 29.4375\n",
      "Month 11 mean: 27.6875\n",
      "Month 12 mean: 20.866666666666667\n"
     ]
    }
   ],
   "source": [
    "for i in range(12):\n",
    "    month = \"-0\" + str(i+1)\n",
    "    month = \"-\" + month[-2:]\n",
    "#     print(month)\n",
    "    dfMonth = df[df['Month'].str.contains(month)]\n",
    "    mean = np.mean(dfMonth['Interest'])\n",
    "    print(\"Month\",month[-2:], \"mean:\", mean )\n",
    "# df.head()\n",
    "\n",
    "\n",
    "\n",
    "# meanFeb = np.mean\n",
    "# dfFeb = df[df['Month'].str.contains(\"-02\")]\n",
    "\n",
    "\n",
    "# interest = list(dfJan['Interest'])"
   ]
  },
  {
   "cell_type": "markdown",
   "metadata": {},
   "source": [
    "Does your plot from Part B suggest that there is some annual cycle to the interest in data science?\n",
    "\n",
    "I would say there is somewhat of an annual cycle, like an oscilating wave. other than christmas, it has a pretty uniform slope. \n",
    "\n",
    "During which months is interest in data science highest? \n",
    "september has the highest interest in data science with a mean insterest of 32.69\n",
    "\n",
    "\n",
    "What about lowest? \n",
    "July has the lowest interest in data science with a mena interest of 21.0\n",
    "\n",
    "Maybe more people are deciding their majors on the fall months rather than in the other months?\n",
    "\n"
   ]
  },
  {
   "cell_type": "markdown",
   "metadata": {},
   "source": [
    "**Part D:** (Spoiler alert!) Since there seems to be an annual cycle, one of the fundamental assumptions of our simple linear regression model is not satisfied. Namely, it is not the case that the model-data residuals, $\\epsilon_i$, are independent of one another.\n",
    "\n",
    "So, we need to process our data a bit further before fitting a regression model. One way to address this is to take the mean of all the data each year and use for analysis the time series of annual mean interest in data science. Create a new Pandas DataFrame that consists only of two columns:\n",
    "* `year`, and\n",
    "* `interest`, the mean interest in data science from the twelve months in that year."
   ]
  },
  {
   "cell_type": "code",
   "execution_count": 44,
   "metadata": {},
   "outputs": [
    {
     "name": "stdout",
     "output_type": "stream",
     "text": [
      "    Year  Mean_Interest\n",
      "0   2004       9.666667\n",
      "1   2005       8.583333\n",
      "2   2006       7.083333\n",
      "3   2007       6.750000\n",
      "4   2008       6.750000\n",
      "5   2009       8.083333\n",
      "6   2010       7.916667\n",
      "7   2011       8.333333\n",
      "8   2012      10.500000\n",
      "9   2013      15.000000\n",
      "10  2014      24.000000\n",
      "11  2015      35.833333\n",
      "12  2016      43.083333\n",
      "13  2017      61.250000\n",
      "14  2018      72.750000\n",
      "15  2019      85.727273\n"
     ]
    }
   ],
   "source": [
    "year = 0\n",
    "data = []\n",
    "for i in range(4,20):\n",
    "    if(i > 9):\n",
    "        year = \"20\" + str(i)\n",
    "    else:\n",
    "        year = \"200\" + str(i)\n",
    "#     print(year)\n",
    "    dfYear = df[df['Month'].str.contains(year)]\n",
    "    mean = np.mean(dfYear['Interest'])\n",
    "    data.append([int(year),mean])\n",
    "    \n",
    "\n",
    "        \n",
    "\n",
    "# print(data)\n",
    "\n",
    "dfYears = pd.DataFrame(data,columns = ['Year', 'Mean_Interest'])\n",
    "print(dfYears)\n",
    "# years = np.array([])\n",
    "# interest_mean = np.array([])\n",
    "\n",
    "# for i in df['Year']:\n",
    "#     if(i not in years):\n",
    "#         years = np.append(years, i)\n",
    "# for i in years:\n",
    "#     interest_mean = np.append(interest_mean, np.mean(df[df['Year'] == i]['Interest']))\n",
    "\n",
    "# linear_df = pd.DataFrame()\n",
    "# linear_df['Year'] = years\n",
    "# linear_df['Interest'] = interest_mean\n",
    "# print(linear_df)"
   ]
  },
  {
   "cell_type": "markdown",
   "metadata": {},
   "source": [
    "**Part E:** Perform a simple linear regression with `year` as the feature and `interest` as the response (mean annual interest in data science).  Report the estimated regression model in the form $Y = \\alpha + \\beta x$. Do all computations in Python. \n",
    "\n",
    "Then make a scatter plot of the mean annual interest in data science as a function of year, and overlay the estimated regression line. Label your axes and provide a legend."
   ]
  },
  {
   "cell_type": "code",
   "execution_count": 61,
   "metadata": {},
   "outputs": [
    {
     "data": {
      "text/plain": [
       "<matplotlib.axes._subplots.AxesSubplot at 0x7fe8c9a4a0f0>"
      ]
     },
     "execution_count": 61,
     "metadata": {},
     "output_type": "execute_result"
    },
    {
     "data": {
      "image/png": "[encoded data removed]",
      "text/plain": [
       "<Figure size 576x288 with 1 Axes>"
      ]
     },
     "metadata": {
      "needs_background": "light"
     },
     "output_type": "display_data"
    }
   ],
   "source": [
    "fig, ax = plt.subplots(nrows = 1, ncols = 1, figsize = (8,4))\n",
    "dfYears.plot.scatter(x = 'Year', y = 'Mean_Interest',ax = ax)\n",
    "\n",
    "x_bar = np.mean(dfYears['Year'])\n",
    "x_bar_2 = x_bar**2\n",
    "x_2_bar = np.mean(dfYears['Year']**2)\n",
    "y_bar = np.mean(dfYears['Mean_Interest'])\n",
    "xy_bar = np.mean(dfYears['Year'] * dfYears['Mean_Interest'])\n",
    "\n",
    "beta = (xy_bar - x_bar * y_bar)/(x_2_bar - x_bar_2)\n",
    "\n",
    "alpha = y_bar - beta * x_bar\n",
    "line_df = pd.DataFrame()\n",
    "line_df['Year'] = dfYears['Year']\n",
    "y = alpha + beta * (dfYears['Year'])\n",
    "line_df['Mean_Interest'] = y\n",
    "line_df.plot(x = 'Year', y = 'Mean_Interest', ax = ax)\n"
   ]
  },
  {
   "cell_type": "markdown",
   "metadata": {},
   "source": [
    "**Part F**: Give a physical interpretation of the coefficient $\\hat{\\beta}$, estimated from your model. Include addressing whether the relationship between time and interest in data science is positive or negative. Fully justify your responses."
   ]
  },
  {
   "cell_type": "markdown",
   "metadata": {},
   "source": [
    "The relationship between time and interest in data science is postive because of our beta slope is positive ans we can see this in the graph. \n"
   ]
  },
  {
   "cell_type": "markdown",
   "metadata": {},
   "source": [
    "**Part G**: What interest in data science does your simple linear regression model predict in the year 2025? What about in 2050? What are potential drawbacks to this model for interest in data science (think about the minimium and maximum values for the data)? \n",
    "\n",
    "**Note**: From Google Trends Documentation, the \"interest\" variable is defined as: \"Interest represent search interest relative to the highest point on the chart for the given region and time. A value of 100 is the peak popularity for the term. A value of 50 means that the term is half as popular. A score of 0 means there was not enough data for this term.\""
   ]
  },
  {
   "cell_type": "code",
   "execution_count": 63,
   "metadata": {},
   "outputs": [
    {
     "name": "stdout",
     "output_type": "stream",
     "text": [
      "2025 intrest:  89.3255124777188\n",
      "2050 intrest:  207.1377339572191\n"
     ]
    }
   ],
   "source": [
    "year2025 = alpha + beta * 2025\n",
    "year2050 = alpha + beta * 2050 \n",
    "\n",
    "print(\"2025 intrest: \", year2025)\n",
    "print(\"2050 intrest: \", year2050)"
   ]
  },
  {
   "cell_type": "markdown",
   "metadata": {},
   "source": [
    "**Part H:** Compute a 80% confidence interval for the slope parameter, $\\beta$, ***by hand***. This means performing all calculations yourself in Python, as opposed to calling a simple Python function that gives you the result. Why is this a confidence interval for $\\beta$ and not for $\\hat{\\beta}$?"
   ]
  },
  {
   "cell_type": "code",
   "execution_count": 81,
   "metadata": {},
   "outputs": [
    {
     "name": "stdout",
     "output_type": "stream",
     "text": [
      "80% Confidence Interval: [ 3.249399707647254 , 6.1755780107128375 ]\n"
     ]
    }
   ],
   "source": [
    "alpha = 1 - .80\n",
    "t = stats.t.ppf(1-alpha/2, df=len(dfYear)-2)\n",
    "SSE = 0\n",
    "n = len(dfYear)\n",
    "for i in range(n):\n",
    "    SSE += (dfYears['Mean_Interest'][i] - line_df['Mean_Interest'][i])**2\n",
    "\n",
    "\n",
    "sigma = np.sqrt(SSE/(n-2))\n",
    "\n",
    "denom = 0\n",
    "for i in range(n):\n",
    "    denom += (dfYears['Year'][i] - x_bar)**2\n",
    "\n",
    "SE_beta = sigma/np.sqrt(denom)\n",
    "\n",
    "l = beta - t*SE_beta\n",
    "u = beta + t*SE_beta\n",
    "\n",
    "\n",
    "print(\"80% Confidence Interval: [\", l,',', u , \"]\")  "
   ]
  },
  {
   "cell_type": "markdown",
   "metadata": {
    "collapsed": true
   },
   "source": [
    "**Part I:** What proportion of the variation in mean annual interest in data science is explained by your linear regression model?"
   ]
  },
  {
   "cell_type": "markdown",
   "metadata": {},
   "source": [
    "$R^2$"
   ]
  }
 ],
 "metadata": {
  "kernelspec": {
   "display_name": "Python 3",
   "language": "python",
   "name": "python3"
  },
  "language_info": {
   "codemirror_mode": {
    "name": "ipython",
    "version": 3
   },
   "file_extension": ".py",
   "mimetype": "text/x-python",
   "name": "python",
   "nbconvert_exporter": "python",
   "pygments_lexer": "ipython3",
   "version": "3.7.1"
  }
 },
 "nbformat": 4,
 "nbformat_minor": 2
}
