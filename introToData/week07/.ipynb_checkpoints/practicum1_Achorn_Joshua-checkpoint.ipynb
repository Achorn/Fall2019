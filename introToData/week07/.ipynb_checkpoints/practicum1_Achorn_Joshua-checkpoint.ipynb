{
 "cells": [
  {
   "cell_type": "markdown",
   "metadata": {},
   "source": [
    "<a id='top'></a>\n",
    "\n",
    "# CSCI 3022: Intro to Data Science - Fall 2019 Practicum 1\n",
    "***\n",
    "\n",
    "This practicum is due on Canvas by **11:59 PM on Friday October 11**. Your solutions to theoretical questions should be done in Markdown/MathJax directly below the associated question.  Your solutions to computational questions should include any specified Python code and results as well as written commentary on your conclusions.  \n",
    "\n",
    "**Here are the rules:** \n",
    "\n",
    "1. All work, code and analysis, must be your own. \n",
    "1. You may use your course notes, posted lecture slides, textbooks, in-class notebooks, and homework solutions as resources.  You may also search online for answers to general knowledge questions like the form of a probability distribution function or how to perform a particular operation in Python/Pandas. \n",
    "1. This is meant to be like a coding portion of your midterm exam. So, the instructional team will be much less helpful than we typically are with homework. For example, we will not check answers, help debug your code, and so on.\n",
    "1. If something is left open-ended, it is because we want to see how you approach the kinds of problems you will encounter in the wild, where it will not always be clear what sort of tests/methods should be applied. Feel free to ask clarifying questions though.\n",
    "2. You may **NOT** post to message boards or other online resources asking for help.\n",
    "3. You may **NOT** copy-paste solutions *from anywhere*.\n",
    "4. You may **NOT** collaborate with classmates or anyone else.\n",
    "5. In short, **your work must be your own**. It really is that simple.\n",
    "\n",
    "Violation of the above rules will result in an immediate academic sanction (*at the very least*, you will receive a 0 on this practicum or an F in the course, depending on severity), and a trip to the Honor Code Council.\n",
    "\n",
    "**By submitting this assignment, you agree to abide by the rules given above.**\n",
    "\n",
    "***\n",
    "\n",
    "**Name**:  Joshua Achorn\n",
    "\n",
    "***\n",
    "\n",
    "\n",
    "**NOTES**: \n",
    "\n",
    "- You may not use late days on the practicums nor can you drop your practicum grades. \n",
    "- If you have a question for us, post it as a **PRIVATE** message on Piazza.  If we decide that the question is appropriate for the entire class, then we will add it to a Practicum clarifications thread. \n",
    "- Do **NOT** load or use any Python packages that are not available in Anaconda 3.6. \n",
    "- Some problems with code may be autograded.  If we provide a function API **do not** change it.  If we do not provide a function API then you're free to structure your code however you like. \n",
    "- Submit only this Jupyter notebook to Canvas.  Do not compress it using tar, rar, zip, etc. \n",
    "- This should go without saying, but... For any question that asks you to calculate something, you **must show all work to receive credit**. Sparse or nonexistent work will receive sparse or nonexistent credit.\n",
    "\n",
    "---\n",
    "**Shortcuts:**  [Problem 1](#p1) | [Problem 2](#p2) | [Problem 3](#p3) |[Bottom](#bot)\n",
    "\n",
    "---"
   ]
  },
  {
   "cell_type": "code",
   "execution_count": 1,
   "metadata": {},
   "outputs": [],
   "source": [
    "from scipy import stats\n",
    "from random import randint\n",
    "import random\n",
    "from scipy.special import binom\n",
    "import numpy as np \n",
    "import pandas as pd\n",
    "import matplotlib.pyplot as plt\n",
    "import math as mat\n",
    "from collections import Counter\n",
    "%matplotlib inline"
   ]
  },
  {
   "cell_type": "markdown",
   "metadata": {},
   "source": [
    "<br>\n",
    "\n",
    "---\n",
    "[Back to top](#top)\n",
    "<a id='p1'></a>\n",
    "\n",
    "### [30 points] Problem 1: Rubber Ducky Race"
   ]
  },
  {
   "cell_type": "markdown",
   "metadata": {},
   "source": [
    "Every year, the Aspen Valley Rotary Club hosts a [rubber ducky race](https://www.aspenrotary.org/page/the-ducky-derby). Each Rubber Ducky is stamped with a number, tickets are sold  and if your ducky makes it to the end of the course first, you win. Exact Rules follow:\n",
    "\n",
    "1. The Rotary Club sells \"Duck Adoption\" papers. Only Ducks that have been adopted start the race, so there must always be a winner.\n",
    "2. The ducks are dumped into a river and race to a finish line. The adoptive parent of the first duck across the line wins. The standard prize is 15,000 dollars.\n",
    "3. Before the start of the duck race, the Rotary Club randomly draws a number of special ducks. For every 3,333 ducks that start the race, 1 special duck is drawn.\n",
    "4. If a special duck wins the race the prize is increased from 15,000 dollars to 1,000,000 dollars.\n",
    "\n",
    "**Assume that all ducks are equally likely to win the ducky race.**"
   ]
  },
  {
   "cell_type": "markdown",
   "metadata": {},
   "source": [
    "**Part A:**\n",
    "Given that 9999 ducks start the race and you purchase 1 duck, calculate the probability by hand that your duck is selected as a special ducky."
   ]
  },
  {
   "cell_type": "markdown",
   "metadata": {},
   "source": [
    "if I purchase a duck and there are 9,999 ducks all together, and for every 3,333 ducks, 1 special duck is drawn, that means they will choose 3 ducks out of the 9,999 ducks that race. the probability of my duck being picked first is $P(1st) = \\frac{1}{9999}$, the probability of my duck being picked second is $P(2nd) = \\frac{1}{9998}$, and the probability of my duck being picked the third time is $P(3rd) =\\frac{1}{9997}$. the probability of either of these happening is \n",
    "\n",
    "\n",
    "$p(1) = \\frac{1}{9999}= 0.00010001$\n",
    "\n",
    "$p(2|\\bar{1}) = \\frac{1}{9998}*\\frac{9998}{9999} = 0.00009999999$\n",
    "\n",
    "$p(3|\\bar{2}) = \\frac{1}{9997}*\\frac{1}{9998}*\\frac{9998}{9999}$\n",
    "\n",
    "\n",
    "\n",
    "\n",
    "$P(1st)+P(2nd)+P(3rd) = \\frac{1}{9999}+\\frac{1}{9998}+\\frac{1}{9997} = 0.00030006 = 0.03\\%$ "
   ]
  },
  {
   "cell_type": "markdown",
   "metadata": {},
   "source": [
    "**Part B:** Calculate the probability that the rotary club pays out the million dollar prize."
   ]
  },
  {
   "cell_type": "markdown",
   "metadata": {},
   "source": [
    "out of 9999 ducks racing, 3 of those ducks will be special ducks, so again, the probability of a special duck winning the race is  $P(M) =\\frac{1}{3333}$"
   ]
  },
  {
   "cell_type": "markdown",
   "metadata": {},
   "source": [
    "**Part C:** Calculate the probability that your duck is both picked as a special duck and wins the race."
   ]
  },
  {
   "cell_type": "markdown",
   "metadata": {},
   "source": [
    "The Probability of my duck being picked AND winning is equivilant to the probability of my duck being picked, GIVEN it won, times the probability of my duck winning.\n",
    "\n",
    "$P(D\\cap W) = P(D|W)P(W)$\n",
    "\n",
    "My duck being picked and winning are independant of each other so we can also write is ash such\n",
    "\n",
    "$P(D\\cap W) = P(D)P(W)$\n",
    "\n",
    "the probability of my duck being picked is 0.03% and the probability of me winning is 1/9999\n",
    "\n",
    "$P(D\\cap W) = \\frac{1}{3333} * \\frac{1}{9999} = 0.000000030009002300590157043312273544036405660657990756058601 = 0.000003\\%$"
   ]
  },
  {
   "cell_type": "markdown",
   "metadata": {},
   "source": [
    "**Part D:** Calculate the expected payout for the Rotary Club for a 9999 duck race. "
   ]
  },
  {
   "cell_type": "markdown",
   "metadata": {},
   "source": [
    "regular duck winning 15,000\n",
    "special duck winning 1,000,000\n",
    "\n",
    "P(R) = 9996/9999 = 99.96% chance of paying out 15,000 \n",
    "P(S) = 3/9999 = 0.03% chance of paying out 1,000,000\n",
    "\n",
    "\n"
   ]
  },
  {
   "cell_type": "markdown",
   "metadata": {},
   "source": [
    "**Part E:** The Rotary Club takes out an insurance policy on having to pay the 1,000,000 dollar prize. They pay $50 per duck race to the insurance company. From your answer above, is this worth it? Explain. Is there any number of ducks that make the insurance policy a good deal? If it is not worth it, what's a reason the the Rotary Club might buy the policy anyways? "
   ]
  },
  {
   "cell_type": "markdown",
   "metadata": {},
   "source": [
    "the number of ducks doesn't matter because it will always be around a 0.02-0.03% chance of a special duck winning. \n",
    "\n",
    "Even though there is only, at most, a 0.03% chance of a special duck winning, I think it is always worth paying insurance for something that has a probability of occuring, no matter how unlikely it is to occur. "
   ]
  },
  {
   "cell_type": "markdown",
   "metadata": {},
   "source": [
    "**Part F:** Write a python function that simulates a single duck race. It should use the api below and the class written for you. DO NOT CHANGE THE API OR THE ENUMERATED CLASS. The function should take the number of ducks that start the race in as a parameter, and return a tuple of the duck's number that won, and the type of winner that duck was. \n",
    "\n",
    "[E.g. (1522, <Types_Of_Winner.REGULAR: 0>) ] \n",
    "\n",
    "The duck numbers start at 1 and go until the number passed in (Eg. For 500 ducks, the ducks are numbered 1 to 500. No Duck is numbered 0)."
   ]
  },
  {
   "cell_type": "code",
   "execution_count": 2,
   "metadata": {},
   "outputs": [
    {
     "data": {
      "text/plain": [
       "(176, <types_of_winner.REGULAR: 0>)"
      ]
     },
     "execution_count": 2,
     "metadata": {},
     "output_type": "execute_result"
    }
   ],
   "source": [
    "from enum import Enum\n",
    "#Dont change this. You should return a tuple of (int, Type_Of_Winner) in the function below. \n",
    "#The type of winner should be from this class. The int should represent the duck number of the winning duck.\n",
    "#If you want more info about Enumerated Types in python: https://docs.python.org/3/library/enum.html\n",
    "class types_of_winner(Enum):\n",
    "    REGULAR = 0\n",
    "    SPECIAL = 1\n",
    "\n",
    "#don't change this api. We will use a set of unit tests to test this. \n",
    "#This uses a default parameter. If you are unfamiliar with default parameters: \n",
    "#https://www.geeksforgeeks.org/default-arguments-in-python/ \n",
    "#Don't change the default parameter.\n",
    "def rubber_ducky_race(number_of_ducks=3333):\n",
    "    \n",
    "    #YOUR IMPLEMENTATION HERE\n",
    "    #Change the below to simulate a duck race.\n",
    "    numSpecialDucks = mat.floor(number_of_ducks/3333)\n",
    "#     print(numSpecialDucks)\n",
    "    winning_duck_number = np.random.choice(number_of_ducks)\n",
    "    type_of_winner = np.random.choice([types_of_winner.REGULAR,types_of_winner.SPECIAL], \n",
    "                                      p=[(number_of_ducks-numSpecialDucks)/number_of_ducks,numSpecialDucks/number_of_ducks])\n",
    "    \n",
    "    #you can change the variable names, but must return tuple of type (int, Types_Of_Winner)\n",
    "    return (winning_duck_number, type_of_winner)\n",
    "  \n",
    "rubber_ducky_race()"
   ]
  },
  {
   "cell_type": "markdown",
   "metadata": {},
   "source": []
  },
  {
   "cell_type": "markdown",
   "metadata": {},
   "source": [
    "**Part G:** Write a python function that takes in a number of duck races (num_Duck_Races) and a number of ducks per race (num_Ducks_Per_Race). The function should run the function you wrote in part F by passing the number of ducks to the function from part F. It should run the function from part F num_Duck_Races times, and record all the results. It then should calculate the amount of money the rotary club paid out in each race and return a list of the rotary club's payouts (integer values of dollars paid out). Don't change the API as we will be auto grading this."
   ]
  },
  {
   "cell_type": "code",
   "execution_count": 3,
   "metadata": {},
   "outputs": [],
   "source": [
    "#Don't change this api. Use the parameters passed in in your implemenation of this function.\n",
    "def run_Simulation_Duck_Race(num_Duck_Races, num_Ducks_Per_Race):\n",
    "    #IMPLEMENTATION HERE\n",
    "    payoutList = []\n",
    "    for i in range(num_Duck_Races):\n",
    "        winner = rubber_ducky_race(num_Ducks_Per_Race)\n",
    "#         print(winner[1])\n",
    "        \n",
    "#         if regular winner\n",
    "        if winner[1] == types_of_winner.REGULAR:\n",
    "            payoutList.append(15000)\n",
    "        else: payoutList.append(1000000)\n",
    "    #CHANGE RETURN VALUE TO BE LIST OF PAYOUTS FROM YOUR CODE IMPLEMENTED IN THIS FUNCTION\n",
    "    return payoutList\n",
    "# run_Simulation_Duck_Race(1111,3333)"
   ]
  },
  {
   "cell_type": "markdown",
   "metadata": {},
   "source": []
  },
  {
   "cell_type": "markdown",
   "metadata": {},
   "source": [
    "**Part H:** Run the simulation function you made in part G 50 times for 1111 duck races each with 3333 ducks per race. Calculate the mean of each list of payouts returned by your function from part F and plot the mean payout values on a histogram. We recommend using the default bins argument here (don't pass it in). Make sure to make your histogram legible, label the plot, and label the x and the y axes (with their units). Do this all in one cell and run the cell a few times and see what different histograms are generated from the simulations. When you find one with three distinct \"bars\" leave it in the output of the cell. Explain why this histogram makes sense. Your answer here should talk about what each distinct \"bar\" in the histogram represents, the probabiity that the rotary club pays out the million dollar prize, and the number of races in each simulation. "
   ]
  },
  {
   "cell_type": "code",
   "execution_count": 4,
   "metadata": {
    "scrolled": true
   },
   "outputs": [
    {
     "data": {
      "image/png": "[encoded data removed]",
      "text/plain": [
       "<Figure size 432x288 with 1 Axes>"
      ]
     },
     "metadata": {
      "needs_background": "light"
     },
     "output_type": "display_data"
    }
   ],
   "source": [
    "payouts = np.array([])\n",
    "\n",
    "for i in range(50):\n",
    "    raceList = run_Simulation_Duck_Race(1111,3333)\n",
    "    mean = sum(raceList)/len(raceList)\n",
    "#     print(mean)\n",
    "    payouts =np.append(payouts, mean)\n",
    "# print(payouts)\n",
    "\n",
    "plt.hist(payouts, bins='auto')\n",
    "plt.title(\"histogram\")\n",
    "plt.xlabel(\"Payout Amount\")\n",
    "plt.ylabel(\"Payout frequency\")\n",
    "plt.grid()\n",
    "plt.title(\"Race Payout Mean Histogram\")\n",
    "plt.show()\n"
   ]
  },
  {
   "cell_type": "markdown",
   "metadata": {},
   "source": [
    "In the graph above, with 1111 duck races in each of the 50 mean indeces, we have 55,550 races in total. in our leftmost bar in the graph, we have at least 43,329 races that were won by normal ducks, then we have some race means that were scewed by a win from a special duck. sow out of 1111 races we may have one special duck that changes the mean from 150,000 to something a little above 150,000 as we move over to the right of the graph we have a very small percentage of a mean of above 165,000 payouts which has an array of more than one win from a special duck. "
   ]
  },
  {
   "cell_type": "markdown",
   "metadata": {},
   "source": [
    "\n",
    "**Part I:** Pick a lucky number in between 1 and 7000 and run your function from part F 25000 times with 7,000 ducks. Capture all the results and find the number of times your duck won! Was your duck ever a winner or even a special Million Dollar Winner?"
   ]
  },
  {
   "cell_type": "code",
   "execution_count": 5,
   "metadata": {},
   "outputs": [
    {
     "name": "stdout",
     "output_type": "stream",
     "text": [
      "wins: 1 Special wins: 0\n"
     ]
    }
   ],
   "source": [
    "luckyNum = 9\n",
    "wins = 0\n",
    "specialWins=0\n",
    "for i in range(25000):\n",
    "    \n",
    "    race = rubber_ducky_race(7000)\n",
    "#     print(race)\n",
    "#     if my duck wins\n",
    "    if race[0] == luckyNum:\n",
    "        wins += 1\n",
    "#         if my duck special wins\n",
    "        if race[1] == types_of_winner.SPECIAL:\n",
    "            specialwins += 1\n",
    "print(\"wins:\", wins, \"Special wins:\", specialWins)"
   ]
  },
  {
   "cell_type": "markdown",
   "metadata": {},
   "source": [
    "After running my function so many times, I would win between 0-5 times but I never really won with a special duck"
   ]
  },
  {
   "cell_type": "markdown",
   "metadata": {},
   "source": [
    "<br>\n",
    "\n",
    "---\n",
    "[Back to top](#top)\n",
    "<a id='p2'></a>\n",
    "\n",
    "### [20 points] Problem 2: Tax Fraud\n",
    "\n",
    "Let $X =$ the leading digit of a randomly selected number from a large accounting ledger. So, for example, if we randomly draw the number $\\$20,695$, then $X = 2$. People who make up numbers to commit accounting fraud tend to give $X$ a (discrete) uniform distribution, i.e., $P(X = x) = 1/9$, for $x \\in \\{1,...,9\\}$. However, there is empirical evidence that suggests that \"naturally occurring\" numbers (e.g., numbers in a non-fraudulent accounting ledger) have leading digits that do not follow a uniform distribution. Instead, they follow a distribution defined by:\n",
    "\n",
    "\\begin{align*}\n",
    "f(x) = \\log_{10}\\bigg(\\frac{x+1}{x}\\bigg), \\,\\,\\,\\, x = 1,2,...,9.\n",
    "\\end{align*} \n",
    "\n",
    "Using ${\\tt tax.txt}$, a dataset containing the taxable incomes for individuals in 1978, we will decide whether this dataset is fraudulent. \n",
    "\n",
    "\n",
    "\n",
    "**Part A**:  Read in the data and create a variable that holds only the character of each data point."
   ]
  },
  {
   "cell_type": "code",
   "execution_count": 40,
   "metadata": {},
   "outputs": [],
   "source": [
    "df = pd.read_csv(\"tax.txt\")\n",
    "# print(df)\n",
    "dfFig = dfFig.replace('\\B[0-9]', '', regex=True)\n",
    "dfFig = dfFig.replace('.\\t', '', regex=True)\n",
    "dfFig = dfFig.astype(float)\n",
    "# str.extract(r'\\B[0-9]*' , expand=False)\n",
    "# print(dfFig)"
   ]
  },
  {
   "cell_type": "markdown",
   "metadata": {},
   "source": []
  },
  {
   "cell_type": "markdown",
   "metadata": {},
   "source": [
    "**Part B**: Create a histogram of the data that also plots or overlays the suggested non-fradulent density $f(x)$ as well as the density of the discrete uniform over the same support."
   ]
  },
  {
   "cell_type": "code",
   "execution_count": 39,
   "metadata": {},
   "outputs": [
    {
     "data": {
      "text/plain": [
       "<matplotlib.axes._subplots.AxesSubplot at 0x7f6eb6e13710>"
      ]
     },
     "execution_count": 39,
     "metadata": {},
     "output_type": "execute_result"
    },
    {
     "data": {
      "image/png": "[encoded data removed]",
      "text/plain": [
       "<Figure size 1296x648 with 1 Axes>"
      ]
     },
     "metadata": {
      "needs_background": "light"
     },
     "output_type": "display_data"
    }
   ],
   "source": [
    "array = []\n",
    "for i in range(1,10):\n",
    "    array.append(np.log10((i+1)/i))\n",
    "ndf = pd.DataFrame(array)\n",
    "\n",
    "fig,ax = plt.subplots(figsize=(18,9))\n",
    "\n",
    "dfFig.hist(ax=ax, density=True)\n",
    "ndf.plot(ax=ax)"
   ]
  },
  {
   "cell_type": "markdown",
   "metadata": {},
   "source": []
  },
  {
   "cell_type": "markdown",
   "metadata": {},
   "source": [
    "**Part C**: Does it appear as those the data is fraudulent, not fraudulent, or too hard to tell?  What kind of numerical measures could you use to support such a conclusion?"
   ]
  },
  {
   "cell_type": "markdown",
   "metadata": {},
   "source": [
    "I would say it is non fraudulent. although the graph around x > 0 doesnt seem to match up with the overlay I would say its mostly uniform. If it was fraudulent I would expect a more consistent x measurements with each other almost making a horizontal bar of sorts. "
   ]
  },
  {
   "cell_type": "markdown",
   "metadata": {},
   "source": [
    "**Part D**: Create a new object that stores only the first digit of the first 100 distinct powers of 2, e.g. $Y=[2, 2^2, 2^3, 2^4, \\dots ]$.  Repeat steps a) and b) for this new data set, plotting the distribution of the first digit of terms in $Y$ against $f(x)$."
   ]
  },
  {
   "cell_type": "code",
   "execution_count": 46,
   "metadata": {},
   "outputs": [
    {
     "data": {
      "text/plain": [
       "<matplotlib.axes._subplots.AxesSubplot at 0x7f6eb4fc8a90>"
      ]
     },
     "execution_count": 46,
     "metadata": {},
     "output_type": "execute_result"
    },
    {
     "data": {
      "image/png": "[encoded data removed]",
      "text/plain": [
       "<Figure size 1152x576 with 1 Axes>"
      ]
     },
     "metadata": {
      "needs_background": "light"
     },
     "output_type": "display_data"
    }
   ],
   "source": [
    "Array = np.array([])\n",
    "for i in range(101):\n",
    "    Array = np.append(Array, str(2**i))\n",
    "    \n",
    "dfArray = pd.DataFrame(Array)\n",
    "dfArray = dfArray.replace('\\B[0-9]', '', regex=True)\n",
    "dfArray = dfArray.astype(float)\n",
    "\n",
    "mybins = np.arange(0,10,1)\n",
    "fig, ax = plt.subplots(figsize=(16,8))\n",
    "dfArray.hist(ax=ax, density = True, bins = mybins)\n",
    "ndf.plot(ax=ax)"
   ]
  },
  {
   "cell_type": "markdown",
   "metadata": {},
   "source": []
  },
  {
   "cell_type": "markdown",
   "metadata": {},
   "source": [
    "<br>\n",
    "\n",
    "---\n",
    "[Back to top](#top)\n",
    "<a id='p3'></a>\n",
    "\n",
    "### [30 points] Problem 3: Poker\n",
    "\n",
    "It's time to play poker.  (https://en.wikipedia.org/wiki/Texas_hold_%27em#Hand_values) Assume that we are using a standard deck of cards without jokers (52 cards). For each round, you will be dealt 5 cards from the deck without replacement. There are several different types of hands that can be dealt; listed below are a few of interest: \n",
    "\n",
    "- Highcard (Simple value of the card. Lowest: 2 - Highest: Ace)\n",
    "- Pair (Two cards with the same value)\n",
    "- Two pair (Twice two cards with the same value)\n",
    "- Three of a kind (Three cards with the same value)\n",
    "- Straight (Sequence of 5 cards in increasing value, Ace can only follow K)\n",
    "- Four of a kind (Four cards with the same value)\n",
    "- Full house (Three of a kind and a pair)\n",
    "- Flush (5 cards of the same suit)"
   ]
  },
  {
   "cell_type": "markdown",
   "metadata": {},
   "source": [
    "**Part A**: What is the exact probability you get at least a Pair in your 5 cards? What is the probability of getting a Full House?  (Note that we're including pairs as a subset of a full house, here)"
   ]
  },
  {
   "cell_type": "markdown",
   "metadata": {},
   "source": [
    "it will be easier to find out the probability of not getting a pair is $P(\\bar{p}) = \\frac{48}{51}\\frac{44}{50}\\frac{40}{49}\\frac{36}{48} = 0.507$ \n",
    "\n",
    "$P(p) = 1 - P(\\bar{p})$\n",
    "\n",
    "$P(p) = 1 - 0.507$\n",
    "\n",
    "$P(p) = 0.493$"
   ]
  },
  {
   "cell_type": "markdown",
   "metadata": {},
   "source": [
    "**Part B**: Write a function `getCards()` to randomly generate 5 cards from the no-joker deck. This function should return an array of 5 cards."
   ]
  },
  {
   "cell_type": "code",
   "execution_count": null,
   "metadata": {},
   "outputs": [],
   "source": [
    "class Card:\n",
    "    pass\n",
    "\n",
    "suit = ['heart','diamond','club','spade']\n",
    "num = ['ace','2','3','4','5','6','7','8','9','10','jack','queen','king']\n",
    "\n",
    "# randomCard = Card()\n",
    "# randomCard.suit = random.choice(suit)\n",
    "# randomCard.num = random.choice(num)\n",
    "\n",
    "\n",
    "def getCards():\n",
    "    fiveCards = []\n",
    "    while len(fiveCards) < 5:\n",
    "        randomCard = Card()\n",
    "        isIn = False \n",
    "        randomCard.suit = random.choice(suit)\n",
    "        randomCard.num = random.choice(num)\n",
    "#         print(\"random card is the\", randomCard.num , 'of' , randomCard.suit )\n",
    "        \n",
    "        #check if card is already in hand\n",
    "        for i in fiveCards:\n",
    "#             print(\"array card is the\", i.num , 'of' , i.suit )\n",
    "            if randomCard.num == i.num:\n",
    "#                 print(\"same num\")\n",
    "#                 print(randomCard.num)\n",
    "#                 print(i.num)\n",
    "                if randomCard.suit == i.suit:\n",
    "#                     print(\"same suit!\")\n",
    "#                     print(randomCard.suit)\n",
    "#                     print(i.suit)\n",
    "                    isIn = True\n",
    "        if isIn == False:\n",
    "            fiveCards.append(randomCard)\n",
    "        isIn = False\n",
    "    return fiveCards\n",
    "cards = getCards()\n",
    "for i in cards:\n",
    "    print(\" card is the\", i.num , 'of' , i.suit )"
   ]
  },
  {
   "cell_type": "markdown",
   "metadata": {},
   "source": [
    "**Part C**: Run the `getCards()` simulation 10000 times, and store the result in an array named `card_array`."
   ]
  },
  {
   "cell_type": "code",
   "execution_count": null,
   "metadata": {},
   "outputs": [],
   "source": [
    "# npCards = np.array([])\n",
    "card_array = []\n",
    "for i in range(1000):\n",
    "#     npCards = np.append(npCards, getCards())\n",
    "    card_array.append(getCards())\n",
    "print(card_array[10])"
   ]
  },
  {
   "cell_type": "markdown",
   "metadata": {},
   "source": [
    "**Part D**: Write a function `pair(card_array, num_sim)` For the 10000 simulations we did in Part C, what is the probability of have Pair? Does the result agree with your calculation in Part A?"
   ]
  },
  {
   "cell_type": "code",
   "execution_count": null,
   "metadata": {},
   "outputs": [],
   "source": [
    "def pair(card_array, num_sim):\n",
    "    pairs = 0\n",
    "    for fiveCards in card_array:  #for loop through five cards array\n",
    "#         print(fiveCards)\n",
    "        pair = False\n",
    "        nums = []\n",
    "        for card in fiveCards:   #for loop through five cards\n",
    "            nums.append(card.num)    \n",
    "#         print(nums)\n",
    "        \n",
    "        counts = Counter(nums)\n",
    "#         print(counts)\n",
    "        for i in counts:\n",
    "             if counts[i] == 2:\n",
    "                pair = True\n",
    "        if pair == True:\n",
    "#             print(\"found a pair\")\n",
    "            pairs += 1\n",
    "        \n",
    "        pair = False\n",
    "    print(pairs)\n",
    "    return(pairs/num_sim)\n",
    "pair(card_array,1000)"
   ]
  },
  {
   "cell_type": "markdown",
   "metadata": {},
   "source": [
    "**Part E:** Write a function `fullhouse(card_array, num_sim)` For the 10000 simulations we did in Part C, what is the probability of having a Full House? Does the result agree with your calculation in Part A?"
   ]
  },
  {
   "cell_type": "code",
   "execution_count": null,
   "metadata": {},
   "outputs": [],
   "source": [
    "def fullhouse(card_array, num_sim):\n",
    "    fulls = 0\n",
    "    for fiveCards in card_array:  #for loop through five cards array\n",
    "#         print(fiveCards)\n",
    "        three = False\n",
    "        two = False\n",
    "        nums = []\n",
    "        for card in fiveCards:   #for loop through five cards\n",
    "            nums.append(card.num)    \n",
    "#         print(nums)\n",
    "        \n",
    "        counts = Counter(nums)\n",
    "#         print(counts)\n",
    "        for i in counts:\n",
    "            if counts[i] == 3:\n",
    "                three = True\n",
    "            if counts[i] == 2: \n",
    "                two = True\n",
    "            \n",
    "                    \n",
    "        if two == True and three == True:\n",
    "            print(\"found a full house\")\n",
    "            print(counts)\n",
    "            \n",
    "            fulls += 1\n",
    "        \n",
    "        two = False\n",
    "        three = False\n",
    "    print(fulls)\n",
    "    return(fulls/num_sim)\n",
    "fullhouse(card_array,1000)"
   ]
  },
  {
   "cell_type": "code",
   "execution_count": null,
   "metadata": {},
   "outputs": [],
   "source": []
  }
 ],
 "metadata": {
  "kernelspec": {
   "display_name": "Python 3",
   "language": "python",
   "name": "python3"
  },
  "language_info": {
   "codemirror_mode": {
    "name": "ipython",
    "version": 3
   },
   "file_extension": ".py",
   "mimetype": "text/x-python",
   "name": "python",
   "nbconvert_exporter": "python",
   "pygments_lexer": "ipython3",
   "version": "3.7.1"
  }
 },
 "nbformat": 4,
 "nbformat_minor": 2
}
