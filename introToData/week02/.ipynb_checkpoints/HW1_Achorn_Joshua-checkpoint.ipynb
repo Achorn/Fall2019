{
 "cells": [
  {
   "cell_type": "markdown",
   "metadata": {},
   "source": [
    "<a id='top'></a>\n",
    "\n",
    "# Homework 1: Data Cleaning and Exploratory Data Analysis \n",
    "***\n",
    "\n",
    "**Name**: Joshua Achorn (worked with Dennis Lim)\n",
    "\n",
    "***\n",
    "\n",
    "This assignment is due on Canvas by **MIDNIGHT on Friday September 13**. Your solutions to theoretical questions should be done in Markdown directly below the associated question.  Your solutions to computational questions should include any specified Python code and results as well as written commentary on your conclusions.  Remember that you are encouraged to discuss the problems with your classmates, but **you must write all code and solutions on your own**.\n",
    "\n",
    "**NOTES**: \n",
    "\n",
    "- Any relevant data sets should be available under the **Data** module on Canvas. To make life easier on the graders if they need to run your code, do not change the relative path names here. Instead, move the files around on your computer.\n",
    "- If you're not familiar with typesetting math directly into Markdown then by all means, do your work on paper first and then typeset it later.  Remember that there is a [reference guide](https://math.meta.stackexchange.com/questions/5020/mathjax-basic-tutorial-and-quick-reference) linked on Canvas on writing math in Markdown. **All** of your written commentary, justifications and mathematical work should be in Markdown.\n",
    "- Because you can technically evaluate notebook cells is a non-linear order, it's a good idea to do Kernel $\\rightarrow$ Restart & Run All as a check before submitting your solutions.  That way if we need to run your code you will know that it will work as expected. \n",
    "- It is **bad form** to make your reader interpret numerical output from your code.  If a question asks you to compute some value from the data you should show your code output **AND** write a summary of the results in Markdown directly below your code. \n",
    "- This probably goes without saying, but... For any question that asks you to calculate something, you **must show all work and justify your answers to receive credit**. Sparse or nonexistent work will receive sparse or nonexistent credit. \n",
    "\n",
    "---\n",
    "**Shortcuts:**  [Problem 1](#p1) | [Problem 2](#p2) | [Problem 3](#p3) | [Problem 4](#p4) | [Problem 5](#p5) | [Problem 6](#p6)\n",
    "\n",
    "---"
   ]
  },
  {
   "cell_type": "code",
   "execution_count": 4,
   "metadata": {},
   "outputs": [],
   "source": [
    "import pandas as pd\n",
    "import numpy as np\n",
    "import matplotlib.pylab as plt\n",
    "%matplotlib inline"
   ]
  },
  {
   "cell_type": "markdown",
   "metadata": {},
   "source": [
    "[Back to top](#top)\n",
    "\n",
    "<br>\n",
    "\n",
    "<a/ id='p1'></a>\n",
    "\n",
    "### (10 points) Problem 1\n",
    "***\n",
    "\n",
    "<img style=\"float: left; width: 200px; padding: 3mm;\" src=\"https://aquarium.org/wp-content/uploads/2015/08/Seahorse-female.jpg\" alt=\"Drawing\"/>  \n",
    "Poseidon is studying seahorses. Locations in each of the Atlantic, Pacific, Indian, Artic, and Southern Oceans are chosen to catch and release seahorses. After being caught, the seahorses are monitored for 24 hours while being fed organic, free-range plankton. The amount of plankton that each seahorse eats is recorded in an app on Poseidon’s phone, called Hippocampus. He collects 6 seahorses from the Arctic Ocean, 36 seahorses from the Pacific Ocean, 12 seahorses from the Indian Ocean, 6 seahorses from the Southern Ocean, and 42 seahorses from the Atlantic Ocean. \n",
    "\n",
    "Poseidon wants to get a sense for the average amount of plankton eaten by seahorses, so he uses the Hippcampus app to randomly choose 1 seahorse from the Arctic, 6 from the Pacific, 2 from the Indian Ocean, 1 from the Southern Ocean, and 7 from the Atlantic Ocean.\n",
    "\n",
    "$$ \\quad $$\n",
    "    \n",
    "**Part A:** Identify the following: \n",
    "\n",
    "- the population \n",
    "- the sample frame \n",
    "- the sample \n",
    "- the type of sample \n",
    "- the quantity of interest"
   ]
  },
  {
   "cell_type": "markdown",
   "metadata": {},
   "source": [
    "* population is seahorses, in the Atlantic, Pacific, Indian, Artic, and Southern Oceans\n",
    "* sample frame seahorses that are caught\n",
    "* the sample is the randomely selected seahorses from each ocean\n",
    "* the type of sample stratified \n",
    "* the quantity of interest is the average amount of plankton eaten by seahorses"
   ]
  },
  {
   "cell_type": "markdown",
   "metadata": {},
   "source": [
    "**Part B:** Poseidon repeats his sampling, again using the Hippocampus app. Now, he orders the data alphabetically by location and chooses every 3rd data value. \n",
    "    \n",
    "Identify the following: \n",
    "\n",
    "- the population \n",
    "- the sample frame \n",
    "- the sample \n",
    "- the type of sample \n",
    "- the quantity of interest"
   ]
  },
  {
   "cell_type": "markdown",
   "metadata": {},
   "source": [
    "* population is seahorses, in the Atlantic, Pacific, Indian, Artic, and Southern Oceans\n",
    "* sample frame seahorses that are caught\n",
    "* the sample is the randomely selected seahorses from each ocean\n",
    "* the type of sample stratified and systematic sampling\n",
    "* the quantity of interest is the average amount of plankton eaten by seahorses"
   ]
  },
  {
   "cell_type": "markdown",
   "metadata": {},
   "source": [
    "[Back to top](#top)\n",
    "\n",
    "<br>\n",
    "\n",
    "<a/ id='p2'></a>\n",
    "\n",
    "### (20 points) Problem 2\n",
    "***\n",
    "\n",
    "A method to investigate the sensitivity of the sample mean and sample median to extreme outliers and changes in the dataset is to replace one or more elements in a given dataset by a number $y$ and investigate the effect when $y$ changes. To illustrate this, consider the following dataset:\n",
    " \n",
    "$$  4.3 \\quad 5.2 \\quad 5.0 \\quad y \\quad 3.8 \\quad 4.1 \\quad 5.5 \\quad 1.9 $$\n",
    "\n",
    "\n"
   ]
  },
  {
   "cell_type": "markdown",
   "metadata": {},
   "source": [
    "**Part A:** Compute the sample mean and sample median for $y=1.5$. Then compute both quantities again for $y=6$."
   ]
  },
  {
   "cell_type": "code",
   "execution_count": 5,
   "metadata": {},
   "outputs": [
    {
     "name": "stdout",
     "output_type": "stream",
     "text": [
      "mean:  3.9125  median:  4.199999999999999\n"
     ]
    }
   ],
   "source": [
    "y= 1.5\n",
    "a = np.array([4.3,5.2,5.0,y,3.8,4.1,5.5,1.9],dtype=float)\n",
    "print(\"mean: \",np.mean(a),\" median: \",np.median(a))"
   ]
  },
  {
   "cell_type": "code",
   "execution_count": 6,
   "metadata": {},
   "outputs": [
    {
     "name": "stdout",
     "output_type": "stream",
     "text": [
      "mean:  4.475  median:  4.65\n"
     ]
    }
   ],
   "source": [
    "y=6\n",
    "aSix = np.array([4.3,5.2,5.0,y,3.8,4.1,5.5,1.9], dtype=float)\n",
    "\n",
    "print(\"mean: \",np.mean(aSix),\" median: \",np.median(aSix))"
   ]
  },
  {
   "cell_type": "markdown",
   "metadata": {},
   "source": [
    "**Part B:** Is there a value for $y$ that would make the mean of the data equal to 6? If so, calculate the value of $y$ that makes the mean equal to 6. If not, clearly explain why not.\n",
    "    \n",
    "Is there a value for $y$ that would make the median of the data equal to 6? If so, calculate the values of $y$ that makes the median equal to 6. If not, clearly explain why not."
   ]
  },
  {
   "cell_type": "markdown",
   "metadata": {},
   "source": [
    "* the value of y to make the mean of the data equal to 6 is:  6*8-4.3-5.2-5.0-3.8-4.1-5.5-1.9)\n",
    "\n",
    "* there is no value that would make the median of the data equal to 6\n",
    "* the reason why, is because depending on the value of 'y', the numbers in the middle of the data are around 4.1, 4.3, or 5.2\n",
    "* So, in order for y to impact the median, it would need to position itself in the middle of the data. However, doing so would confine 'y' to a window from 4-5, leaving the median to staying around 4-5"
   ]
  },
  {
   "cell_type": "markdown",
   "metadata": {},
   "source": [
    "**Part C**: Compute the sample variance and the sample standard deviation for the original dataset given in part A, with $y=6$."
   ]
  },
  {
   "cell_type": "code",
   "execution_count": 7,
   "metadata": {},
   "outputs": [
    {
     "name": "stdout",
     "output_type": "stream",
     "text": [
      "Sample variance is:  1.633571428571429\n",
      "Standard Deviation is:  1.2781124475457661\n"
     ]
    }
   ],
   "source": [
    "print(\"Sample variance is: \", np.var(aSix, ddof=1))\n",
    "print(\"Standard Deviation is: \", np.std(aSix, ddof=1))"
   ]
  },
  {
   "cell_type": "markdown",
   "metadata": {},
   "source": [
    "**Part D**: Compute the sample median for the following cases: \n",
    "- $y=5$ \n",
    "- $y=50$ \n",
    "- $y=4.36$ \n",
    "- $y \\to \\infty$ \n",
    "- $y \\to -\\infty$"
   ]
  },
  {
   "cell_type": "code",
   "execution_count": 8,
   "metadata": {},
   "outputs": [
    {
     "data": {
      "text/plain": [
       "4.65"
      ]
     },
     "execution_count": 8,
     "metadata": {},
     "output_type": "execute_result"
    }
   ],
   "source": [
    "aFive = np.array([4.3,5.2,5.0,3.8,4.1,5.5,1.9,5], dtype=float)\n",
    "np.median(aFive)\n"
   ]
  },
  {
   "cell_type": "code",
   "execution_count": 9,
   "metadata": {},
   "outputs": [
    {
     "data": {
      "text/plain": [
       "4.65"
      ]
     },
     "execution_count": 9,
     "metadata": {},
     "output_type": "execute_result"
    }
   ],
   "source": [
    "aFifty = np.array([4.3,5.2,5.0,3.8,4.1,5.5,1.9,50], dtype=float)\n",
    "np.median(aFifty)"
   ]
  },
  {
   "cell_type": "code",
   "execution_count": 10,
   "metadata": {},
   "outputs": [
    {
     "data": {
      "text/plain": [
       "4.33"
      ]
     },
     "execution_count": 10,
     "metadata": {},
     "output_type": "execute_result"
    }
   ],
   "source": [
    "aFour = np.array([4.3,5.2,5.0,3.8,4.1,5.5,1.9,4.36], dtype=float)\n",
    "np.median(aFour)"
   ]
  },
  {
   "cell_type": "code",
   "execution_count": 11,
   "metadata": {},
   "outputs": [
    {
     "data": {
      "text/plain": [
       "4.65"
      ]
     },
     "execution_count": 11,
     "metadata": {},
     "output_type": "execute_result"
    }
   ],
   "source": [
    "aINF = np.array([4.3,5.2,5.0,3.8,4.1,5.5,1.9,np.inf], dtype=float)\n",
    "np.median(aINF)"
   ]
  },
  {
   "cell_type": "code",
   "execution_count": 12,
   "metadata": {},
   "outputs": [
    {
     "data": {
      "text/plain": [
       "4.199999999999999"
      ]
     },
     "execution_count": 12,
     "metadata": {},
     "output_type": "execute_result"
    }
   ],
   "source": [
    "aNINF = np.array([4.3,5.2,5.0,3.8,4.1,5.5,1.9,np.NINF], dtype=float)\n",
    "np.median(aNINF)"
   ]
  },
  {
   "cell_type": "markdown",
   "metadata": {},
   "source": [
    "**Part E**: Think about the previous parts, above, and describe in words or mathematical notation the answers to the following two questions:\n",
    "\n",
    "- By varying $y$, what is the set of all the possible values that the sample mean could take on?\n",
    "- By varying $y$, what is the set of all the possible values that the sample median could take on? Specifically, for what sets of $y$ values does the median take on its different possible values?"
   ]
  },
  {
   "cell_type": "markdown",
   "metadata": {},
   "source": [
    "* By varying 'y', the set of all possible values the sample mean could take on would be negative infinity to infity\n",
    "* By varying 'y', the set of all possible values the sample median could take on would be between 4.19 and 4.65"
   ]
  },
  {
   "cell_type": "markdown",
   "metadata": {},
   "source": [
    "**Part F**: Describe in words or mathematical notation, what happens to the sample standard deviation when $y$ is varied in the following ways: \n",
    " \n",
    "- $y \\to \\infty$ \n",
    "- $y \\to \\bar{x}$\n"
   ]
  },
  {
   "cell_type": "markdown",
   "metadata": {},
   "source": [
    "* If y gets bigger to infinity, we know the SD will also increase to infinity, because they are heavily influenced by outliers\n",
    "* As y gets closer to the mean, the spread of the standard deviation gets smaller and closer to the mean"
   ]
  },
  {
   "cell_type": "markdown",
   "metadata": {},
   "source": [
    "[Back to top](#top)\n",
    "<a/ id='p3'></a>\n",
    "\n",
    "## (20 pts) Problem 3 \n",
    "***\n",
    "\n",
    "Let $x_1, x_2, \\ldots, x_n$ be $n$ observations of a variable of interest.  Recall that the sample mean $\\bar{x}_n$ and sample variance $s^2_n$ are given by \n",
    "\n",
    "$$\n",
    "\\bar{x}_n = \\frac{1}{n}\\sum_{k=1}^n x_k \\quad \\textrm{and} \\quad s^2_n = \\frac{1}{n-1}\\sum_{k=1}^n \\left( x_k - \\bar{x}_n\\right)^2 \\qquad \\tag{Equation 1}\n",
    "$$\n",
    "\n",
    "where here the subscript $n$'s indicate the number of observations in the sample. Notice that a natural computation of the variance requires two passes over the data: one to compute the mean, and a second to subtract the mean from each observation and compute the sum of squares. It is often useful to be able to compute the variance in a single pass, inspecting each value $x_k$ only once; for example, when the data are being collected without enough storage to keep all the values, or when costs of memory access dominate those of computation. In this problem you will explore two methods for such an _online_ computation of the mean.  \n",
    "\n",
    "**Part A**: Show algebraically that the following relation holds between the mean of the first $n-1$ observations and the mean of all $n$ observations: \n",
    "\n",
    "$$\n",
    "\\bar{x}_n = \\bar{x}_{n-1} + \\frac{x_n - \\bar{x}_{n-1}}{n}\n",
    "$$\n",
    "\n",
    "Note that you can get an expression for $\\bar{x}_{n-1}$ by simply replacing $n$ in Equation 1 above with $n-1$."
   ]
  },
  {
   "cell_type": "markdown",
   "metadata": {},
   "source": [
    "Prove:\n",
    "$$\\bar{x}_n = \\bar{x}_{n-1} + \\frac{x_n - \\bar{x}_{n-1}}{n}$$\n",
    "\n",
    "$$\\bar{x} = \\frac{1}{n}\\sum_{k=1}^n x_k$$\n",
    "$$\\bar{x} = \\frac{1}{n} \\sum_{k=1}^{n-1} x_k + \\frac{1}{n}x_n$$\n",
    "$$\\bar{x} = \\big(\\frac{1-n}{1-n}\\big)\\big(\\frac{1}{n} \\big) \\sum_{k=1}^{n-1} x_k + \\frac{1}{n}x_n$$\n",
    "\n",
    "$$\\bar{x} = \\frac{n-1}{n} \\left(\\frac{1}{n-1} \\sum_{k=1}^{n-1} x_k\\right) + \\frac{1}{n}x_n $$\n",
    "$$\\bar{x} = \\frac{n-1}{n} \\bar{x}_{n-1} + \\frac{1}{n}x_n$$\n",
    "\n",
    "$$\\bar{x} = \\frac{n}{n}\\bar{x}_{n-1} - \\frac{1}{n}\\bar{x}_{n-1} + \\frac{1}{n}x_n$$\n",
    "$$\\bar{x} = \\bar{x}_{n-1} + \\frac{x_n - \\bar{x}_{n-1}}{n} $$\n",
    "\n",
    "worked with Dennis Lim. "
   ]
  },
  {
   "cell_type": "markdown",
   "metadata": {},
   "source": [
    "**Part B**: Write a function `my_sample_mean` that takes as its input a numpy array and returns the mean of that numpy array using the formulas from class (written above). Write another function `my_sample_var` that takes as its input a numpy array and returns the variance of that numpy array, again using the formulas from class (written above). You may **not** use any built-in sample mean or variance functions."
   ]
  },
  {
   "cell_type": "code",
   "execution_count": 13,
   "metadata": {},
   "outputs": [
    {
     "data": {
      "text/plain": [
       "4.257142857142856"
      ]
     },
     "execution_count": 13,
     "metadata": {},
     "output_type": "execute_result"
    }
   ],
   "source": [
    "def my_sample_mean(arr):\n",
    "    return (1/len(arr))*(arr.sum())\n",
    "\n",
    "a = np.array([4.3,5.2,5.0,3.8,4.1,5.5,1.9],dtype=float)\n",
    "\n",
    "my_sample_mean(a)\n",
    "# a.mean()"
   ]
  },
  {
   "cell_type": "code",
   "execution_count": 14,
   "metadata": {},
   "outputs": [
    {
     "data": {
      "text/plain": [
       "1.462857142857143"
      ]
     },
     "execution_count": 14,
     "metadata": {},
     "output_type": "execute_result"
    }
   ],
   "source": [
    "def my_sample_var(arr):\n",
    "    xBar = my_sample_mean(arr)\n",
    "    part1 = (1/(len(arr)-1))\n",
    "    part2 = 0\n",
    "    for i in arr:\n",
    "        part2 += (i-xBar)**2\n",
    "    return part1*part2\n",
    "\n",
    "my_sample_var(a)\n",
    "# a.var()"
   ]
  },
  {
   "cell_type": "markdown",
   "metadata": {},
   "source": [
    "**Part C**: Use your functions from Part B to compute the sample mean and sample variance of the following array, which contains the plankton consumed by a sample of 12 seahorses.\n",
    "\n",
    "`pla = [98, 26, 83, 56, 60, 39, 81, 19, 72, 78, 94, 42]`"
   ]
  },
  {
   "cell_type": "code",
   "execution_count": 41,
   "metadata": {},
   "outputs": [
    {
     "name": "stdout",
     "output_type": "stream",
     "text": [
      "Sample mean 62.33333333333333 Sample var :  690.0606060606061\n"
     ]
    }
   ],
   "source": [
    "pla = np.array([98, 26, 83, 56, 60, 39, 81, 19, 72, 78, 94, 42], dtype=float)\n",
    "# pla.mean()\n",
    "print(\"Sample mean\", my_sample_mean(pla),\"Sample var : \", my_sample_var(pla))\n"
   ]
  },
  {
   "cell_type": "markdown",
   "metadata": {},
   "source": [
    "**Part D**: Implement a third function called `update_mean` that implements the formula whose validity you proved in Part A. Note that this function will need to take as its input three things: $x_n$, $\\bar{x}_{n-1}$ and $n$. A function header is provided for you. This function may be auto-graded, so please do not change the given API - the order of inputs matters! If you change it, you might lose points.\n",
    "\n",
    "Use this function to compute the values that you get from taking the mean of the first seahorse's plankton, the first two seahorses, the first three seahorses, and so on up to all of the seahorse data points. Store your plankton means in a numpy array called `pla_means`.  Report all 12 estimates in `pla_means`."
   ]
  },
  {
   "cell_type": "code",
   "execution_count": 48,
   "metadata": {},
   "outputs": [
    {
     "name": "stdout",
     "output_type": "stream",
     "text": [
      "[19. 26. 39. 42. 56. 60. 72. 78. 81. 83. 94. 98.]\n",
      "[19.         22.5        28.         31.5        36.4        40.33333333\n",
      " 44.85714286 49.         52.55555556 55.6        59.09090909 62.33333333]\n"
     ]
    }
   ],
   "source": [
    "# Given API:\n",
    "def update_mean(prev_mean, xn, n):\n",
    "    return prev_mean + (xn - prev_mean)/n\n",
    "    \n",
    "pla = np.sort(pla)\n",
    "print(pla)\n",
    "mean = np.array([pla[0]],dtype = float)\n",
    "for i in range(1, 12):\n",
    "    mean = np.append(mean, update_mean(mean[i- 1], pla[i], i+1))\n",
    "    \n",
    "print(mean)\n",
    "\n",
    "# worked on code with Dennis Lim. "
   ]
  },
  {
   "cell_type": "markdown",
   "metadata": {},
   "source": [
    "To ensure your function complies with the given API, run this small test, where we suppose we have a mean of $\\bar{x}_n = 1$ with the first $2$ data points (`prev_mean`), and we update this with the 3rd ($n=3$) data point which is $x_3=2$:"
   ]
  },
  {
   "cell_type": "code",
   "execution_count": 49,
   "metadata": {},
   "outputs": [],
   "source": [
    "assert update_mean(1,2,3)==4/3, \"Warning: function seems broken.\""
   ]
  },
  {
   "cell_type": "markdown",
   "metadata": {},
   "source": [
    "[Back to top](#top)\n",
    "\n",
    "<a/ id='p4'></a>\n",
    "\n",
    "## (25 pts) Problem 4\n",
    "*** \n",
    "Some claim that the final hours aboard the RMS Titanic were marked by \"class warfare\" in which the people with first-class tickets took all the good spots on the lifeboats; others claim that the final hours were characterized by male chivalry, in which the men valiantly gave up their positions in the boats and succumbed bravely to the depths of the Atlantic. \n",
    "\n",
    "We have the data on survival rates by class and by sex, so let's figure out whether there is evidence for these scenarios. Access the Titanic data in `titanic_data.csv` and store it in a Pandas DataFrame. The data contains information pertaining to class status (**Pclass**), survival (**Survived**), and gender (**Sex**) of passengers, among other things. Be sure to use the `titanic_data.csv` data set, *not* the `clean_titanic_data` file from the in-class notebook."
   ]
  },
  {
   "cell_type": "code",
   "execution_count": 18,
   "metadata": {},
   "outputs": [
    {
     "data": {
      "text/html": [
       "<div>\n",
       "<style scoped>\n",
       "    .dataframe tbody tr th:only-of-type {\n",
       "        vertical-align: middle;\n",
       "    }\n",
       "\n",
       "    .dataframe tbody tr th {\n",
       "        vertical-align: top;\n",
       "    }\n",
       "\n",
       "    .dataframe thead th {\n",
       "        text-align: right;\n",
       "    }\n",
       "</style>\n",
       "<table border=\"1\" class=\"dataframe\">\n",
       "  <thead>\n",
       "    <tr style=\"text-align: right;\">\n",
       "      <th></th>\n",
       "      <th>PassengerId</th>\n",
       "      <th>Survived</th>\n",
       "      <th>Pclass</th>\n",
       "      <th>Name</th>\n",
       "      <th>Sex</th>\n",
       "      <th>Age</th>\n",
       "      <th>SibSp</th>\n",
       "      <th>Parch</th>\n",
       "      <th>Ticket</th>\n",
       "      <th>Fare</th>\n",
       "      <th>Cabin</th>\n",
       "      <th>Embarked</th>\n",
       "    </tr>\n",
       "  </thead>\n",
       "  <tbody>\n",
       "    <tr>\n",
       "      <th>0</th>\n",
       "      <td>1</td>\n",
       "      <td>0</td>\n",
       "      <td>3</td>\n",
       "      <td>Braund, Mr. Owen Harris</td>\n",
       "      <td>male</td>\n",
       "      <td>36.0</td>\n",
       "      <td>1</td>\n",
       "      <td>0</td>\n",
       "      <td>A/5 21171</td>\n",
       "      <td>7.2500</td>\n",
       "      <td>NaN</td>\n",
       "      <td>S</td>\n",
       "    </tr>\n",
       "    <tr>\n",
       "      <th>1</th>\n",
       "      <td>2</td>\n",
       "      <td>1</td>\n",
       "      <td>1</td>\n",
       "      <td>Cumings, Mrs. John Bradley (Florence Briggs Th...</td>\n",
       "      <td>female</td>\n",
       "      <td>18.0</td>\n",
       "      <td>1</td>\n",
       "      <td>0</td>\n",
       "      <td>PC 17599</td>\n",
       "      <td>71.2833</td>\n",
       "      <td>C85</td>\n",
       "      <td>C</td>\n",
       "    </tr>\n",
       "    <tr>\n",
       "      <th>2</th>\n",
       "      <td>3</td>\n",
       "      <td>1</td>\n",
       "      <td>3</td>\n",
       "      <td>Heikkinen, Miss. Laina</td>\n",
       "      <td>female</td>\n",
       "      <td>14.0</td>\n",
       "      <td>0</td>\n",
       "      <td>0</td>\n",
       "      <td>STON/O2. 3101282</td>\n",
       "      <td>7.9250</td>\n",
       "      <td>NaN</td>\n",
       "      <td>S</td>\n",
       "    </tr>\n",
       "    <tr>\n",
       "      <th>3</th>\n",
       "      <td>4</td>\n",
       "      <td>1</td>\n",
       "      <td>1</td>\n",
       "      <td>Futrelle, Mrs. Jacques Heath (Lily May Peel)</td>\n",
       "      <td>female</td>\n",
       "      <td>27.0</td>\n",
       "      <td>1</td>\n",
       "      <td>0</td>\n",
       "      <td>113803</td>\n",
       "      <td>53.1000</td>\n",
       "      <td>C123</td>\n",
       "      <td>S</td>\n",
       "    </tr>\n",
       "    <tr>\n",
       "      <th>4</th>\n",
       "      <td>5</td>\n",
       "      <td>0</td>\n",
       "      <td>3</td>\n",
       "      <td>Allen, Mr. William Henry</td>\n",
       "      <td>male</td>\n",
       "      <td>63.0</td>\n",
       "      <td>0</td>\n",
       "      <td>0</td>\n",
       "      <td>373450</td>\n",
       "      <td>8.0500</td>\n",
       "      <td>NaN</td>\n",
       "      <td>S</td>\n",
       "    </tr>\n",
       "  </tbody>\n",
       "</table>\n",
       "</div>"
      ],
      "text/plain": [
       "   PassengerId  Survived  Pclass  \\\n",
       "0            1         0       3   \n",
       "1            2         1       1   \n",
       "2            3         1       3   \n",
       "3            4         1       1   \n",
       "4            5         0       3   \n",
       "\n",
       "                                                Name     Sex   Age  SibSp  \\\n",
       "0                            Braund, Mr. Owen Harris    male  36.0      1   \n",
       "1  Cumings, Mrs. John Bradley (Florence Briggs Th...  female  18.0      1   \n",
       "2                             Heikkinen, Miss. Laina  female  14.0      0   \n",
       "3       Futrelle, Mrs. Jacques Heath (Lily May Peel)  female  27.0      1   \n",
       "4                           Allen, Mr. William Henry    male  63.0      0   \n",
       "\n",
       "   Parch            Ticket     Fare Cabin Embarked  \n",
       "0      0         A/5 21171   7.2500   NaN        S  \n",
       "1      0          PC 17599  71.2833   C85        C  \n",
       "2      0  STON/O2. 3101282   7.9250   NaN        S  \n",
       "3      0            113803  53.1000  C123        S  \n",
       "4      0            373450   8.0500   NaN        S  "
      ]
     },
     "execution_count": 18,
     "metadata": {},
     "output_type": "execute_result"
    }
   ],
   "source": [
    "df = pd.read_csv(\"titanic_data.csv\")\n",
    "df.head()"
   ]
  },
  {
   "cell_type": "markdown",
   "metadata": {},
   "source": [
    "**Part A**: Consider the two claims: class warfare, and male chivalry. Suppose that class warfare occurred in the final hours aboard the Titanic.  What patterns might you expect to see in the data?  Suppose that male chivalry was widespread during the final hours instead. What patterns might you then expect to see in the data?  Explain both of these hypothesized patterns in words. Are these two hypotheses mutually exclusive or not?"
   ]
  },
  {
   "cell_type": "markdown",
   "metadata": {},
   "source": [
    "* If class warfare occured in the final hours, I would assume that a higher survival rate in higher class. \n",
    "* If Male chivalry were to occure, I assome a higher survival rate in women compared to men\n",
    "* they are not mutually exclusive because the two overlap. You could be male or female, yet you were still impacted by your class status"
   ]
  },
  {
   "cell_type": "markdown",
   "metadata": {},
   "source": [
    "**Part B**: Use Pandas (see: `dropna`) methods to create a clean data set by removing any rows from the DataFrame that are missing values corresponding to **Survived**, **Pclass**, **Age**, or **Sex**. Store the clean data in a DataFrame called dfTitanic. Be sure to show any exploratory work determining if/where there are rows with missing values."
   ]
  },
  {
   "cell_type": "code",
   "execution_count": 19,
   "metadata": {},
   "outputs": [
    {
     "name": "stdout",
     "output_type": "stream",
     "text": [
      "\n",
      "Old data frame length: 891 \n",
      "New data frame length: 164 \n",
      "Number of rows with at least 1 NA value:  727\n"
     ]
    }
   ],
   "source": [
    "dfTitanic = df.dropna()\n",
    "dfTitanic.head()\n",
    "print(\"\")\n",
    "\n",
    " \n",
    "# comparing sizes of data frames \n",
    "print(\"Old data frame length:\", len(df), \"\\nNew data frame length:\",  \n",
    "       len(dfTitanic), \"\\nNumber of rows with at least 1 NA value: \", \n",
    "       (len(df)-len(dfTitanic))) \n"
   ]
  },
  {
   "cell_type": "markdown",
   "metadata": {},
   "source": [
    "**Part C**: Compute the fraction of survivors according to class and gender. There are 3 passenger classes and 2 sexes in the data set, so you should report all 6 possible combinations.  Then, answer 3 questions:\n",
    "* **(i)** Within each passenger class, were men or women more/less/equally likely to survive?\n",
    "* **(ii)**  Looking at only the male or only the female passengers, how is passenger class related to the category's survival rate?\n",
    "* **(iii)**  Did men in first class or women in third class have a higher survival rate? "
   ]
  },
  {
   "cell_type": "code",
   "execution_count": 20,
   "metadata": {},
   "outputs": [
    {
     "name": "stdout",
     "output_type": "stream",
     "text": [
      "length of 1 class male :  43.05555555555556 %\n",
      "length of 1 class female :  95.45454545454545 %\n",
      "length of 2 class male :  66.66666666666666 %\n",
      "length of 2 class female :  87.5 %\n",
      "length of 3 class male :  33.33333333333333 %\n",
      "length of 3 class female :  66.66666666666666 %\n"
     ]
    }
   ],
   "source": [
    "#Your code\n",
    "def classSexSurv(sex, classNum):\n",
    "    subDf =     dfTitanic[(dfTitanic[\"Sex\"] == sex) & (dfTitanic[\"Pclass\"] == classNum)]\n",
    "    subDfSurv = dfTitanic[(dfTitanic[\"Sex\"] == sex) & (dfTitanic[\"Pclass\"] == classNum) & (dfTitanic[\"Survived\"] == 1)]\n",
    "    print(\"length of\" ,classNum , \"class\" ,sex, \": \", len(subDfSurv)/len(subDf)*100, \"%\")\n",
    "          \n",
    "classSexSurv(\"male\",1)\n",
    "classSexSurv(\"female\",1)\n",
    "\n",
    "classSexSurv(\"male\",2)\n",
    "classSexSurv(\"female\",2)\n",
    "\n",
    "classSexSurv(\"male\",3)\n",
    "classSexSurv(\"female\",3)"
   ]
  },
  {
   "cell_type": "markdown",
   "metadata": {},
   "source": [
    "* (i) With each class, Women were more likely to survive\n",
    "* (ii) With males, second class had a higher survival rate, then 1st, then third. with females. the higher your class, the higher your survival rate\n",
    "* (iii) Third class women had a higher survival rate then 1st class men"
   ]
  },
  {
   "cell_type": "markdown",
   "metadata": {},
   "source": [
    "**Part D**: Plot a histogram of all of the passenger ages, using the bin edges $[0,5,10,\\ldots,70,75,80]$ defined by `my_bins` below. How would you characterize the distribution of **AGE**? (By _characterize_ we mean that you should indicate whether the data are unimodal, bimodal, multimodal, symmetric, negatively skewed, positively skewed, etc.)  Be sure to label your axes and use your figure to justify your conclusions."
   ]
  },
  {
   "cell_type": "code",
   "execution_count": 21,
   "metadata": {},
   "outputs": [],
   "source": [
    "my_bins = range(0,85,5)"
   ]
  },
  {
   "cell_type": "code",
   "execution_count": 22,
   "metadata": {},
   "outputs": [
    {
     "data": {
      "text/plain": [
       "array([<matplotlib.axes._subplots.AxesSubplot object at 0x7fa0d870edd8>],\n",
       "      dtype=object)"
      ]
     },
     "execution_count": 22,
     "metadata": {},
     "output_type": "execute_result"
    },
    {
     "data": {
      "image/png": "[encoded data removed]",
      "text/plain": [
       "<Figure size 576x288 with 1 Axes>"
      ]
     },
     "metadata": {
      "needs_background": "light"
     },
     "output_type": "display_data"
    }
   ],
   "source": [
    "#Your code\n",
    "#init figure\n",
    "fig, ax = plt.subplots(figsize=(8,4))\n",
    "\n",
    "dfTitanic.hist(column=\"Age\", ax=ax, bins=my_bins)"
   ]
  },
  {
   "cell_type": "markdown",
   "metadata": {},
   "source": [
    "* Although there is a spike around 50-55 years of age, I would say the graph is overwhemingly unimodal\n",
    "* The graph has a positive scew with the median leaning to the left of the graph"
   ]
  },
  {
   "cell_type": "markdown",
   "metadata": {},
   "source": [
    "**Part E**: One might wonder how a passenger's age is related to the likelihood that they would survive the Titanic disaster. To answer this question graphically, plot two density histograms on the same set of axes, showing the distribution of the ages of passengers who survived, and the distribution of the ages of passengers who did not. \n",
    "* Use the bin edges $[0,5,10,\\ldots,70,75,80]$ for both histograms.\n",
    "* This problem is about a *ship* sinking in the *ocean*, so use **coral** and **seagreen** as the facecolors for your histogram boxes.\n",
    "* Plot both histograms on a single set of axes (there should be only one panel in the figure you create), but use Matplotlib/Pandas plotting functionality to make the faces of the histogram boxes somewhat transparent, so both histograms are visible.\n",
    "* Include a legend and label your axes.\n",
    "* Comment on the results. Does your figure suggest that some age ranges are more or less likely to have survived the disaster than other ages? Fully explain your reasoning and use your figure to justify your conclusions.\n",
    "* If you noticed some relationship between age and likelihood of survival, what is one possible explanation?"
   ]
  },
  {
   "cell_type": "code",
   "execution_count": 23,
   "metadata": {},
   "outputs": [
    {
     "data": {
      "text/plain": [
       "<matplotlib.legend.Legend at 0x7fa0d835a358>"
      ]
     },
     "execution_count": 23,
     "metadata": {},
     "output_type": "execute_result"
    },
    {
     "data": {
      "image/png": "[encoded data removed]",
      "text/plain": [
       "<Figure size 576x288 with 1 Axes>"
      ]
     },
     "metadata": {
      "needs_background": "light"
     },
     "output_type": "display_data"
    }
   ],
   "source": [
    "my_bins = range(0,85,5)\n",
    "#init figure\n",
    "fig, ax = plt.subplots(figsize=(8,4))\n",
    "\n",
    "\n",
    "# plot\n",
    "dfTitanic.loc[dfTitanic[\"Survived\"] == 1].hist(column=\"Age\", ax=ax, bins=my_bins, label=\"Survived\", \n",
    "                                               density=\"true\", facecolor=\"seagreen\", alpha=.6)\n",
    "dfTitanic.loc[dfTitanic[\"Survived\"] == 0].hist(column=\"Age\", ax=ax, bins=my_bins, label=\"Died\",\n",
    "                                               density=\"true\", facecolor=\"coral\", alpha=.6)\n",
    "\n",
    "\n",
    "# Make grid lighter and set behind data\n",
    "ax.grid(alpha=0.25)\n",
    "ax.set_axisbelow(True)\n",
    "\n",
    "# Add titles and labels \n",
    "ax.set_title(\"Age Survival Distribution\", fontsize=20)\n",
    "ax.set_xlabel(\"Age\", fontsize=16)\n",
    "ax.set_ylabel(\"Density \", fontsize=16)\n",
    "plt.legend()"
   ]
  },
  {
   "cell_type": "markdown",
   "metadata": {},
   "source": [
    "* two sections that stood out to me were around the age of 20 and 50. 20s Survived twice as much as they died, and 50s died twice as much as they survived. from the age of 25 to 45, you had a slightly lower chance of survival.maybe the strength of the young gave them a better chance to fight to survive"
   ]
  },
  {
   "cell_type": "markdown",
   "metadata": {},
   "source": [
    "**Part F:** In Part E, we plotted two *density* histograms, showing the distributions of ages of passengers that survived or did not survive the Titanic disaster. Why would it be misleading for us to have plotted these as *frequency* histograms instead?"
   ]
  },
  {
   "cell_type": "markdown",
   "metadata": {},
   "source": [
    "* A density histogram has the sum of the boxes equal to 1.\n",
    "* by interpretting the graph, if we used frequency, it would look like a much higher survival rate"
   ]
  },
  {
   "cell_type": "markdown",
   "metadata": {},
   "source": [
    "**Part G**: Do the data suggest class warfare, male chivalry, or some combination of both characteristics in the final hours aboard the Titanic?  Justify your conclusion based on the computations done above, or do any other analysis that you like, but be sure to clearly justify your conclusion. "
   ]
  },
  {
   "cell_type": "markdown",
   "metadata": {},
   "source": [
    "* I would say a combination of both class and sex played a part in the final hours of the titanic. \n",
    "* we can definitely see that no matter the class, more women survived than men.\n",
    "* in relation to class, we has more 2nd class men surviving more than 1st class, but the survival rate of both is still higher than if you were a 3rd class person"
   ]
  },
  {
   "cell_type": "markdown",
   "metadata": {},
   "source": [
    "[Back to top](#top)\n",
    "<a/ id='p5'></a>\n",
    "\n",
    "## (25 pts) Problem 5 (monthly patterns)\n",
    "***\n",
    "\n",
    "NOAA's Physical Sciences division (https://www.esrl.noaa.gov/psd) houses an enormous amount of weather data.  Load `hw1BoulderPPT.csv` from the course page for the last 100 years of monthly precipitation data from Boulder.\n",
    "\n",
    "#### a) When the amount of precipitation was nonzero but too small to be recorded, this data set recorded `tr`.  Replace these with zeroes."
   ]
  },
  {
   "cell_type": "code",
   "execution_count": 24,
   "metadata": {
    "scrolled": true
   },
   "outputs": [
    {
     "data": {
      "text/html": [
       "<div>\n",
       "<style scoped>\n",
       "    .dataframe tbody tr th:only-of-type {\n",
       "        vertical-align: middle;\n",
       "    }\n",
       "\n",
       "    .dataframe tbody tr th {\n",
       "        vertical-align: top;\n",
       "    }\n",
       "\n",
       "    .dataframe thead th {\n",
       "        text-align: right;\n",
       "    }\n",
       "</style>\n",
       "<table border=\"1\" class=\"dataframe\">\n",
       "  <thead>\n",
       "    <tr style=\"text-align: right;\">\n",
       "      <th></th>\n",
       "      <th>Year</th>\n",
       "      <th>JAN</th>\n",
       "      <th>FEB</th>\n",
       "      <th>MAR</th>\n",
       "      <th>APR</th>\n",
       "      <th>MAY</th>\n",
       "      <th>JUN</th>\n",
       "      <th>JUL</th>\n",
       "      <th>AUG</th>\n",
       "      <th>SEP</th>\n",
       "      <th>OCT</th>\n",
       "      <th>NOV</th>\n",
       "      <th>DEC</th>\n",
       "      <th>YEAR TOTAL</th>\n",
       "    </tr>\n",
       "  </thead>\n",
       "  <tbody>\n",
       "    <tr>\n",
       "      <th>0</th>\n",
       "      <td>1919</td>\n",
       "      <td>0.00</td>\n",
       "      <td>0.32</td>\n",
       "      <td>1.49</td>\n",
       "      <td>1.65</td>\n",
       "      <td>0.88</td>\n",
       "      <td>1.10</td>\n",
       "      <td>7.46</td>\n",
       "      <td>0.95</td>\n",
       "      <td>0.88</td>\n",
       "      <td>1.31</td>\n",
       "      <td>2.07</td>\n",
       "      <td>0.50</td>\n",
       "      <td>18.61</td>\n",
       "    </tr>\n",
       "    <tr>\n",
       "      <th>1</th>\n",
       "      <td>1920</td>\n",
       "      <td>1.22</td>\n",
       "      <td>1.39</td>\n",
       "      <td>0.58</td>\n",
       "      <td>4.07</td>\n",
       "      <td>1.61</td>\n",
       "      <td>1.87</td>\n",
       "      <td>0.68</td>\n",
       "      <td>2.55</td>\n",
       "      <td>0.73</td>\n",
       "      <td>2.43</td>\n",
       "      <td>0.72</td>\n",
       "      <td>0.85</td>\n",
       "      <td>18.70</td>\n",
       "    </tr>\n",
       "    <tr>\n",
       "      <th>2</th>\n",
       "      <td>1921</td>\n",
       "      <td>0.11</td>\n",
       "      <td>0.31</td>\n",
       "      <td>0.77</td>\n",
       "      <td>4.81</td>\n",
       "      <td>1.50</td>\n",
       "      <td>3.62</td>\n",
       "      <td>1.53</td>\n",
       "      <td>2.00</td>\n",
       "      <td>0.17</td>\n",
       "      <td>1.13</td>\n",
       "      <td>0.98</td>\n",
       "      <td>1.46</td>\n",
       "      <td>18.39</td>\n",
       "    </tr>\n",
       "    <tr>\n",
       "      <th>3</th>\n",
       "      <td>1922</td>\n",
       "      <td>0.63</td>\n",
       "      <td>0.59</td>\n",
       "      <td>0.81</td>\n",
       "      <td>3.32</td>\n",
       "      <td>1.02</td>\n",
       "      <td>0.62</td>\n",
       "      <td>1.04</td>\n",
       "      <td>1.50</td>\n",
       "      <td>0.00</td>\n",
       "      <td>1.13</td>\n",
       "      <td>2.58</td>\n",
       "      <td>0.56</td>\n",
       "      <td>13.80</td>\n",
       "    </tr>\n",
       "    <tr>\n",
       "      <th>4</th>\n",
       "      <td>1923</td>\n",
       "      <td>0.00</td>\n",
       "      <td>1.71</td>\n",
       "      <td>2.29</td>\n",
       "      <td>1.29</td>\n",
       "      <td>3.47</td>\n",
       "      <td>4.44</td>\n",
       "      <td>2.46</td>\n",
       "      <td>2.68</td>\n",
       "      <td>0.84</td>\n",
       "      <td>5.43</td>\n",
       "      <td>0.40</td>\n",
       "      <td>0.88</td>\n",
       "      <td>25.89</td>\n",
       "    </tr>\n",
       "  </tbody>\n",
       "</table>\n",
       "</div>"
      ],
      "text/plain": [
       "   Year   JAN   FEB   MAR   APR   MAY   JUN   JUL   AUG   SEP   OCT   NOV  \\\n",
       "0  1919  0.00  0.32  1.49  1.65  0.88  1.10  7.46  0.95  0.88  1.31  2.07   \n",
       "1  1920  1.22  1.39  0.58  4.07  1.61  1.87  0.68  2.55  0.73  2.43  0.72   \n",
       "2  1921  0.11  0.31  0.77  4.81  1.50  3.62  1.53  2.00  0.17  1.13  0.98   \n",
       "3  1922  0.63  0.59  0.81  3.32  1.02  0.62  1.04  1.50  0.00  1.13  2.58   \n",
       "4  1923  0.00  1.71  2.29  1.29  3.47  4.44  2.46  2.68  0.84  5.43  0.40   \n",
       "\n",
       "    DEC  YEAR TOTAL  \n",
       "0  0.50       18.61  \n",
       "1  0.85       18.70  \n",
       "2  1.46       18.39  \n",
       "3  0.56       13.80  \n",
       "4  0.88       25.89  "
      ]
     },
     "execution_count": 24,
     "metadata": {},
     "output_type": "execute_result"
    }
   ],
   "source": [
    "bdf = pd.read_csv(\"hw1BoulderPPT.csv\")\n",
    "bdf = bdf.replace({'Tr' : 0})\n",
    "bdf = bdf.apply(pd.to_numeric)\n",
    "bdf.head()"
   ]
  },
  {
   "cell_type": "markdown",
   "metadata": {},
   "source": [
    "#### b) Generate a series of 12 box plots with month as the x axis and precipitation on the y-axis."
   ]
  },
  {
   "cell_type": "code",
   "execution_count": 53,
   "metadata": {},
   "outputs": [
    {
     "data": {
      "text/plain": [
       "Text(0, 0.5, 'Precipitaiton')"
      ]
     },
     "execution_count": 53,
     "metadata": {},
     "output_type": "execute_result"
    },
    {
     "data": {
      "image/png": "[encoded data removed]",
      "text/plain": [
       "<Figure size 864x720 with 1 Axes>"
      ]
     },
     "metadata": {
      "needs_background": "light"
     },
     "output_type": "display_data"
    }
   ],
   "source": [
    "# Initialize figure \n",
    "fig = plt.figure(figsize=(12,10))\n",
    "\n",
    "# Get axis object \n",
    "ax = fig.add_subplot(111)\n",
    "# ax.set_ylim([0,8])\n",
    "# Plot histogram \n",
    "bdf.boxplot(column=[\"JAN\",\"FEB\",\"MAR\",\"APR\",\"MAY\",\"JUN\",\"JUL\",\"AUG\",\"SEP\",\"OCT\",\"NOV\"], ax=ax)\n",
    "\n",
    "ax.set_xlabel(\"Month\", fontsize = 20)\n",
    "ax.set_ylabel(\"Precipitaiton\", fontsize = 20)"
   ]
  },
  {
   "cell_type": "markdown",
   "metadata": {},
   "source": [
    "\n",
    "#### c) Atmospheric scientists love to group months seasonally, breaking the year into a Winter season including December, January, February; a Spring included March, April, and May; and so forth. Generate a series of 4 box plots with season as the x axis and precipitation on the y-axis.  How does folding March-April-May into one variable change the mean and standard deviation compared to the data for just April?\n",
    "\n"
   ]
  },
  {
   "cell_type": "code",
   "execution_count": 26,
   "metadata": {},
   "outputs": [
    {
     "data": {
      "text/plain": [
       "<matplotlib.axes._subplots.AxesSubplot at 0x7fa0d7f13588>"
      ]
     },
     "execution_count": 26,
     "metadata": {},
     "output_type": "execute_result"
    },
    {
     "data": {
      "image/png": "[encoded data removed]",
      "text/plain": [
       "<Figure size 432x288 with 1 Axes>"
      ]
     },
     "metadata": {
      "needs_background": "light"
     },
     "output_type": "display_data"
    }
   ],
   "source": [
    "WIN = bdf[\"DEC\"].append(bdf[\"JAN\"].append(bdf[\"FEB\"]))\n",
    "SPR = bdf[\"MAR\"].append(bdf[\"APR\"].append(bdf[\"MAY\"]))\n",
    "SUM = bdf[\"JUN\"].append(bdf[\"JUL\"].append(bdf[\"AUG\"]))\n",
    "FAL = bdf[\"SEP\"].append(bdf[\"OCT\"].append(bdf[\"NOV\"]))\n",
    "seasons = pd.DataFrame()\n",
    "seasons['WIN'] = WIN\n",
    "seasons['SPR'] = SPR\n",
    "seasons['SUM'] = SUM\n",
    "seasons['FAL'] = FAL\n",
    "seasons.boxplot()"
   ]
  },
  {
   "cell_type": "markdown",
   "metadata": {},
   "source": [
    "* April did not seem to be that affected by the merge. March and may were on oposite ends of the y axis and "
   ]
  },
  {
   "cell_type": "markdown",
   "metadata": {},
   "source": [
    "#### d) Create a density histogram of the September precipitation.  Classify and describe this histogram.  Find the data point associated with September, 2013, and recreate your histogram with that value in a different color or otherwise clearly marked."
   ]
  },
  {
   "cell_type": "code",
   "execution_count": 40,
   "metadata": {
    "scrolled": true
   },
   "outputs": [
    {
     "data": {
      "image/png": "[encoded data removed]",
      "text/plain": [
       "<Figure size 432x288 with 1 Axes>"
      ]
     },
     "metadata": {
      "needs_background": "light"
     },
     "output_type": "display_data"
    }
   ],
   "source": [
    "#code cell; use markdown cell after this for explanation.\n",
    "my_bins = range(0,20,1)\n",
    "#init figure\n",
    "\n",
    "# sep.hist(density='true')\n",
    "fig, ax = plt.subplots()\n",
    "\n",
    "N,bins, patches = ax.hist(bdf['SEP'], edgecolor='white', linewidth=1, density='true' ,bins =my_bins)\n",
    "\n",
    "\n",
    "patches[len(patches)-1].set_facecolor('r')\n",
    "\n",
    "# # Make grid lighter and set behind data\n",
    "ax.grid(alpha=0.25)\n",
    "ax.set_axisbelow(True)\n",
    "\n",
    "# # Add titles and labels \n",
    "ax.set_title(\"September Presipitation Density\", fontsize=20)\n",
    "ax.set_xlabel(\"Precipitation\", fontsize=16)\n",
    "ax.set_ylabel(\"Density \", fontsize=16)\n",
    "\n",
    "plt.show()\n",
    "# help from https://stackoverflow.com/questions/49290266/python-matplotlib-histogram-specify-different-colours-for-different-bars"
   ]
  },
  {
   "cell_type": "markdown",
   "metadata": {},
   "source": [
    "* the graph is unimodal and is positively scewed"
   ]
  },
  {
   "cell_type": "markdown",
   "metadata": {},
   "source": [
    "\n",
    "#### e) Calculute the mean and standard deviation of the September precipitation in this set.  Create a Tukey 5 number summary of the September precipitation.  What are a couple of advantages and disadvantages of these numerical summaries compared to each other on this subset of the data?  Why?"
   ]
  },
  {
   "cell_type": "code",
   "execution_count": 28,
   "metadata": {},
   "outputs": [
    {
     "name": "stdout",
     "output_type": "stream",
     "text": [
      "Mean and STD:  1.6581999999999997 , 2.0695973257880604\n",
      "count    100.000000\n",
      "mean       1.658200\n",
      "std        2.069597\n",
      "min        0.000000\n",
      "25%        0.562500\n",
      "50%        1.170000\n",
      "75%        2.225000\n",
      "max       18.160000\n",
      "Name: SEP, dtype: float64\n"
     ]
    }
   ],
   "source": [
    "#code cell for calculations\n",
    "def mas(ar):\n",
    "    print(\"Mean and STD: \", np.mean(ar), \",\", np.std(ar, ddof = 1))\n",
    "    return(np.mean(ar))\n",
    "from scipy.stats import scoreatpercentile\n",
    "sep = bdf[\"SEP\"]\n",
    "mas(bdf[\"SEP\"])\n",
    "\n",
    "print(bdf[\"SEP\"].describe())\n"
   ]
  },
  {
   "cell_type": "markdown",
   "metadata": {},
   "source": [
    "\n",
    "* disadvantages \n",
    "\n"
   ]
  },
  {
   "cell_type": "markdown",
   "metadata": {},
   "source": [
    "**Mean and Standard Deviation**\n",
    "\n",
    "| Advantages | Disadvantages |\n",
    "| advantage mean takes in all the data values and STD show how the data is distributed. | the mean and standard deviation are both affected by outliers |\n",
    "| STD is in the same units | 2D |\n",
    "\n",
    "**Tukey 5-Number**\n",
    "\n",
    "| Advantages | Disadvantages |\n",
    "\n",
    "| Turkey summary provides the five most important sample percentiles, which gives us a better understanding of the data, such as outliers.  | 1D |"
   ]
  },
  {
   "cell_type": "markdown",
   "metadata": {},
   "source": [
    "[Back to top](#top)\n",
    "<a/ id='p6'></a>\n",
    "\n",
    "## (25 pts) Problem 6\n",
    "***\n",
    "In problem 3, we generated an interesting theoretical result and then verified how it worked on a given data set.  Sometimes it's easier to just see what happens on a variety of data than manipulate sums directly!  Consider the following 3 data sets:\n",
    "\n",
    "`A=[0,1,2,3,4,5,6,7,8,9]`\n",
    "\n",
    "`B=[0,0,0,12,7,18,47,25,0,13]`\n",
    "\n",
    "`C` is the random data set generated by using `np.random.randint(0,1000, size=100)`\n",
    "\n",
    "For each data set, perform the following computations:\n",
    "#### a) Compute and print the mean and standard deviation of the data set.\n"
   ]
  },
  {
   "cell_type": "code",
   "execution_count": 29,
   "metadata": {},
   "outputs": [
    {
     "name": "stdout",
     "output_type": "stream",
     "text": [
      "Mean and STD:  4.5 , 3.0276503540974917\n",
      "Mean and STD:  12.2 , 15.024424559141467\n",
      "Mean and STD:  490.84 , 283.64363471643696\n"
     ]
    },
    {
     "data": {
      "text/plain": [
       "490.84"
      ]
     },
     "execution_count": 29,
     "metadata": {},
     "output_type": "execute_result"
    }
   ],
   "source": [
    "A = np.array([0,1,2,3,4,5,6,7,8,9])\n",
    "B = np.array([0,0,0,12,7,18,47,25,0,13])\n",
    "C = np.random.randint(0,1000, size=100)\n",
    "\n",
    "def mas(ar):\n",
    "    print(\"Mean and STD: \", np.mean(ar), \",\", np.std(ar, ddof = 1))\n",
    "    return(np.mean(ar))\n",
    "    \n",
    "mas(A)\n",
    "mas(B)\n",
    "mas(C)\n"
   ]
  },
  {
   "cell_type": "markdown",
   "metadata": {},
   "source": [
    "\n",
    "#### b) Compute and print  the mean and standard deviation of the new data set formed by subtracting the original mean from each observation.\n"
   ]
  },
  {
   "cell_type": "code",
   "execution_count": 30,
   "metadata": {},
   "outputs": [
    {
     "name": "stdout",
     "output_type": "stream",
     "text": [
      "New mean and STD:  0.0 , 3.0276503540974917\n",
      "New mean and STD:  0.0 , 15.024424559141467\n",
      "New mean and STD:  4.206412995699793e-14 , 283.6436347164369\n"
     ]
    }
   ],
   "source": [
    "def newMas(ar):\n",
    "    origMean = np.mean(ar)\n",
    "    newAr = []\n",
    "    for i in ar:\n",
    "        newAr.append( i - origMean)\n",
    "    print(\"New mean and STD: \", np.mean(newAr), \",\", np.std(newAr, ddof = 1))\n",
    "\n",
    "\n",
    "newMas(A)\n",
    "\n",
    "newMas(B)\n",
    "\n",
    "newMas(C)"
   ]
  },
  {
   "cell_type": "markdown",
   "metadata": {},
   "source": [
    "\n",
    "#### c) Compute and print  the mean and standard deviation of the new data set formed by subtracting the original mean from each observation and then dividing by the original standard deviation.\n",
    "\n"
   ]
  },
  {
   "cell_type": "code",
   "execution_count": 31,
   "metadata": {},
   "outputs": [
    {
     "name": "stdout",
     "output_type": "stream",
     "text": [
      "New m&S:       4.4408920985006264e-17 , 1.0\n",
      "New m&S:       3.191891195797325e-17 , 1.0\n",
      "New m&S:       8.881784197001253e-17 , 1.0\n"
     ]
    }
   ],
   "source": [
    "def newMas(ar):\n",
    "    origMean = np.mean(ar)\n",
    "    origStan = np.std(ar, ddof=1)\n",
    "    newAr = []\n",
    "    for i in ar:\n",
    "        newAr.append((i - origMean)/origStan)\n",
    "    print(\"New m&S:      \", np.mean(newAr), \",\", np.std(newAr, ddof = 1))\n",
    "\n",
    "\n",
    "newMas(A)\n",
    "\n",
    "newMas(B)\n",
    "\n",
    "newMas(C)"
   ]
  },
  {
   "cell_type": "markdown",
   "metadata": {},
   "source": [
    "#### d) Why might this result matter?"
   ]
  },
  {
   "cell_type": "markdown",
   "metadata": {},
   "source": [
    "* I found a definition of standardization which describes the \"process of putting different variables on the same scale in order to compare scores between different types of variables\"\n",
    "\n",
    "* In our tests above, we can see that our STD is now 1, which has turned our scores into standard scores, alowing us to compare the scores.\n",
    "\n",
    "definition found here https://statisticsbyjim.com/glossary/standardization/"
   ]
  }
 ],
 "metadata": {
  "kernelspec": {
   "display_name": "Python 3",
   "language": "python",
   "name": "python3"
  },
  "language_info": {
   "codemirror_mode": {
    "name": "ipython",
    "version": 3
   },
   "file_extension": ".py",
   "mimetype": "text/x-python",
   "name": "python",
   "nbconvert_exporter": "python",
   "pygments_lexer": "ipython3",
   "version": "3.7.1"
  }
 },
 "nbformat": 4,
 "nbformat_minor": 2
}
