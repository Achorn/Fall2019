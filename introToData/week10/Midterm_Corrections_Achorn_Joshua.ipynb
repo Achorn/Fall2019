{
 "cells": [
  {
   "cell_type": "markdown",
   "metadata": {},
   "source": [
    "<a id='top'></a>\n",
    "\n",
    "# Midterm Exam Corrections\n",
    "***\n",
    "\n",
    "**Name**: Joshua Achorn\n",
    "\n",
    "***\n",
    "\n",
    "This optional assignment is due on Canvas by **MIDNIGHT on Friday November 1**. Your solutions to all questions should be done in Markdown directly below the associated question.  Any computational work should be minimal, and can be done in code cells adjacent to your Markdown solutions.  You may discuss problems with your peers but any write-up and exposition must be your own. A complete and correct submission will receive 6 points back on the midterm.\n",
    "\n",
    "\n",
    "You **must show all work and justify your answers to receive credit**. Sparse or nonexistent work will receive sparse or nonexistent credit. \n",
    "\n",
    "These corrections are not multiple choice.  You must solve the problems to their exact solutions and show your work."
   ]
  },
  {
   "cell_type": "markdown",
   "metadata": {},
   "source": [
    "## Problem 1 (Exam # 4)\n",
    "\n",
    "Use the following information for Problems 1 and 2, which may build off of each other.\n",
    "\n",
    "Beowolf and Hrothgar are defending their kingdom from a monster. As Beowolf and Hrothgar fight the terrible monster, they use two tactics: they either throw boiling oil or they launch a catapult. These are their only two fighting tactics. Suppose the probability that Beowolf is throwing boiling oil at the monster is 0.4 while the probability that Hrothgar is throwing boiling oil at the monster is 0.7.  Both Beowolf and Hrothgar throw boiling oil at the monster with probability 0.3.\n",
    "\n",
    "Beowulf is launching a catapult. What is the probability that Hrothgar is launching a catapult?"
   ]
  },
  {
   "cell_type": "markdown",
   "metadata": {},
   "source": [
    "We have $P(BTO) = 0.4$\n",
    "\n",
    "We have $P(HTO) = 0.7$\n",
    "\n",
    "We have $P(BTO \\cap HTO) = 0.3$\n",
    "\n",
    "We have $P(BTO \\cup HTO) = 0.8$\n",
    "\n",
    "We are asked what is $P(HLC | BLC)$\n",
    "\n",
    "$P(HLC | BLC) = \\frac{P(HLC \\cap BLC)}{P(BLC)}$\n",
    "\n",
    "and \n",
    "\n",
    "$P(BLC) = P(\\bar{BTO}) = 0.6$\n",
    "\n",
    "$P(HLC \\cap BLC)= P(\\bar{BTO \\cup HTO)}) = 0.2$\n",
    "\n",
    "so\n",
    "\n",
    "$P(HLC | BLC) = \\frac{0.2}{0.6} = 0.33$\n"
   ]
  },
  {
   "cell_type": "markdown",
   "metadata": {},
   "source": [
    "## Problem 2 (Exam # 5)\n",
    "\n",
    "What is the probability that Beowulf and Hrathgar are using the same tactic at the same time?"
   ]
  },
  {
   "cell_type": "markdown",
   "metadata": {},
   "source": [
    "we are asked what is the probability of Beowolf AND Hrathgar throwing boiling oil or Beowolf AND Hrathgar both launching catapults which would look like such\n",
    "\n",
    "$P((HLC \\cap BLC) \\cup (BTO \\cap HTO))$\n",
    "\n",
    "$0.2 + 0.3 = 0.5$\n"
   ]
  },
  {
   "cell_type": "markdown",
   "metadata": {},
   "source": [
    "## Problem 3 (Exam # 6)\n",
    "\n",
    "Suppose you are playing pool with your friends. Instead of simply keeping score, your friends are tracking the number of turns it takes you to sink 5 balls. Suppose that you can sink a pool ball into its pocket with probability 0.4. What is the probability that it takes you more than 8 turns to sink 5 pool balls."
   ]
  },
  {
   "cell_type": "markdown",
   "metadata": {},
   "source": [
    "the easiest probability for us to find is it taking 8 turns or less to sink 5 pool balls so we will be subtracting our probability by one to find the complimentary probability which is taking more than 8 turns to sink five pool balls\n",
    "\n",
    "$1-P(?)$\n",
    "\n",
    "We want to find the probability of sinking all five balls in the first five turns, to the probability of sinking 5 balls in 8 turns\n",
    "\n",
    "which looks like $\\sum_{i=5}^{8}\\binom{i-1}{4}(0.4)^5(0.6)^{i-5}$\n",
    "\n",
    "Our final formula looks like such:\n",
    "\n",
    "$ 1 - \\sum_{i=5}^{8}\\binom{i-1}{4}(0.4)^5(0.6)^{i-5}$"
   ]
  },
  {
   "cell_type": "markdown",
   "metadata": {},
   "source": [
    "## Problem 4 (Exam # 10)\n",
    "\n",
    "The average high temperature for Boulder, CO on October 31 is $58^\\circ$ Fahrenheit with a standard deviation of 11 degrees.  If the temperature $C$ in Celsius is calculated from the temperature in Fahrenheit $F$ by \n",
    "$C=\\frac{5}{9}(F-32),$ what is the $\\textit{variance}$ of the temperature in Boulder on October 31 in degrees Celsius?"
   ]
  },
  {
   "cell_type": "markdown",
   "metadata": {},
   "source": [
    "we know that adding to the data points doesnt affect he variance,  so dont need to worry about \"-32\" because the spread doesn't change. But, multiplying datapoints changes the variance.\n",
    "\n",
    "so our variance is is the radius squared $(11)^2$, and we multiply it by $\\frac{5}{9}$,\n",
    "\n",
    "$V = \\frac{5}{9}(11^2)$ "
   ]
  },
  {
   "cell_type": "markdown",
   "metadata": {},
   "source": [
    "## Problem 5 (Exam # 12)\n",
    "\n",
    "Let $f(x) = kx^3+x-1$ for $0 \\leq x \\leq 1$, and $f(x)=0$ for $x \\notin [0,1]$, where $k$ is some unknown constant. What value of $k$ will make $f$ a valid probability density function?"
   ]
  },
  {
   "cell_type": "markdown",
   "metadata": {},
   "source": [
    "we must choose k so that f(x) = 1 so we evaluate the integral\n",
    "\n",
    "$\\int_0^1 kx^3 + x - 1 = \\frac{k-2}{4}$\n",
    "\n",
    "$\\frac{k-2}{4} = 1$\n",
    "\n",
    "$k-2 = 4$\n",
    "\n",
    "$k = 6$"
   ]
  },
  {
   "cell_type": "markdown",
   "metadata": {},
   "source": [
    "## Problem 6 (Exam # 13)\n",
    "\n",
    "Suppose we know that the general antiderivative of a function $g(x)$ is $\\int g(x) \\, dx = \\frac{x^3}{7} +C$.  Then from $[1,2]$, what is the cumulative density function of a random variable with pdf:\n",
    "\n",
    "$$f(x)=\\begin{cases}\n",
    "g(x) & 1<x \\leq 2\\\\\n",
    "0 & else\n",
    "\\end{cases}$$"
   ]
  },
  {
   "cell_type": "markdown",
   "metadata": {},
   "source": [
    "we know the domain is from 1 to 2, so to find the CDF, we go from 1 to x \n",
    "\n",
    "$\\int_1^x \\frac{x^3}{7}$\n",
    "\n",
    "$\\frac{x^3}{7}- \\frac{1}{7}$\n",
    "\n",
    "$F(x) = \\frac{x^3-1}{7}$"
   ]
  },
  {
   "cell_type": "code",
   "execution_count": null,
   "metadata": {},
   "outputs": [],
   "source": []
  }
 ],
 "metadata": {
  "kernelspec": {
   "display_name": "Python 3",
   "language": "python",
   "name": "python3"
  },
  "language_info": {
   "codemirror_mode": {
    "name": "ipython",
    "version": 3
   },
   "file_extension": ".py",
   "mimetype": "text/x-python",
   "name": "python",
   "nbconvert_exporter": "python",
   "pygments_lexer": "ipython3",
   "version": "3.7.1"
  }
 },
 "nbformat": 4,
 "nbformat_minor": 2
}
