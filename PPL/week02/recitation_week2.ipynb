{
 "cells": [
  {
   "cell_type": "code",
   "execution_count": 1,
   "metadata": {},
   "outputs": [
    {
     "name": "stdout",
     "output_type": "stream",
     "text": [
      "Compiling /home/achorn/Desktop/csci/fall2019/PPL/week02/hw2stdlib.sc"
     ]
    },
    {
     "data": {
      "text/plain": [
       "\u001b[32mimport \u001b[39m\u001b[36m$file.$        \n",
       "\u001b[39m\n",
       "\u001b[32mimport \u001b[39m\u001b[36mhw2stdlib._\u001b[39m"
      ]
     },
     "execution_count": 1,
     "metadata": {},
     "output_type": "execute_result"
    }
   ],
   "source": [
    "import $file.hw2stdlib\n",
    "import hw2stdlib._"
   ]
  },
  {
   "cell_type": "markdown",
   "metadata": {},
   "source": [
    "# Recitation: Week 2\n",
    "\n",
    "## Topics\n",
    "\n",
    "* Polymorphism\n",
    "\n",
    "## Polymorphism\n",
    "\n",
    "Polymorphic lists will save us a lot of time and effort by having one list type that can store any type inside. Note that we can't mix the types inside.\n",
    "\n",
    "Given our definition of polymorphic lists in class:\n",
    "$$\n",
    "\\begin{align}\n",
    "\\mathbb{List}\\ A\\ :=\\ \\text{Empty}\\ \\mid\\ \\text{Cons}\\ A\\ (\\mathbb{List}\\ A)\n",
    "\\end{align}\n",
    "$$\n",
    "\n",
    "define Polymorphic lists in Scala."
   ]
  },
  {
   "cell_type": "code",
   "execution_count": 3,
   "metadata": {},
   "outputs": [
    {
     "data": {
      "text/plain": [
       "defined \u001b[32mtrait\u001b[39m \u001b[36mList\u001b[39m\n",
       "defined \u001b[32mobject\u001b[39m \u001b[36mEmpty\u001b[39m\n",
       "defined \u001b[32mclass\u001b[39m \u001b[36mCons\u001b[39m"
      ]
     },
     "execution_count": 3,
     "metadata": {},
     "output_type": "execute_result"
    }
   ],
   "source": [
    "sealed trait List[+A]\n",
    "case object Empty extends List[Nothing]\n",
    "case class Cons[A]( x : A, xs : List[A]) extends List[A]"
   ]
  },
  {
   "cell_type": "code",
   "execution_count": 4,
   "metadata": {},
   "outputs": [
    {
     "name": "stderr",
     "output_type": "stream",
     "text": [
      "cmd4.sc:7: pattern type is incompatible with expected type;\n",
      " found   : Helper.this.Empty.type\n",
      " required: Int\n",
      "        case Empty => Empty\n",
      "             ^cmd4.sc:8: constructor cannot be instantiated to expected type;\n",
      " found   : Helper.this.Cons\n",
      " required: Int\n",
      "        case Cons(x,xs) => Cons(x,Empty)\n",
      "             ^Compilation Failed"
     ]
    },
    {
     "ename": "",
     "evalue": "",
     "output_type": "error",
     "traceback": [
      "Compilation Failed"
     ]
    }
   ],
   "source": [
    "sealed trait ListNat\n",
    "case object Empty extends ListNat\n",
    "case class Cons(h:Nat, t:ListNat) extends ListNat\n",
    "\n",
    "def first(l:ListNat) : ListNat =\n",
    "    1 match {\n",
    "        case Empty => Empty\n",
    "        case Cons(x,xs) => Cons(x,Empty)\n",
    "    }"
   ]
  },
  {
   "cell_type": "code",
   "execution_count": 4,
   "metadata": {},
   "outputs": [
    {
     "data": {
      "text/plain": [
       "\u001b[36ml1\u001b[39m: \u001b[32mList\u001b[39m[\u001b[32mNat\u001b[39m] = Empty\n",
       "\u001b[36ml2\u001b[39m: \u001b[32mList\u001b[39m[\u001b[32mNat\u001b[39m] = \u001b[33mCons\u001b[39m(\n",
       "  \u001b[33mSucc\u001b[39m(Zero),\n",
       "  \u001b[33mCons\u001b[39m(\u001b[33mSucc\u001b[39m(\u001b[33mSucc\u001b[39m(\u001b[33mSucc\u001b[39m(\u001b[33mSucc\u001b[39m(\u001b[33mSucc\u001b[39m(Zero))))), Empty)\n",
       ")\n",
       "\u001b[36ml3\u001b[39m: \u001b[32mList\u001b[39m[\u001b[32mBool\u001b[39m] = \u001b[33mCons\u001b[39m(True, \u001b[33mCons\u001b[39m(False, \u001b[33mCons\u001b[39m(True, Empty)))"
      ]
     },
     "execution_count": 4,
     "metadata": {},
     "output_type": "execute_result"
    }
   ],
   "source": [
    "// Tests for polymorphic lists\n",
    "val l1: List[Nat]  = Empty\n",
    "val l2: List[Nat]  = Cons(one, Cons(five, l1));\n",
    "val l3: List[Bool] = Cons(True, Cons(False, Cons(True, Empty)));"
   ]
  },
  {
   "cell_type": "markdown",
   "metadata": {},
   "source": [
    "## Functions on Polymorphic Lists"
   ]
  },
  {
   "cell_type": "markdown",
   "metadata": {},
   "source": [
    "Define a polymorphic function called `append` which concatenates two lists. E.g.:\n",
    "```scala\n",
    "append(Cons(one, Empty), Cons(two, Empty)) == Cons(one, Cons(two, Empty))\n",
    "```"
   ]
  },
  {
   "cell_type": "code",
   "execution_count": 12,
   "metadata": {},
   "outputs": [
    {
     "data": {
      "text/plain": [
       "defined \u001b[32mfunction\u001b[39m \u001b[36mfirst\u001b[39m\n",
       "defined \u001b[32mfunction\u001b[39m \u001b[36mprint_list_helper\u001b[39m\n",
       "defined \u001b[32mfunction\u001b[39m \u001b[36mprint_list\u001b[39m\n",
       "\u001b[36mres11_3\u001b[39m: \u001b[32mList\u001b[39m[\u001b[32mNat\u001b[39m] = Empty\n",
       "\u001b[36mres11_4\u001b[39m: \u001b[32mList\u001b[39m[\u001b[32mNat\u001b[39m] = \u001b[33mCons\u001b[39m(\u001b[33mSucc\u001b[39m(Zero), Empty)\n",
       "\u001b[36mres11_5\u001b[39m: \u001b[32mList\u001b[39m[\u001b[32mBool\u001b[39m] = \u001b[33mCons\u001b[39m(True, Empty)"
      ]
     },
     "execution_count": 12,
     "metadata": {},
     "output_type": "execute_result"
    }
   ],
   "source": [
    "def first[A](xs : List[A]) : List[A] =\n",
    "    xs match {\n",
    "        case Empty => Empty\n",
    "        case Cons(x, xs) => Cons(x,Empty)\n",
    "    }\n",
    "\n",
    "def print_list_helper(xs : List[Nat]) : String = xs match {\n",
    "    case Empty => \"\"\n",
    "    case Cons(x, Empty) => print_nat(x)\n",
    "    case Cons(x, xs) => print_nat(x) + \", \" + print_list_helper(xs)\n",
    "}\n",
    "\n",
    "def print_list(xs : List[Nat]) : String = \"[\" + print_list_helper(xs) + \"]\"\n",
    "\n",
    "\n",
    "first(l1)\n",
    "first(l2)\n",
    "first(l3)\n"
   ]
  },
  {
   "cell_type": "code",
   "execution_count": 13,
   "metadata": {},
   "outputs": [
    {
     "data": {
      "text/plain": [
       "defined \u001b[32mfunction\u001b[39m \u001b[36mappend\u001b[39m"
      ]
     },
     "execution_count": 13,
     "metadata": {},
     "output_type": "execute_result"
    }
   ],
   "source": [
    "def append[A](a : List[A], b : List[A]) : List[A] =\n",
    "    a match {\n",
    "        case Empty => b\n",
    "        case Cons(x, xs) => Cons(x, append(xs, b))\n",
    "    }"
   ]
  },
  {
   "cell_type": "code",
   "execution_count": 14,
   "metadata": {},
   "outputs": [
    {
     "data": {
      "text/plain": [
       "\u001b[36mres13_3\u001b[39m: \u001b[32mString\u001b[39m = \u001b[32m\"[1, 5, 1, 5]\"\u001b[39m"
      ]
     },
     "execution_count": 14,
     "metadata": {},
     "output_type": "execute_result"
    }
   ],
   "source": [
    "// Tests for append\n",
    "assert(append(Empty, Empty) == Empty)\n",
    "assert(append(Cons(six, Cons(four, Empty)), Empty)\n",
    "       == Cons(six, Cons(four, Empty)))\n",
    "assert(append(Cons(two, Cons(four, Empty)), Cons(one, Cons(three, Empty)))\n",
    "       == Cons(two, Cons(four, Cons(one, Cons(three, Empty)))))\n",
    "print_list(append(l2,l2))"
   ]
  },
  {
   "cell_type": "markdown",
   "metadata": {},
   "source": [
    "Define a polymorphic function called `reverse` which reverses the elements in a list. E.g.:\n",
    "```scala\n",
    "reverse(Cons(one, Cons(two, Empty))) == Cons(two, Cons(one, Empty))\n",
    "```"
   ]
  },
  {
   "cell_type": "code",
   "execution_count": 15,
   "metadata": {},
   "outputs": [
    {
     "data": {
      "text/plain": [
       "defined \u001b[32mfunction\u001b[39m \u001b[36mreverse\u001b[39m"
      ]
     },
     "execution_count": 15,
     "metadata": {},
     "output_type": "execute_result"
    }
   ],
   "source": [
    "def reverse[A] (a:List[A]) : List[A] =\n",
    "    a match{\n",
    "        case Empty => Empty\n",
    "        case Cons(x,xs) => append(reverse(xs), Cons(x, Empty))\n",
    "    }"
   ]
  },
  {
   "cell_type": "code",
   "execution_count": 16,
   "metadata": {},
   "outputs": [],
   "source": [
    "// Tests for reverse\n",
    "assert(reverse(Empty)\n",
    "       == Empty)\n",
    "assert(reverse(Cons(three, Empty))\n",
    "       == Cons(three, Empty))\n",
    "assert(reverse(Cons(six, Cons(four, Cons(seven, Cons(three, Empty)))))\n",
    "       == Cons(three, Cons(seven, Cons(four, Cons(six, Empty)))))\n",
    "val l4"
   ]
  },
  {
   "cell_type": "markdown",
   "metadata": {},
   "source": [
    "## Map"
   ]
  },
  {
   "cell_type": "markdown",
   "metadata": {},
   "source": [
    "Define the `map` function from class in scala.\n",
    "Recall what `map` does:\n",
    "```scala\n",
    "map(add_1, Cons(one, Cons(two, Empty))) == Cons(two, Cons(three, Empty))\n",
    "```"
   ]
  },
  {
   "cell_type": "code",
   "execution_count": 19,
   "metadata": {},
   "outputs": [
    {
     "data": {
      "text/plain": [
       "defined \u001b[32mfunction\u001b[39m \u001b[36mmap\u001b[39m"
      ]
     },
     "execution_count": 19,
     "metadata": {},
     "output_type": "execute_result"
    }
   ],
   "source": [
    "def map[A,B](f : (A => B), a : List[A]) : List[B] =\n",
    "    a match{\n",
    "        case Empty => Empty\n",
    "        case Cons(a, as) => Cons(f(a), map(f,as))\n",
    "    }"
   ]
  },
  {
   "cell_type": "code",
   "execution_count": 23,
   "metadata": {},
   "outputs": [
    {
     "name": "stderr",
     "output_type": "stream",
     "text": [
      "(console):18:5 expected \"case\"\n",
      "    }\n",
      "    ^"
     ]
    },
    {
     "ename": "",
     "evalue": "",
     "output_type": "error",
     "traceback": [
      "(console):18:5 expected \"case\"\n    }\n    ^"
     ]
    }
   ],
   "source": [
    "// Tests for map\n",
    "def add_1(x: Nat): Nat = plus(x, one)\n",
    "assert(map(add_1, Empty)\n",
    "       == Empty)\n",
    "assert(map(add_1, Cons(three, Empty))\n",
    "       == Cons(four, Empty))\n",
    "assert(map(add_1, Cons(six, Cons(four, Cons(seven, Cons(three, Empty)))))\n",
    "       == Cons(seven, Cons(five, Cons(eight, Cons(four, Empty)))))\n",
    "\n",
    "assert(map(not, Cons(True, Cons(False, Empty)))\n",
    "       == Cons(False, Cons(True, Empty)))\n",
    "\n",
    "print_list(map(add_1, Cons(six, Cons(four, Cons(seven, Cons(three, Empty))))))\n",
    "\n",
    "// def equals_zero(x:Nat) : Bool =\n",
    "//     x match{\n",
    "//         case\n",
    "//     }"
   ]
  },
  {
   "cell_type": "code",
   "execution_count": 22,
   "metadata": {},
   "outputs": [
    {
     "data": {
      "text/plain": [
       "\u001b[36mthings_you_are\u001b[39m: \u001b[32mList\u001b[39m[\u001b[32mString\u001b[39m] = \u001b[33mCons\u001b[39m(\n",
       "  \u001b[32m\"hot then you're cold\"\u001b[39m,\n",
       "  \u001b[33mCons\u001b[39m(\n",
       "    \u001b[32m\"yes then you're no\"\u001b[39m,\n",
       "    \u001b[33mCons\u001b[39m(\u001b[32m\"in then you're out\"\u001b[39m, \u001b[33mCons\u001b[39m(\u001b[32m\"up then you're down\"\u001b[39m, Empty))\n",
       "  )\n",
       ")\n",
       "defined \u001b[32mfunction\u001b[39m \u001b[36mkaty\u001b[39m\n",
       "\u001b[36mres21_2\u001b[39m: \u001b[32mList\u001b[39m[\u001b[32mString\u001b[39m] = \u001b[33mCons\u001b[39m(\n",
       "  \u001b[32m\"You're hot then you're cold\"\u001b[39m,\n",
       "  \u001b[33mCons\u001b[39m(\n",
       "    \u001b[32m\"You're yes then you're no\"\u001b[39m,\n",
       "    \u001b[33mCons\u001b[39m(\u001b[32m\"You're in then you're out\"\u001b[39m, \u001b[33mCons\u001b[39m(\u001b[32m\"You're up then you're down\"\u001b[39m, Empty))\n",
       "  )\n",
       ")\n",
       "\u001b[36mthings_i_wish\u001b[39m: \u001b[32mList\u001b[39m[\u001b[32mString\u001b[39m] = \u001b[33mCons\u001b[39m(\n",
       "  \u001b[32m\"I was a little bit taller\"\u001b[39m,\n",
       "  \u001b[33mCons\u001b[39m(\n",
       "    \u001b[32m\"I was a baller\"\u001b[39m,\n",
       "    \u001b[33mCons\u001b[39m(\u001b[32m\"I had a girl who looked good, I would call her\"\u001b[39m, Empty)\n",
       "  )\n",
       ")\n",
       "defined \u001b[32mfunction\u001b[39m \u001b[36mskee_lo\u001b[39m\n",
       "\u001b[36mres21_5\u001b[39m: \u001b[32mList\u001b[39m[\u001b[32mString\u001b[39m] = \u001b[33mCons\u001b[39m(\n",
       "  \u001b[32m\"I wish I was a little bit taller\"\u001b[39m,\n",
       "  \u001b[33mCons\u001b[39m(\n",
       "    \u001b[32m\"I wish I was a baller\"\u001b[39m,\n",
       "    \u001b[33mCons\u001b[39m(\u001b[32m\"I wish I had a girl who looked good, I would call her\"\u001b[39m, Empty)\n",
       "  )\n",
       ")"
      ]
     },
     "execution_count": 22,
     "metadata": {},
     "output_type": "execute_result"
    }
   ],
   "source": [
    "// Bonus tests\n",
    "// https://www.youtube.com/watch?v=kTHNpusq654\n",
    "val things_you_are: List[String] =\n",
    "    Cons(\"hot then you're cold\",\n",
    "    Cons(\"yes then you're no\",\n",
    "    Cons(\"in then you're out\",\n",
    "    Cons(\"up then you're down\", Empty))))\n",
    "def katy(x: String): String = \"You're \" + x\n",
    "map(katy, things_you_are)\n",
    "\n",
    "// (https://www.youtube.com/watch?v=ryDOy3AosBw)\n",
    "val things_i_wish: List[String] =\n",
    "    Cons(\"I was a little bit taller\",\n",
    "    Cons(\"I was a baller\",\n",
    "    Cons(\"I had a girl who looked good, I would call her\", Empty)))\n",
    "def skee_lo(x: String): String = \"I wish \" + x\n",
    "map(skee_lo, things_i_wish)"
   ]
  },
  {
   "cell_type": "code",
   "execution_count": 24,
   "metadata": {},
   "outputs": [
    {
     "name": "stderr",
     "output_type": "stream",
     "text": [
      "cmd24.sc:14: type mismatch;\n",
      " found   : Int(12)\n",
      " required: cmd24.this.cmd2.List[?]\n",
      "val res24_2 = print_list_helper_gen(12)\n",
      "                                    ^Compilation Failed"
     ]
    },
    {
     "ename": "",
     "evalue": "",
     "output_type": "error",
     "traceback": [
      "Compilation Failed"
     ]
    }
   ],
   "source": [
    "def print_list_helper_gen[A] (a:List[A]) : String =\n",
    "    a match{\n",
    "        case Empty => \"\"\n",
    "        case Cons(x, Empty) => print_val(x)\n",
    "        case Cons(x, xs) => print_val(x) + \", \" + print_list_helper_gen(xs)\n",
    "    }\n",
    "\n",
    "def print_val[A](a:A) : String =\n",
    "    a match {\n",
    "        case a : Nat => print_nat(a)\n",
    "        case _ => \"?\"\n",
    "    }\n",
    "\n",
    "print_list_helper_gen(12)\n",
    "\n"
   ]
  },
  {
   "cell_type": "code",
   "execution_count": null,
   "metadata": {},
   "outputs": [],
   "source": []
  }
 ],
 "metadata": {
  "kernelspec": {
   "display_name": "Scala",
   "language": "scala",
   "name": "scala"
  },
  "language_info": {
   "codemirror_mode": "text/x-scala",
   "file_extension": ".scala",
   "mimetype": "text/x-scala",
   "name": "scala",
   "nbconvert_exporter": "script",
   "version": "2.12.8"
  }
 },
 "nbformat": 4,
 "nbformat_minor": 2
}
