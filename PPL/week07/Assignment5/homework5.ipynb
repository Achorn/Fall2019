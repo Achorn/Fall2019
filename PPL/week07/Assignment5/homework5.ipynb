{
 "cells": [
  {
   "cell_type": "code",
   "execution_count": 1,
   "metadata": {
    "deletable": false,
    "editable": false,
    "nbgrader": {
     "checksum": "26c5a416fbe3346a4f31c11e8ce242d8",
     "grade": false,
     "grade_id": "cell-8a6c26fde7f1ca2a",
     "locked": true,
     "schema_version": 1,
     "solution": false
    }
   },
   "outputs": [
    {
     "data": {
      "text/plain": [
       "\u001b[32mimport \u001b[39m\u001b[36m$file.$        \n",
       "\u001b[39m\n",
       "\u001b[32mimport \u001b[39m\u001b[36mhw5stdlib._\u001b[39m"
      ]
     },
     "execution_count": 1,
     "metadata": {},
     "output_type": "execute_result"
    }
   ],
   "source": [
    "import $file.hw5stdlib\n",
    "import hw5stdlib._"
   ]
  },
  {
   "cell_type": "markdown",
   "metadata": {
    "deletable": false,
    "editable": false,
    "nbgrader": {
     "checksum": "d15236e9214361bd059d1900b1f97535",
     "grade": false,
     "grade_id": "cell-31b079288d90dc51",
     "locked": true,
     "schema_version": 1,
     "solution": false
    }
   },
   "source": [
    "# Homework 5\n",
    "\n",
    "In this assignment we will develop some helpful structures for building the next interpreter.\n"
   ]
  },
  {
   "cell_type": "markdown",
   "metadata": {
    "deletable": false,
    "editable": false,
    "nbgrader": {
     "checksum": "6041d2f56fe50ff1c25aa0749d72f5c3",
     "grade": false,
     "grade_id": "cell-405b57b28eb4f0f0",
     "locked": true,
     "schema_version": 1,
     "solution": false
    }
   },
   "source": [
    "## Dictionaries\n",
    "\n",
    "We will need to define the datatype $\\texttt{Dictionary}$ before we write the first interpreter for lettuce. We'll begin by giving the definition below:\n",
    "\n",
    "$$\n",
    "\\begin{aligned}\n",
    "\\textbf{Dictionary}\\ A\\ B\\ ::&= \\text{EmptyDict} \\\\\n",
    "&\\mid\\ \\text{Entry}\\ A\\ B\\ (\\textbf{Dictionary}\\ A\\ B)\n",
    "\\end{aligned}\n",
    "$$\n",
    "\n",
    "This will create dictionaries of key-value pairs which will be very useful for implementing contexts in the next homework assignment. The definition of this type in Scala is given below:"
   ]
  },
  {
   "cell_type": "code",
   "execution_count": 2,
   "metadata": {
    "deletable": false,
    "nbgrader": {
     "checksum": "3105b197651d01ef74d17e1090120662",
     "grade": false,
     "grade_id": "cell-c777fe8e435f2d12",
     "locked": false,
     "schema_version": 1,
     "solution": true
    }
   },
   "outputs": [
    {
     "data": {
      "text/plain": [
       "defined \u001b[32mtrait\u001b[39m \u001b[36mDictionary\u001b[39m\n",
       "defined \u001b[32mobject\u001b[39m \u001b[36mEmptyDict\u001b[39m\n",
       "defined \u001b[32mclass\u001b[39m \u001b[36mEntry\u001b[39m"
      ]
     },
     "execution_count": 2,
     "metadata": {},
     "output_type": "execute_result"
    }
   ],
   "source": [
    "// YOUR CODE HERE\n",
    "sealed trait Dictionary[+A, +B]\n",
    "case object EmptyDict extends Dictionary[Nothing, Nothing]\n",
    "case class Entry[A,B](cur : A, b : B, pred : Dictionary[A,B]) extends Dictionary[A,B]"
   ]
  },
  {
   "cell_type": "markdown",
   "metadata": {
    "deletable": false,
    "editable": false,
    "nbgrader": {
     "checksum": "6cfc22cb6202cc8638cddeee5bac3de6",
     "grade": false,
     "grade_id": "cell-ad23f96fb3d4306c",
     "locked": true,
     "schema_version": 1,
     "solution": false
    }
   },
   "source": [
    "For both of the following functions you will need to provide a parameter for an equality-checking function. This is so we can check if keys are equal to eachother"
   ]
  },
  {
   "cell_type": "markdown",
   "metadata": {
    "deletable": false,
    "editable": false,
    "nbgrader": {
     "checksum": "18d825a305a619991239eee3993e3f56",
     "grade": false,
     "grade_id": "cell-66dfe694215bd90c",
     "locked": true,
     "schema_version": 1,
     "solution": false
    }
   },
   "source": [
    "### Membership(In) (5pts)\n",
    "\n",
    "Write a function called `isIn` which returns `True` if the Dictionary contains a given key and `False` if it does not."
   ]
  },
  {
   "cell_type": "code",
   "execution_count": 3,
   "metadata": {
    "deletable": false,
    "nbgrader": {
     "checksum": "f7ca041dbeb6b3db1d8861fd44725757",
     "grade": false,
     "grade_id": "cell-23433950c52a6f5e",
     "locked": false,
     "schema_version": 1,
     "solution": true
    },
    "scrolled": true
   },
   "outputs": [
    {
     "data": {
      "text/plain": [
       "defined \u001b[32mfunction\u001b[39m \u001b[36misIn\u001b[39m"
      ]
     },
     "execution_count": 3,
     "metadata": {},
     "output_type": "execute_result"
    }
   ],
   "source": [
    "// YOUR CODE HERE\n",
    "def isIn[A,B](f:((A,A)=> Bool), dic : Dictionary[A,B], key : A ): Bool = dic match{\n",
    "    case EmptyDict => False\n",
    "    case Entry(n,b,dic) => f(n,key) match{\n",
    "        case True => True\n",
    "        case False => isIn(f,dic,key)\n",
    "    }\n",
    "}"
   ]
  },
  {
   "cell_type": "code",
   "execution_count": 4,
   "metadata": {
    "deletable": false,
    "editable": false,
    "nbgrader": {
     "checksum": "57f28f8df8b6b64825de2570416fabf3",
     "grade": true,
     "grade_id": "cell-4972a9f7ef5db900",
     "locked": true,
     "points": 5,
     "schema_version": 1,
     "solution": false
    }
   },
   "outputs": [
    {
     "name": "stdout",
     "output_type": "stream",
     "text": [
      "\n",
      "*** Tests Passed (5 points) ***\n"
     ]
    }
   ],
   "source": [
    "assert(isIn(nat_eq, Entry(five, True, EmptyDict), five) == True)\n",
    "assert(isIn(nat_eq, Entry(eight, True, Entry(five, True, EmptyDict)), five) == True)\n",
    "assert(isIn(nat_eq, Entry(five, True, EmptyDict), six) == False)\n",
    "assert(isIn(nat_eq, EmptyDict, seven) == False)\n",
    "passed(5)"
   ]
  },
  {
   "cell_type": "markdown",
   "metadata": {
    "deletable": false,
    "editable": false,
    "nbgrader": {
     "checksum": "300a1376511bdfd6ec471956d47c9358",
     "grade": false,
     "grade_id": "cell-9d21f17378934765",
     "locked": true,
     "schema_version": 1,
     "solution": false
    }
   },
   "source": [
    "### Lookup (5 pts)\n",
    "\n",
    "Write a function that retrieves a value that corresponds to a key in a dictionary. If the key is not in the map then return Nothing.\n",
    "\n",
    "$$\n",
    "\\texttt{lookup} : (a \\rightarrow a \\rightarrow \\mathbb{B}) \\rightarrow \\texttt{Dict}\\ a\\ b \\rightarrow a \\rightarrow \\texttt{Maybe}\\ b\n",
    "$$"
   ]
  },
  {
   "cell_type": "code",
   "execution_count": 5,
   "metadata": {
    "deletable": false,
    "nbgrader": {
     "checksum": "a0c3e7ac22e3cf46f534d356a4a8c646",
     "grade": false,
     "grade_id": "cell-2753a17919e5caa9",
     "locked": false,
     "schema_version": 1,
     "solution": true
    }
   },
   "outputs": [
    {
     "data": {
      "text/plain": [
       "defined \u001b[32mfunction\u001b[39m \u001b[36mlookup\u001b[39m"
      ]
     },
     "execution_count": 5,
     "metadata": {},
     "output_type": "execute_result"
    }
   ],
   "source": [
    "// YOUR CODE HERE\n",
    "def lookup[A,B](f:((A,A)=>Bool), dic : Dictionary[A,B], key : A) : Maybe[B] = dic match{\n",
    "    case EmptyDict => None\n",
    "    case Entry(k,v,dic) => f(k,key) match{\n",
    "        case True => Just(v)\n",
    "        case False => lookup(f,dic,key)\n",
    "    }    \n",
    "}"
   ]
  },
  {
   "cell_type": "code",
   "execution_count": 6,
   "metadata": {
    "deletable": false,
    "editable": false,
    "nbgrader": {
     "checksum": "f1319b0615cbfe3437fc395b32dad172",
     "grade": true,
     "grade_id": "cell-efcc8fd55430e3cc",
     "locked": true,
     "points": 5,
     "schema_version": 1,
     "solution": false
    }
   },
   "outputs": [
    {
     "name": "stdout",
     "output_type": "stream",
     "text": [
      "\n",
      "*** Tests Passed (5 points) ***\n"
     ]
    }
   ],
   "source": [
    "assert(lookup(nat_eq, Entry(five, \"ham\", EmptyDict), five) == Just(\"ham\"))\n",
    "assert(lookup(nat_eq, Entry(eight, seven, Entry(five, three, EmptyDict)), five) == Just(three))\n",
    "assert(lookup(nat_eq, Entry(five, True, EmptyDict), six) == None)\n",
    "assert(lookup(nat_eq, EmptyDict, seven) == None)\n",
    "passed(5)"
   ]
  },
  {
   "cell_type": "markdown",
   "metadata": {
    "deletable": false,
    "editable": false,
    "nbgrader": {
     "checksum": "b96e2f974d9347a4583b6bfcebe49d7b",
     "grade": false,
     "grade_id": "cell-0bf168c166e56981",
     "locked": true,
     "schema_version": 1,
     "solution": false
    }
   },
   "source": [
    "### Practice using these functions (5 pts)\n",
    "#### Part A\n",
    "Create the following dictionary as a scala value using this definition:\n",
    "```\n",
    "{\n",
    "    five: True,\n",
    "    six: False,\n",
    "    seven: False\n",
    "}\n",
    "```\n",
    "Place it in a variable named \"`ans_3a`\""
   ]
  },
  {
   "cell_type": "code",
   "execution_count": 7,
   "metadata": {
    "deletable": false,
    "nbgrader": {
     "checksum": "d829775e5535404808bc49ec03e6dcbd",
     "grade": false,
     "grade_id": "cell-d081675d6d53a9cc",
     "locked": false,
     "schema_version": 1,
     "solution": true
    }
   },
   "outputs": [
    {
     "data": {
      "text/plain": [
       "\u001b[36mans_3a\u001b[39m: \u001b[32mEntry\u001b[39m[\u001b[32mSucc\u001b[39m, \u001b[32mProduct\u001b[39m with \u001b[32mSerializable\u001b[39m with \u001b[32mBool\u001b[39m] = \u001b[33mEntry\u001b[39m(\n",
       "  \u001b[33mSucc\u001b[39m(\u001b[33mSucc\u001b[39m(\u001b[33mSucc\u001b[39m(\u001b[33mSucc\u001b[39m(\u001b[33mSucc\u001b[39m(Zero))))),\n",
       "  True,\n",
       "  \u001b[33mEntry\u001b[39m(\n",
       "    \u001b[33mSucc\u001b[39m(\u001b[33mSucc\u001b[39m(\u001b[33mSucc\u001b[39m(\u001b[33mSucc\u001b[39m(\u001b[33mSucc\u001b[39m(\u001b[33mSucc\u001b[39m(Zero)))))),\n",
       "    False,\n",
       "    \u001b[33mEntry\u001b[39m(\u001b[33mSucc\u001b[39m(\u001b[33mSucc\u001b[39m(\u001b[33mSucc\u001b[39m(\u001b[33mSucc\u001b[39m(\u001b[33mSucc\u001b[39m(\u001b[33mSucc\u001b[39m(\u001b[33mSucc\u001b[39m(Zero))))))), False, EmptyDict)\n",
       "  )\n",
       ")"
      ]
     },
     "execution_count": 7,
     "metadata": {},
     "output_type": "execute_result"
    }
   ],
   "source": [
    "// Solution should look like `val ans3 = ???`\n",
    "// YOUR CODE HERE\n",
    "val ans_3a = Entry(five, True, Entry(six, False, Entry(seven, False, EmptyDict)))"
   ]
  },
  {
   "cell_type": "code",
   "execution_count": 8,
   "metadata": {
    "deletable": false,
    "editable": false,
    "nbgrader": {
     "checksum": "c6e502910cbf76810b56a7eda3dd546c",
     "grade": true,
     "grade_id": "cell-14d49877afa79bb3",
     "locked": true,
     "points": 2,
     "schema_version": 1,
     "solution": false
    }
   },
   "outputs": [
    {
     "name": "stdout",
     "output_type": "stream",
     "text": [
      "\n",
      "*** Tests Passed (2 points) ***\n"
     ]
    }
   ],
   "source": [
    "assert(lookup(nat_eq, ans_3a, five) == Just(True))\n",
    "assert(lookup(nat_eq, ans_3a, six) == Just(False))\n",
    "assert(lookup(nat_eq, ans_3a, seven) == Just(False))\n",
    "passed(2)"
   ]
  },
  {
   "cell_type": "markdown",
   "metadata": {
    "deletable": false,
    "editable": false,
    "nbgrader": {
     "checksum": "413a87cde010ce6fa1adc83e4530d89e",
     "grade": false,
     "grade_id": "cell-e2c494340abb6706",
     "locked": true,
     "schema_version": 1,
     "solution": false
    }
   },
   "source": [
    "#### Part B\n",
    "For the following, use the super secret `secret_dict` variable defined below. Use the functions you just defined to complete the following:\n",
    "\n",
    "1. Look up the value mapped by key `Positive(one)` and place it in variable `ans_3b1` \n",
    "2. Look up the value mapped by key `Positive(three)` and place it in variable `ans_3b2`\n",
    "3. Check whether the key `Negative(three)` is in the map and place True or False in variable `ans_3b3`\n",
    "4. Check whether the key `Negative(one)` is in the map and place True or False in variable `ans_3b4`\n",
    "\n",
    "\n",
    "**Note**: For 1 and 2 remember to extract it from the maybe type, set the variable to the string `\"does not exist\"` if you get `None` instead of `Just(x)`."
   ]
  },
  {
   "cell_type": "code",
   "execution_count": 9,
   "metadata": {
    "deletable": false,
    "editable": false,
    "nbgrader": {
     "checksum": "28d7ea94ce35a682bdc252620797949a",
     "grade": false,
     "grade_id": "cell-367a2b37f5710beb",
     "locked": true,
     "schema_version": 1,
     "solution": false
    }
   },
   "outputs": [
    {
     "data": {
      "text/plain": [
       "\u001b[36msecret_dict\u001b[39m: \u001b[32mEntry\u001b[39m[\u001b[32mProduct\u001b[39m with \u001b[32mSerializable\u001b[39m with \u001b[32mInteger\u001b[39m, \u001b[32mString\u001b[39m] = \u001b[33mEntry\u001b[39m(\n",
       "  \u001b[33mPositive\u001b[39m(\u001b[33mSucc\u001b[39m(\u001b[33mSucc\u001b[39m(\u001b[33mSucc\u001b[39m(Zero)))),\n",
       "  \u001b[32m\"abc\"\u001b[39m,\n",
       "  \u001b[33mEntry\u001b[39m(\n",
       "    \u001b[33mNegative\u001b[39m(\u001b[33mSucc\u001b[39m(Zero)),\n",
       "    \u001b[32m\"xyz\"\u001b[39m,\n",
       "    \u001b[33mEntry\u001b[39m(\u001b[33mPositive\u001b[39m(\u001b[33mSucc\u001b[39m(Zero)), \u001b[32m\"MIB\"\u001b[39m, EmptyDict)\n",
       "  )\n",
       ")"
      ]
     },
     "execution_count": 9,
     "metadata": {},
     "output_type": "execute_result"
    }
   ],
   "source": [
    "val secret_dict = Entry(Positive(three), \"abc\",\n",
    "                        Entry(Negative(one), \"xyz\",\n",
    "                              Entry(Positive(one), \"MIB\", EmptyDict)))"
   ]
  },
  {
   "cell_type": "code",
   "execution_count": 10,
   "metadata": {
    "deletable": false,
    "nbgrader": {
     "checksum": "dab83953838b2c29c3666c8ed44f4399",
     "grade": false,
     "grade_id": "cell-41d83bd054b1372a",
     "locked": false,
     "schema_version": 1,
     "solution": true
    }
   },
   "outputs": [
    {
     "data": {
      "text/html": [
       "<div class=\"jp-RenderedText\">\n",
       "<pre><code>defined <span style=\"color: rgb(0, 187, 0)\"><span class=\"ansi-green-fg\">function</span></span> <span style=\"color: rgb(0, 187, 187)\"><span class=\"ansi-cyan-fg\">pull</span></span>\n",
       "<span style=\"color: rgb(0, 187, 187)\"><span class=\"ansi-cyan-fg\">ans_3b1</span></span>: <span style=\"color: rgb(0, 187, 0)\"><span class=\"ansi-green-fg\">String</span></span> = <span style=\"color: rgb(0, 187, 0)\"><span class=\"ansi-green-fg\">&quot;MIB&quot;</span></span>\n",
       "<span style=\"color: rgb(0, 187, 187)\"><span class=\"ansi-cyan-fg\">ans_3b2</span></span>: <span style=\"color: rgb(0, 187, 0)\"><span class=\"ansi-green-fg\">String</span></span> = <span style=\"color: rgb(0, 187, 0)\"><span class=\"ansi-green-fg\">&quot;abc&quot;</span></span>\n",
       "<span style=\"color: rgb(0, 187, 187)\"><span class=\"ansi-cyan-fg\">ans_3b3</span></span>: <span style=\"color: rgb(0, 187, 0)\"><span class=\"ansi-green-fg\">Bool</span></span> = False\n",
       "<span style=\"color: rgb(0, 187, 187)\"><span class=\"ansi-cyan-fg\">ans_3b4</span></span>: <span style=\"color: rgb(0, 187, 0)\"><span class=\"ansi-green-fg\">Bool</span></span> = True</code></pre>\n",
       "</div>"
      ],
      "text/plain": [
       "defined \u001b[32mfunction\u001b[39m \u001b[36mpull\u001b[39m\n",
       "\u001b[36mans_3b1\u001b[39m: \u001b[32mString\u001b[39m = \u001b[32m\"MIB\"\u001b[39m\n",
       "\u001b[36mans_3b2\u001b[39m: \u001b[32mString\u001b[39m = \u001b[32m\"abc\"\u001b[39m\n",
       "\u001b[36mans_3b3\u001b[39m: \u001b[32mBool\u001b[39m = False\n",
       "\u001b[36mans_3b4\u001b[39m: \u001b[32mBool\u001b[39m = True"
      ]
     },
     "metadata": {},
     "output_type": "display_data"
    }
   ],
   "source": [
    "// YOUR CODE HERE\n",
    "def pull[A](x:Maybe[A]) : String = x match{\n",
    "    case None => \"does not exist\"\n",
    "    case Just(x) => x.toString()\n",
    "}\n",
    "\n",
    "var ans_3b1 = pull(lookup(int_eq, secret_dict, Positive(one)))\n",
    "var ans_3b2 = pull(lookup(int_eq, secret_dict, Positive(three)))\n",
    "var ans_3b3 = isIn(int_eq, secret_dict, Negative(three))\n",
    "var ans_3b4 = isIn(int_eq, secret_dict, Negative(one))"
   ]
  },
  {
   "cell_type": "code",
   "execution_count": 12,
   "metadata": {
    "deletable": false,
    "editable": false,
    "nbgrader": {
     "checksum": "fbbcb5a04433ff1ef3f714e664962557",
     "grade": true,
     "grade_id": "cell-0ffa542d701f8f36",
     "locked": true,
     "points": 3,
     "schema_version": 1,
     "solution": false
    }
   },
   "outputs": [],
   "source": [
    "// Hidden tests (3 pts)"
   ]
  },
  {
   "cell_type": "code",
   "execution_count": null,
   "metadata": {},
   "outputs": [],
   "source": []
  },
  {
   "cell_type": "code",
   "execution_count": null,
   "metadata": {},
   "outputs": [],
   "source": []
  },
  {
   "cell_type": "code",
   "execution_count": null,
   "metadata": {},
   "outputs": [],
   "source": []
  },
  {
   "cell_type": "code",
   "execution_count": null,
   "metadata": {},
   "outputs": [],
   "source": []
  },
  {
   "cell_type": "code",
   "execution_count": null,
   "metadata": {},
   "outputs": [],
   "source": []
  },
  {
   "cell_type": "code",
   "execution_count": null,
   "metadata": {},
   "outputs": [],
   "source": []
  },
  {
   "cell_type": "code",
   "execution_count": null,
   "metadata": {},
   "outputs": [],
   "source": []
  },
  {
   "cell_type": "code",
   "execution_count": null,
   "metadata": {},
   "outputs": [],
   "source": []
  },
  {
   "cell_type": "code",
   "execution_count": null,
   "metadata": {},
   "outputs": [],
   "source": []
  },
  {
   "cell_type": "code",
   "execution_count": null,
   "metadata": {},
   "outputs": [],
   "source": []
  },
  {
   "cell_type": "code",
   "execution_count": null,
   "metadata": {},
   "outputs": [],
   "source": []
  },
  {
   "cell_type": "code",
   "execution_count": null,
   "metadata": {},
   "outputs": [],
   "source": []
  },
  {
   "cell_type": "code",
   "execution_count": null,
   "metadata": {},
   "outputs": [],
   "source": []
  },
  {
   "cell_type": "code",
   "execution_count": null,
   "metadata": {},
   "outputs": [],
   "source": []
  },
  {
   "cell_type": "code",
   "execution_count": null,
   "metadata": {},
   "outputs": [],
   "source": []
  },
  {
   "cell_type": "code",
   "execution_count": null,
   "metadata": {},
   "outputs": [],
   "source": []
  },
  {
   "cell_type": "code",
   "execution_count": null,
   "metadata": {},
   "outputs": [],
   "source": []
  },
  {
   "cell_type": "code",
   "execution_count": null,
   "metadata": {},
   "outputs": [],
   "source": []
  },
  {
   "cell_type": "code",
   "execution_count": null,
   "metadata": {},
   "outputs": [],
   "source": []
  },
  {
   "cell_type": "code",
   "execution_count": null,
   "metadata": {},
   "outputs": [],
   "source": []
  },
  {
   "cell_type": "code",
   "execution_count": null,
   "metadata": {},
   "outputs": [],
   "source": []
  },
  {
   "cell_type": "code",
   "execution_count": null,
   "metadata": {},
   "outputs": [],
   "source": []
  },
  {
   "cell_type": "code",
   "execution_count": null,
   "metadata": {},
   "outputs": [],
   "source": []
  },
  {
   "cell_type": "code",
   "execution_count": null,
   "metadata": {},
   "outputs": [],
   "source": []
  },
  {
   "cell_type": "code",
   "execution_count": null,
   "metadata": {},
   "outputs": [],
   "source": []
  },
  {
   "cell_type": "code",
   "execution_count": null,
   "metadata": {},
   "outputs": [],
   "source": []
  },
  {
   "cell_type": "code",
   "execution_count": null,
   "metadata": {},
   "outputs": [],
   "source": []
  },
  {
   "cell_type": "code",
   "execution_count": null,
   "metadata": {},
   "outputs": [],
   "source": []
  },
  {
   "cell_type": "code",
   "execution_count": null,
   "metadata": {},
   "outputs": [],
   "source": []
  },
  {
   "cell_type": "code",
   "execution_count": null,
   "metadata": {},
   "outputs": [],
   "source": []
  },
  {
   "cell_type": "code",
   "execution_count": null,
   "metadata": {},
   "outputs": [],
   "source": []
  },
  {
   "cell_type": "code",
   "execution_count": null,
   "metadata": {},
   "outputs": [],
   "source": []
  },
  {
   "cell_type": "code",
   "execution_count": null,
   "metadata": {},
   "outputs": [],
   "source": []
  },
  {
   "cell_type": "code",
   "execution_count": null,
   "metadata": {},
   "outputs": [],
   "source": []
  },
  {
   "cell_type": "code",
   "execution_count": null,
   "metadata": {},
   "outputs": [],
   "source": []
  },
  {
   "cell_type": "code",
   "execution_count": null,
   "metadata": {},
   "outputs": [],
   "source": []
  },
  {
   "cell_type": "code",
   "execution_count": null,
   "metadata": {},
   "outputs": [],
   "source": []
  },
  {
   "cell_type": "code",
   "execution_count": null,
   "metadata": {},
   "outputs": [],
   "source": []
  },
  {
   "cell_type": "code",
   "execution_count": null,
   "metadata": {},
   "outputs": [],
   "source": []
  },
  {
   "cell_type": "code",
   "execution_count": null,
   "metadata": {},
   "outputs": [],
   "source": []
  },
  {
   "cell_type": "code",
   "execution_count": null,
   "metadata": {},
   "outputs": [],
   "source": []
  },
  {
   "cell_type": "code",
   "execution_count": null,
   "metadata": {},
   "outputs": [],
   "source": []
  }
 ],
 "metadata": {
  "kernelspec": {
   "display_name": "Scala",
   "language": "scala",
   "name": "scala"
  },
  "language_info": {
   "codemirror_mode": "text/x-scala",
   "file_extension": ".scala",
   "mimetype": "text/x-scala",
   "name": "scala",
   "nbconvert_exporter": "script",
   "version": "2.12.8"
  }
 },
 "nbformat": 4,
 "nbformat_minor": 2
}
